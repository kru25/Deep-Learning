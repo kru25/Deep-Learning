{
 "cells": [
  {
   "cell_type": "code",
   "execution_count": 1,
   "metadata": {},
   "outputs": [],
   "source": [
    "#hide\n",
    "from fastai.vision.all import *\n",
    "from fastbook import *\n",
    "\n",
    "matplotlib.rc('image', cmap='Greys')"
   ]
  },
  {
   "cell_type": "markdown",
   "metadata": {},
   "source": [
    "Hello everyone,so in last chapter we discussed about an end to end process on building an Image\n",
    "Classifier Application which included data collection,data cleaning,building a model and then using\n",
    "that model to clean our data.We also learnt on saving our model and how to turn it into an application\n",
    "using voila.We also went through the risks associated with a deep learning project and how they can \n",
    "be avoided before deploying the model.\n",
    "In this chapter,we are going to discuss about training a digit classifier using baseline model,we\n",
    "will also learn about different operations on tensors and arrays in Pytorch,how to train a neural net\n",
    "work from scratch and some fundamentals of Neural net."
   ]
  },
  {
   "cell_type": "markdown",
   "metadata": {},
   "source": [
    "# Under the Hood: Training a Digit Classifier"
   ]
  },
  {
   "cell_type": "markdown",
   "metadata": {},
   "source": [
    "We saw previously about end to end project on deep learning.Now in this chapter we would explore more\n",
    "on computer vision and its basic concepts and tools for deep learning.\n",
    "We will also learn about tensors and arrays and how different operations are performed on them by \n",
    "broadcasting.We will discuss about basic terms such as gradient,loss function,updating weights,\n",
    "mini-batches,optimizer etc and how we can build them using scratch and how we put them together.\n",
    "In further chapters,we would learn more about specific examples.But this chapter would teach concepts\n",
    "of a basic neural network which is same for every deep learning application.So this chapter will lay\n",
    "foundations for every deep learning project we do in future.Here we will be mainly focusing on \n",
    "computer vision applications.\n",
    "Very first step towards it is how do we represent image..."
   ]
  },
  {
   "cell_type": "markdown",
   "metadata": {},
   "source": [
    "## Pixels: The Foundations of Computer Vision"
   ]
  },
  {
   "cell_type": "markdown",
   "metadata": {},
   "source": [
    "Previously we trained many Image Classifiers where input are Images.But we also know this fact that \n",
    "all ML and Deep learning algorithms accept only numerical data as input.So how do we convert images to\n",
    "numbers so that our models can accept it.To understand this we will be using the famous MNIST dataset\n",
    "which consists of Images of handwritten digits,collected by Yann Lecun.Lecun used it to develop a\n",
    "digit classifier system in 1998.He used lenet-5 architecture for the model.It is considered a very\n",
    "important benchmark in the history of Deep learning.\n"
   ]
  },
  {
   "cell_type": "markdown",
   "metadata": {},
   "source": [
    "## Sidebar: Tenacity and Deep Learning"
   ]
  },
  {
   "cell_type": "markdown",
   "metadata": {},
   "source": [
    "We have seen in the first Chapter about the history of neural networks and deep learning.Initial \n",
    "neural nets were simple and therefore did not give pathbreaking results.They were also very hyped back\n",
    "then.By 1990s and 2000s , they had lost all popularity and a handful of researchers were working on\n",
    "it.Geoffery Hinton, termed as \"Father of Deep learning\" along with 2 other researchers won the famous\n",
    "\"Turing Award\" in 2018 for his works in Machine Learning and Deep learning during the time when no one\n",
    "took interest in it and today we know its ruling the world.\n",
    "Most of his initial works were rejected and not recognized by scientific community just because they \n",
    "used neural networks.The digit classification using neural network which we will be studying in this \n",
    "chapter was also published till then but was not well accepted by researchers.Its surprising that it \n",
    "became an official method for recognizing checks during that time in US!!!.\n",
    "The Deep learning algorithms we study today is the result of years of hardwork by many researchers.\n",
    "Works such as long-short memory architectures(LSTM) and backpropogation for neural networks were \n",
    "ignored for decades but today they make foundations of the AI works going on WorldWide."
   ]
  },
  {
   "cell_type": "markdown",
   "metadata": {},
   "source": [
    "We get to learn a lot of things from these researchers who worked so hard to give world such wonderful\n",
    "and useful innovations.While learning deep learning we would face many difficulties and obviously we \n",
    "would fail.But we would keep trying with different models,different parameters and eventually we would\n",
    "succeed.So let us start with this Chapter!!!-"
   ]
  },
  {
   "cell_type": "markdown",
   "metadata": {},
   "source": [
    "## End sidebar"
   ]
  },
  {
   "cell_type": "markdown",
   "metadata": {},
   "source": [
    "So as we mentioned we would be working on the MNIST dataset consisting of images of hand written \n",
    "digits.For the ease here we are considering images of 3 and 7 only.So let us download a sample of this\n",
    "dataset containing images of these digits.."
   ]
  },
  {
   "cell_type": "code",
   "execution_count": 2,
   "metadata": {},
   "outputs": [],
   "source": [
    "#untar_data to download the path and decompress the images\n",
    "path = untar_data(URLs.MNIST_SAMPLE)"
   ]
  },
  {
   "cell_type": "code",
   "execution_count": 3,
   "metadata": {},
   "outputs": [],
   "source": [
    "#hide BASE_PATH attribute to identify root path\n",
    "Path.BASE_PATH = path"
   ]
  },
  {
   "cell_type": "markdown",
   "metadata": {},
   "source": [
    "We can see what is inside the directory using ls method provided by fastai.It returns the object of\n",
    "class L(like list).It provides the count of items and also the names of the items in the object."
   ]
  },
  {
   "cell_type": "code",
   "execution_count": 4,
   "metadata": {},
   "outputs": [
    {
     "data": {
      "text/plain": [
       "pathlib.WindowsPath"
      ]
     },
     "execution_count": 4,
     "metadata": {},
     "output_type": "execute_result"
    }
   ],
   "source": [
    "type(path)#pathlib path object Part of Python Standard library"
   ]
  },
  {
   "cell_type": "code",
   "execution_count": 5,
   "metadata": {},
   "outputs": [
    {
     "ename": "SyntaxError",
     "evalue": "invalid syntax (<ipython-input-5-9afc40ab5db7>, line 1)",
     "output_type": "error",
     "traceback": [
      "\u001b[1;36m  File \u001b[1;32m\"<ipython-input-5-9afc40ab5db7>\"\u001b[1;36m, line \u001b[1;32m1\u001b[0m\n\u001b[1;33m    path.ls? #ls-part of fastcore library(Foundations from fast.ai)\u001b[0m\n\u001b[1;37m           ^\u001b[0m\n\u001b[1;31mSyntaxError\u001b[0m\u001b[1;31m:\u001b[0m invalid syntax\n"
     ]
    }
   ],
   "source": [
    "path.ls? #ls-part of fastcore library(Foundations from fast.ai)"
   ]
  },
  {
   "cell_type": "code",
   "execution_count": 6,
   "metadata": {},
   "outputs": [
    {
     "data": {
      "text/plain": [
       "(#3) [Path('labels.csv'),Path('train'),Path('valid')]"
      ]
     },
     "execution_count": 6,
     "metadata": {},
     "output_type": "execute_result"
    }
   ],
   "source": [
    "#Folders present in the path/downloaded dataset\n",
    "path.ls()\n",
    "#Using ls method we see the list of directories or folders in the path."
   ]
  },
  {
   "cell_type": "markdown",
   "metadata": {},
   "source": [
    "So our sample dataset consists of three files:training set,validation set and a labels file."
   ]
  },
  {
   "cell_type": "code",
   "execution_count": 7,
   "metadata": {},
   "outputs": [
    {
     "data": {
      "text/plain": [
       "(#2) [Path('train/3'),Path('train/7')]"
      ]
     },
     "execution_count": 7,
     "metadata": {},
     "output_type": "execute_result"
    }
   ],
   "source": [
    "#Shows the contents of train set\n",
    "(path/'train').ls()"
   ]
  },
  {
   "cell_type": "markdown",
   "metadata": {},
   "source": [
    "As we mentioned earlier we will be using images of 3s and 7s so our training set consists of two \n",
    "folders containing images of 3 and 7s."
   ]
  },
  {
   "cell_type": "code",
   "execution_count": 8,
   "metadata": {},
   "outputs": [
    {
     "data": {
      "text/plain": [
       "(#6131) [Path('train/3/10.png'),Path('train/3/10000.png'),Path('train/3/10011.png'),Path('train/3/10031.png'),Path('train/3/10034.png'),Path('train/3/10042.png'),Path('train/3/10052.png'),Path('train/3/1007.png'),Path('train/3/10074.png'),Path('train/3/10091.png')...]"
      ]
     },
     "execution_count": 8,
     "metadata": {},
     "output_type": "execute_result"
    }
   ],
   "source": [
    "#Storing the images sorted in different variables\n",
    "threes = (path/'train'/'3').ls().sorted()#Contains sorted contents of 3\n",
    "sevens = (path/'train'/'7').ls().sorted()#Contains sorted contents of 7\n",
    "threes\n",
    "#We saw the contents of the 3 and 7 folders in training set and all of them are images."
   ]
  },
  {
   "cell_type": "markdown",
   "metadata": {},
   "source": [
    "Next we display one of the images in the 3s dataset using the path.We used PIL(Python Imaging Library)\n",
    "to store the image and display the image.We use Image class from PIL,it is the most common Python\n",
    "Package for working with Images."
   ]
  },
  {
   "cell_type": "code",
   "execution_count": 9,
   "metadata": {},
   "outputs": [
    {
     "data": {
      "image/png": "[encoded data removed]",
      "text/plain": [
       "<PIL.PngImagePlugin.PngImageFile image mode=L size=28x28 at 0x206596EEC70>"
      ]
     },
     "execution_count": 9,
     "metadata": {},
     "output_type": "execute_result"
    }
   ],
   "source": [
    "im3_path = threes[1] #storing the path for one image in threes variable\n",
    "im3 = Image.open(im3_path) #displays the image of the digit PIL=Python Imaging Library\n",
    "im3"
   ]
  },
  {
   "cell_type": "markdown",
   "metadata": {},
   "source": [
    "As we had discussed earlier that we cannot pass images in \"jpg/png\" format directly through the ML or\n",
    "Deep learning algorithms , we can only pass numbers.So how do we get Images in number format!!.\n",
    "We very well know that computer saves everything in form of numbers so it also views images as nos.It\n",
    "To view the numbers which form an image we convert it into a Numpy Array or Pytorch Tensor.Both have\n",
    " same properties except the fact that numpy arrays work well on CPU while tensors are particularly \n",
    "used in GPU.So let us convert a part of image into array"
   ]
  },
  {
   "cell_type": "code",
   "execution_count": 10,
   "metadata": {},
   "outputs": [
    {
     "data": {
      "text/plain": [
       "array([[  0,   0,   0,   0,   0,   0],\n",
       "       [  0,   0,   0,   0,   0,  29],\n",
       "       [  0,   0,   0,  48, 166, 224],\n",
       "       [  0,  93, 244, 249, 253, 187],\n",
       "       [  0, 107, 253, 253, 230,  48],\n",
       "       [  0,   3,  20,  20,  15,   0]], dtype=uint8)"
      ]
     },
     "execution_count": 10,
     "metadata": {},
     "output_type": "execute_result"
    }
   ],
   "source": [
    "#Passing image onto array so as to get the pixels or features\n",
    "array(im3)[4:10,4:10]"
   ]
  },
  {
   "cell_type": "markdown",
   "metadata": {},
   "source": [
    "The indexing [4:10,4:10] indicates the features from 4th row(including) till 10th row(excluded).And \n",
    "the same is applied for columns.The first index refers to rows and second refers to columns.Row \n",
    "indexes from top to bottom and column from left to right...Pytorch Tensors also follow the same format"
   ]
  },
  {
   "cell_type": "code",
   "execution_count": 11,
   "metadata": {},
   "outputs": [
    {
     "data": {
      "text/plain": [
       "tensor([[  0,   0,   0,   0,   0,   0],\n",
       "        [  0,   0,   0,   0,   0,  29],\n",
       "        [  0,   0,   0,  48, 166, 224],\n",
       "        [  0,  93, 244, 249, 253, 187],\n",
       "        [  0, 107, 253, 253, 230,  48],\n",
       "        [  0,   3,  20,  20,  15,   0]], dtype=torch.uint8)"
      ]
     },
     "execution_count": 11,
     "metadata": {},
     "output_type": "execute_result"
    }
   ],
   "source": [
    "#passing image onto a tensor so as to get the pixels or features\n",
    "#tensor is similar to arrays just that they have more functionality and the computations are faster \n",
    "#and easier and can be done on GPU\n",
    "tensor(im3)[4:10,4:10]#passing image through tensors."
   ]
  },
  {
   "cell_type": "markdown",
   "metadata": {},
   "source": [
    "Here we are using tensors to pick up the pixels(numerical features) in the image and then we slice a \n",
    "part and pass the same through DataFrame.DataFrame is again one of the most widely used Pandas object\n",
    "used for data processing and manipulation.Here we use it to color code the values using gradient.\n",
    "Dataframe has this functionality and this shows how images are created using pixel values."
   ]
  },
  {
   "cell_type": "markdown",
   "metadata": {},
   "source": [
    "The values are coded in a gradient from white to black.Since the pixel values range from 0 to 255,so \n",
    "0 represents white and then with pixel value increase the color becomes dark so 255 represents dark."
   ]
  },
  {
   "cell_type": "code",
   "execution_count": 12,
   "metadata": {},
   "outputs": [
    {
     "data": {
      "text/html": [
       "<style  type=\"text/css\" >\n",
       "#T_689745b7_23e2_11eb_a8ec_afdbc3122090row0_col0,#T_689745b7_23e2_11eb_a8ec_afdbc3122090row0_col1,#T_689745b7_23e2_11eb_a8ec_afdbc3122090row0_col2,#T_689745b7_23e2_11eb_a8ec_afdbc3122090row0_col3,#T_689745b7_23e2_11eb_a8ec_afdbc3122090row0_col4,#T_689745b7_23e2_11eb_a8ec_afdbc3122090row0_col5,#T_689745b7_23e2_11eb_a8ec_afdbc3122090row0_col6,#T_689745b7_23e2_11eb_a8ec_afdbc3122090row0_col7,#T_689745b7_23e2_11eb_a8ec_afdbc3122090row0_col8,#T_689745b7_23e2_11eb_a8ec_afdbc3122090row0_col9,#T_689745b7_23e2_11eb_a8ec_afdbc3122090row0_col10,#T_689745b7_23e2_11eb_a8ec_afdbc3122090row0_col11,#T_689745b7_23e2_11eb_a8ec_afdbc3122090row0_col12,#T_689745b7_23e2_11eb_a8ec_afdbc3122090row0_col13,#T_689745b7_23e2_11eb_a8ec_afdbc3122090row0_col14,#T_689745b7_23e2_11eb_a8ec_afdbc3122090row0_col15,#T_689745b7_23e2_11eb_a8ec_afdbc3122090row0_col16,#T_689745b7_23e2_11eb_a8ec_afdbc3122090row0_col17,#T_689745b7_23e2_11eb_a8ec_afdbc3122090row1_col0,#T_689745b7_23e2_11eb_a8ec_afdbc3122090row1_col1,#T_689745b7_23e2_11eb_a8ec_afdbc3122090row1_col2,#T_689745b7_23e2_11eb_a8ec_afdbc3122090row1_col3,#T_689745b7_23e2_11eb_a8ec_afdbc3122090row1_col4,#T_689745b7_23e2_11eb_a8ec_afdbc3122090row1_col15,#T_689745b7_23e2_11eb_a8ec_afdbc3122090row1_col16,#T_689745b7_23e2_11eb_a8ec_afdbc3122090row1_col17,#T_689745b7_23e2_11eb_a8ec_afdbc3122090row2_col0,#T_689745b7_23e2_11eb_a8ec_afdbc3122090row2_col1,#T_689745b7_23e2_11eb_a8ec_afdbc3122090row2_col2,#T_689745b7_23e2_11eb_a8ec_afdbc3122090row2_col15,#T_689745b7_23e2_11eb_a8ec_afdbc3122090row2_col16,#T_689745b7_23e2_11eb_a8ec_afdbc3122090row2_col17,#T_689745b7_23e2_11eb_a8ec_afdbc3122090row3_col0,#T_689745b7_23e2_11eb_a8ec_afdbc3122090row3_col15,#T_689745b7_23e2_11eb_a8ec_afdbc3122090row3_col16,#T_689745b7_23e2_11eb_a8ec_afdbc3122090row3_col17,#T_689745b7_23e2_11eb_a8ec_afdbc3122090row4_col0,#T_689745b7_23e2_11eb_a8ec_afdbc3122090row4_col6,#T_689745b7_23e2_11eb_a8ec_afdbc3122090row4_col7,#T_689745b7_23e2_11eb_a8ec_afdbc3122090row4_col8,#T_689745b7_23e2_11eb_a8ec_afdbc3122090row4_col9,#T_689745b7_23e2_11eb_a8ec_afdbc3122090row4_col10,#T_689745b7_23e2_11eb_a8ec_afdbc3122090row4_col15,#T_689745b7_23e2_11eb_a8ec_afdbc3122090row4_col16,#T_689745b7_23e2_11eb_a8ec_afdbc3122090row4_col17,#T_689745b7_23e2_11eb_a8ec_afdbc3122090row5_col0,#T_689745b7_23e2_11eb_a8ec_afdbc3122090row5_col5,#T_689745b7_23e2_11eb_a8ec_afdbc3122090row5_col6,#T_689745b7_23e2_11eb_a8ec_afdbc3122090row5_col7,#T_689745b7_23e2_11eb_a8ec_afdbc3122090row5_col8,#T_689745b7_23e2_11eb_a8ec_afdbc3122090row5_col9,#T_689745b7_23e2_11eb_a8ec_afdbc3122090row5_col15,#T_689745b7_23e2_11eb_a8ec_afdbc3122090row5_col16,#T_689745b7_23e2_11eb_a8ec_afdbc3122090row5_col17,#T_689745b7_23e2_11eb_a8ec_afdbc3122090row6_col0,#T_689745b7_23e2_11eb_a8ec_afdbc3122090row6_col1,#T_689745b7_23e2_11eb_a8ec_afdbc3122090row6_col2,#T_689745b7_23e2_11eb_a8ec_afdbc3122090row6_col3,#T_689745b7_23e2_11eb_a8ec_afdbc3122090row6_col4,#T_689745b7_23e2_11eb_a8ec_afdbc3122090row6_col5,#T_689745b7_23e2_11eb_a8ec_afdbc3122090row6_col6,#T_689745b7_23e2_11eb_a8ec_afdbc3122090row6_col7,#T_689745b7_23e2_11eb_a8ec_afdbc3122090row6_col8,#T_689745b7_23e2_11eb_a8ec_afdbc3122090row6_col9,#T_689745b7_23e2_11eb_a8ec_afdbc3122090row6_col14,#T_689745b7_23e2_11eb_a8ec_afdbc3122090row6_col15,#T_689745b7_23e2_11eb_a8ec_afdbc3122090row6_col16,#T_689745b7_23e2_11eb_a8ec_afdbc3122090row6_col17,#T_689745b7_23e2_11eb_a8ec_afdbc3122090row7_col0,#T_689745b7_23e2_11eb_a8ec_afdbc3122090row7_col1,#T_689745b7_23e2_11eb_a8ec_afdbc3122090row7_col2,#T_689745b7_23e2_11eb_a8ec_afdbc3122090row7_col3,#T_689745b7_23e2_11eb_a8ec_afdbc3122090row7_col4,#T_689745b7_23e2_11eb_a8ec_afdbc3122090row7_col5,#T_689745b7_23e2_11eb_a8ec_afdbc3122090row7_col6,#T_689745b7_23e2_11eb_a8ec_afdbc3122090row7_col13,#T_689745b7_23e2_11eb_a8ec_afdbc3122090row7_col14,#T_689745b7_23e2_11eb_a8ec_afdbc3122090row7_col15,#T_689745b7_23e2_11eb_a8ec_afdbc3122090row7_col16,#T_689745b7_23e2_11eb_a8ec_afdbc3122090row7_col17,#T_689745b7_23e2_11eb_a8ec_afdbc3122090row8_col0,#T_689745b7_23e2_11eb_a8ec_afdbc3122090row8_col1,#T_689745b7_23e2_11eb_a8ec_afdbc3122090row8_col2,#T_689745b7_23e2_11eb_a8ec_afdbc3122090row8_col3,#T_689745b7_23e2_11eb_a8ec_afdbc3122090row8_col4,#T_689745b7_23e2_11eb_a8ec_afdbc3122090row8_col13,#T_689745b7_23e2_11eb_a8ec_afdbc3122090row8_col14,#T_689745b7_23e2_11eb_a8ec_afdbc3122090row8_col15,#T_689745b7_23e2_11eb_a8ec_afdbc3122090row8_col16,#T_689745b7_23e2_11eb_a8ec_afdbc3122090row8_col17,#T_689745b7_23e2_11eb_a8ec_afdbc3122090row9_col0,#T_689745b7_23e2_11eb_a8ec_afdbc3122090row9_col1,#T_689745b7_23e2_11eb_a8ec_afdbc3122090row9_col2,#T_689745b7_23e2_11eb_a8ec_afdbc3122090row9_col3,#T_689745b7_23e2_11eb_a8ec_afdbc3122090row9_col4,#T_689745b7_23e2_11eb_a8ec_afdbc3122090row9_col16,#T_689745b7_23e2_11eb_a8ec_afdbc3122090row9_col17,#T_689745b7_23e2_11eb_a8ec_afdbc3122090row10_col0,#T_689745b7_23e2_11eb_a8ec_afdbc3122090row10_col1,#T_689745b7_23e2_11eb_a8ec_afdbc3122090row10_col2,#T_689745b7_23e2_11eb_a8ec_afdbc3122090row10_col3,#T_689745b7_23e2_11eb_a8ec_afdbc3122090row10_col4,#T_689745b7_23e2_11eb_a8ec_afdbc3122090row10_col5,#T_689745b7_23e2_11eb_a8ec_afdbc3122090row10_col6,#T_689745b7_23e2_11eb_a8ec_afdbc3122090row10_col17{\n",
       "            font-size:  6pt;\n",
       "            background-color:  #ffffff;\n",
       "            color:  #000000;\n",
       "        }#T_689745b7_23e2_11eb_a8ec_afdbc3122090row1_col5{\n",
       "            font-size:  6pt;\n",
       "            background-color:  #efefef;\n",
       "            color:  #000000;\n",
       "        }#T_689745b7_23e2_11eb_a8ec_afdbc3122090row1_col6,#T_689745b7_23e2_11eb_a8ec_afdbc3122090row1_col13{\n",
       "            font-size:  6pt;\n",
       "            background-color:  #7c7c7c;\n",
       "            color:  #000000;\n",
       "        }#T_689745b7_23e2_11eb_a8ec_afdbc3122090row1_col7{\n",
       "            font-size:  6pt;\n",
       "            background-color:  #4a4a4a;\n",
       "            color:  #f1f1f1;\n",
       "        }#T_689745b7_23e2_11eb_a8ec_afdbc3122090row1_col8,#T_689745b7_23e2_11eb_a8ec_afdbc3122090row1_col9,#T_689745b7_23e2_11eb_a8ec_afdbc3122090row1_col10,#T_689745b7_23e2_11eb_a8ec_afdbc3122090row2_col5,#T_689745b7_23e2_11eb_a8ec_afdbc3122090row2_col6,#T_689745b7_23e2_11eb_a8ec_afdbc3122090row2_col7,#T_689745b7_23e2_11eb_a8ec_afdbc3122090row2_col11,#T_689745b7_23e2_11eb_a8ec_afdbc3122090row2_col12,#T_689745b7_23e2_11eb_a8ec_afdbc3122090row2_col13,#T_689745b7_23e2_11eb_a8ec_afdbc3122090row3_col4,#T_689745b7_23e2_11eb_a8ec_afdbc3122090row3_col12,#T_689745b7_23e2_11eb_a8ec_afdbc3122090row3_col13,#T_689745b7_23e2_11eb_a8ec_afdbc3122090row4_col1,#T_689745b7_23e2_11eb_a8ec_afdbc3122090row4_col2,#T_689745b7_23e2_11eb_a8ec_afdbc3122090row4_col3,#T_689745b7_23e2_11eb_a8ec_afdbc3122090row4_col12,#T_689745b7_23e2_11eb_a8ec_afdbc3122090row4_col13,#T_689745b7_23e2_11eb_a8ec_afdbc3122090row5_col12,#T_689745b7_23e2_11eb_a8ec_afdbc3122090row6_col11,#T_689745b7_23e2_11eb_a8ec_afdbc3122090row9_col11,#T_689745b7_23e2_11eb_a8ec_afdbc3122090row10_col11,#T_689745b7_23e2_11eb_a8ec_afdbc3122090row10_col12,#T_689745b7_23e2_11eb_a8ec_afdbc3122090row10_col13,#T_689745b7_23e2_11eb_a8ec_afdbc3122090row10_col14,#T_689745b7_23e2_11eb_a8ec_afdbc3122090row10_col15,#T_689745b7_23e2_11eb_a8ec_afdbc3122090row10_col16{\n",
       "            font-size:  6pt;\n",
       "            background-color:  #000000;\n",
       "            color:  #f1f1f1;\n",
       "        }#T_689745b7_23e2_11eb_a8ec_afdbc3122090row1_col11{\n",
       "            font-size:  6pt;\n",
       "            background-color:  #606060;\n",
       "            color:  #f1f1f1;\n",
       "        }#T_689745b7_23e2_11eb_a8ec_afdbc3122090row1_col12{\n",
       "            font-size:  6pt;\n",
       "            background-color:  #4d4d4d;\n",
       "            color:  #f1f1f1;\n",
       "        }#T_689745b7_23e2_11eb_a8ec_afdbc3122090row1_col14{\n",
       "            font-size:  6pt;\n",
       "            background-color:  #bbbbbb;\n",
       "            color:  #000000;\n",
       "        }#T_689745b7_23e2_11eb_a8ec_afdbc3122090row2_col3{\n",
       "            font-size:  6pt;\n",
       "            background-color:  #e4e4e4;\n",
       "            color:  #000000;\n",
       "        }#T_689745b7_23e2_11eb_a8ec_afdbc3122090row2_col4,#T_689745b7_23e2_11eb_a8ec_afdbc3122090row8_col6{\n",
       "            font-size:  6pt;\n",
       "            background-color:  #6b6b6b;\n",
       "            color:  #000000;\n",
       "        }#T_689745b7_23e2_11eb_a8ec_afdbc3122090row2_col8,#T_689745b7_23e2_11eb_a8ec_afdbc3122090row2_col14,#T_689745b7_23e2_11eb_a8ec_afdbc3122090row3_col14{\n",
       "            font-size:  6pt;\n",
       "            background-color:  #171717;\n",
       "            color:  #f1f1f1;\n",
       "        }#T_689745b7_23e2_11eb_a8ec_afdbc3122090row2_col9,#T_689745b7_23e2_11eb_a8ec_afdbc3122090row3_col11{\n",
       "            font-size:  6pt;\n",
       "            background-color:  #4b4b4b;\n",
       "            color:  #f1f1f1;\n",
       "        }#T_689745b7_23e2_11eb_a8ec_afdbc3122090row2_col10,#T_689745b7_23e2_11eb_a8ec_afdbc3122090row7_col10,#T_689745b7_23e2_11eb_a8ec_afdbc3122090row8_col8,#T_689745b7_23e2_11eb_a8ec_afdbc3122090row8_col10,#T_689745b7_23e2_11eb_a8ec_afdbc3122090row9_col8,#T_689745b7_23e2_11eb_a8ec_afdbc3122090row9_col10{\n",
       "            font-size:  6pt;\n",
       "            background-color:  #010101;\n",
       "            color:  #f1f1f1;\n",
       "        }#T_689745b7_23e2_11eb_a8ec_afdbc3122090row3_col1{\n",
       "            font-size:  6pt;\n",
       "            background-color:  #272727;\n",
       "            color:  #f1f1f1;\n",
       "        }#T_689745b7_23e2_11eb_a8ec_afdbc3122090row3_col2{\n",
       "            font-size:  6pt;\n",
       "            background-color:  #0a0a0a;\n",
       "            color:  #f1f1f1;\n",
       "        }#T_689745b7_23e2_11eb_a8ec_afdbc3122090row3_col3{\n",
       "            font-size:  6pt;\n",
       "            background-color:  #050505;\n",
       "            color:  #f1f1f1;\n",
       "        }#T_689745b7_23e2_11eb_a8ec_afdbc3122090row3_col5{\n",
       "            font-size:  6pt;\n",
       "            background-color:  #333333;\n",
       "            color:  #f1f1f1;\n",
       "        }#T_689745b7_23e2_11eb_a8ec_afdbc3122090row3_col6{\n",
       "            font-size:  6pt;\n",
       "            background-color:  #e6e6e6;\n",
       "            color:  #000000;\n",
       "        }#T_689745b7_23e2_11eb_a8ec_afdbc3122090row3_col7,#T_689745b7_23e2_11eb_a8ec_afdbc3122090row3_col10{\n",
       "            font-size:  6pt;\n",
       "            background-color:  #fafafa;\n",
       "            color:  #000000;\n",
       "        }#T_689745b7_23e2_11eb_a8ec_afdbc3122090row3_col8{\n",
       "            font-size:  6pt;\n",
       "            background-color:  #fbfbfb;\n",
       "            color:  #000000;\n",
       "        }#T_689745b7_23e2_11eb_a8ec_afdbc3122090row3_col9{\n",
       "            font-size:  6pt;\n",
       "            background-color:  #fdfdfd;\n",
       "            color:  #000000;\n",
       "        }#T_689745b7_23e2_11eb_a8ec_afdbc3122090row4_col4{\n",
       "            font-size:  6pt;\n",
       "            background-color:  #1b1b1b;\n",
       "            color:  #f1f1f1;\n",
       "        }#T_689745b7_23e2_11eb_a8ec_afdbc3122090row4_col5{\n",
       "            font-size:  6pt;\n",
       "            background-color:  #e0e0e0;\n",
       "            color:  #000000;\n",
       "        }#T_689745b7_23e2_11eb_a8ec_afdbc3122090row4_col11{\n",
       "            font-size:  6pt;\n",
       "            background-color:  #4e4e4e;\n",
       "            color:  #f1f1f1;\n",
       "        }#T_689745b7_23e2_11eb_a8ec_afdbc3122090row4_col14{\n",
       "            font-size:  6pt;\n",
       "            background-color:  #767676;\n",
       "            color:  #000000;\n",
       "        }#T_689745b7_23e2_11eb_a8ec_afdbc3122090row5_col1{\n",
       "            font-size:  6pt;\n",
       "            background-color:  #fcfcfc;\n",
       "            color:  #000000;\n",
       "        }#T_689745b7_23e2_11eb_a8ec_afdbc3122090row5_col2,#T_689745b7_23e2_11eb_a8ec_afdbc3122090row5_col3{\n",
       "            font-size:  6pt;\n",
       "            background-color:  #f6f6f6;\n",
       "            color:  #000000;\n",
       "        }#T_689745b7_23e2_11eb_a8ec_afdbc3122090row5_col4,#T_689745b7_23e2_11eb_a8ec_afdbc3122090row7_col7{\n",
       "            font-size:  6pt;\n",
       "            background-color:  #f8f8f8;\n",
       "            color:  #000000;\n",
       "        }#T_689745b7_23e2_11eb_a8ec_afdbc3122090row5_col10,#T_689745b7_23e2_11eb_a8ec_afdbc3122090row10_col7{\n",
       "            font-size:  6pt;\n",
       "            background-color:  #e8e8e8;\n",
       "            color:  #000000;\n",
       "        }#T_689745b7_23e2_11eb_a8ec_afdbc3122090row5_col11{\n",
       "            font-size:  6pt;\n",
       "            background-color:  #222222;\n",
       "            color:  #f1f1f1;\n",
       "        }#T_689745b7_23e2_11eb_a8ec_afdbc3122090row5_col13,#T_689745b7_23e2_11eb_a8ec_afdbc3122090row6_col12{\n",
       "            font-size:  6pt;\n",
       "            background-color:  #090909;\n",
       "            color:  #f1f1f1;\n",
       "        }#T_689745b7_23e2_11eb_a8ec_afdbc3122090row5_col14{\n",
       "            font-size:  6pt;\n",
       "            background-color:  #d0d0d0;\n",
       "            color:  #000000;\n",
       "        }#T_689745b7_23e2_11eb_a8ec_afdbc3122090row6_col10,#T_689745b7_23e2_11eb_a8ec_afdbc3122090row7_col11,#T_689745b7_23e2_11eb_a8ec_afdbc3122090row9_col6{\n",
       "            font-size:  6pt;\n",
       "            background-color:  #060606;\n",
       "            color:  #f1f1f1;\n",
       "        }#T_689745b7_23e2_11eb_a8ec_afdbc3122090row6_col13{\n",
       "            font-size:  6pt;\n",
       "            background-color:  #979797;\n",
       "            color:  #000000;\n",
       "        }#T_689745b7_23e2_11eb_a8ec_afdbc3122090row7_col8{\n",
       "            font-size:  6pt;\n",
       "            background-color:  #b6b6b6;\n",
       "            color:  #000000;\n",
       "        }#T_689745b7_23e2_11eb_a8ec_afdbc3122090row7_col9{\n",
       "            font-size:  6pt;\n",
       "            background-color:  #252525;\n",
       "            color:  #f1f1f1;\n",
       "        }#T_689745b7_23e2_11eb_a8ec_afdbc3122090row7_col12{\n",
       "            font-size:  6pt;\n",
       "            background-color:  #999999;\n",
       "            color:  #000000;\n",
       "        }#T_689745b7_23e2_11eb_a8ec_afdbc3122090row8_col5{\n",
       "            font-size:  6pt;\n",
       "            background-color:  #f9f9f9;\n",
       "            color:  #000000;\n",
       "        }#T_689745b7_23e2_11eb_a8ec_afdbc3122090row8_col7{\n",
       "            font-size:  6pt;\n",
       "            background-color:  #101010;\n",
       "            color:  #f1f1f1;\n",
       "        }#T_689745b7_23e2_11eb_a8ec_afdbc3122090row8_col9,#T_689745b7_23e2_11eb_a8ec_afdbc3122090row9_col9{\n",
       "            font-size:  6pt;\n",
       "            background-color:  #020202;\n",
       "            color:  #f1f1f1;\n",
       "        }#T_689745b7_23e2_11eb_a8ec_afdbc3122090row8_col11{\n",
       "            font-size:  6pt;\n",
       "            background-color:  #545454;\n",
       "            color:  #f1f1f1;\n",
       "        }#T_689745b7_23e2_11eb_a8ec_afdbc3122090row8_col12{\n",
       "            font-size:  6pt;\n",
       "            background-color:  #f1f1f1;\n",
       "            color:  #000000;\n",
       "        }#T_689745b7_23e2_11eb_a8ec_afdbc3122090row9_col5{\n",
       "            font-size:  6pt;\n",
       "            background-color:  #f7f7f7;\n",
       "            color:  #000000;\n",
       "        }#T_689745b7_23e2_11eb_a8ec_afdbc3122090row9_col7{\n",
       "            font-size:  6pt;\n",
       "            background-color:  #030303;\n",
       "            color:  #f1f1f1;\n",
       "        }#T_689745b7_23e2_11eb_a8ec_afdbc3122090row9_col12{\n",
       "            font-size:  6pt;\n",
       "            background-color:  #181818;\n",
       "            color:  #f1f1f1;\n",
       "        }#T_689745b7_23e2_11eb_a8ec_afdbc3122090row9_col13{\n",
       "            font-size:  6pt;\n",
       "            background-color:  #303030;\n",
       "            color:  #f1f1f1;\n",
       "        }#T_689745b7_23e2_11eb_a8ec_afdbc3122090row9_col14{\n",
       "            font-size:  6pt;\n",
       "            background-color:  #a9a9a9;\n",
       "            color:  #000000;\n",
       "        }#T_689745b7_23e2_11eb_a8ec_afdbc3122090row9_col15{\n",
       "            font-size:  6pt;\n",
       "            background-color:  #fefefe;\n",
       "            color:  #000000;\n",
       "        }#T_689745b7_23e2_11eb_a8ec_afdbc3122090row10_col8,#T_689745b7_23e2_11eb_a8ec_afdbc3122090row10_col9{\n",
       "            font-size:  6pt;\n",
       "            background-color:  #bababa;\n",
       "            color:  #000000;\n",
       "        }#T_689745b7_23e2_11eb_a8ec_afdbc3122090row10_col10{\n",
       "            font-size:  6pt;\n",
       "            background-color:  #393939;\n",
       "            color:  #f1f1f1;\n",
       "        }</style><table id=\"T_689745b7_23e2_11eb_a8ec_afdbc3122090\" ><thead>    <tr>        <th class=\"blank level0\" ></th>        <th class=\"col_heading level0 col0\" >0</th>        <th class=\"col_heading level0 col1\" >1</th>        <th class=\"col_heading level0 col2\" >2</th>        <th class=\"col_heading level0 col3\" >3</th>        <th class=\"col_heading level0 col4\" >4</th>        <th class=\"col_heading level0 col5\" >5</th>        <th class=\"col_heading level0 col6\" >6</th>        <th class=\"col_heading level0 col7\" >7</th>        <th class=\"col_heading level0 col8\" >8</th>        <th class=\"col_heading level0 col9\" >9</th>        <th class=\"col_heading level0 col10\" >10</th>        <th class=\"col_heading level0 col11\" >11</th>        <th class=\"col_heading level0 col12\" >12</th>        <th class=\"col_heading level0 col13\" >13</th>        <th class=\"col_heading level0 col14\" >14</th>        <th class=\"col_heading level0 col15\" >15</th>        <th class=\"col_heading level0 col16\" >16</th>        <th class=\"col_heading level0 col17\" >17</th>    </tr></thead><tbody>\n",
       "                <tr>\n",
       "                        <th id=\"T_689745b7_23e2_11eb_a8ec_afdbc3122090level0_row0\" class=\"row_heading level0 row0\" >0</th>\n",
       "                        <td id=\"T_689745b7_23e2_11eb_a8ec_afdbc3122090row0_col0\" class=\"data row0 col0\" >0</td>\n",
       "                        <td id=\"T_689745b7_23e2_11eb_a8ec_afdbc3122090row0_col1\" class=\"data row0 col1\" >0</td>\n",
       "                        <td id=\"T_689745b7_23e2_11eb_a8ec_afdbc3122090row0_col2\" class=\"data row0 col2\" >0</td>\n",
       "                        <td id=\"T_689745b7_23e2_11eb_a8ec_afdbc3122090row0_col3\" class=\"data row0 col3\" >0</td>\n",
       "                        <td id=\"T_689745b7_23e2_11eb_a8ec_afdbc3122090row0_col4\" class=\"data row0 col4\" >0</td>\n",
       "                        <td id=\"T_689745b7_23e2_11eb_a8ec_afdbc3122090row0_col5\" class=\"data row0 col5\" >0</td>\n",
       "                        <td id=\"T_689745b7_23e2_11eb_a8ec_afdbc3122090row0_col6\" class=\"data row0 col6\" >0</td>\n",
       "                        <td id=\"T_689745b7_23e2_11eb_a8ec_afdbc3122090row0_col7\" class=\"data row0 col7\" >0</td>\n",
       "                        <td id=\"T_689745b7_23e2_11eb_a8ec_afdbc3122090row0_col8\" class=\"data row0 col8\" >0</td>\n",
       "                        <td id=\"T_689745b7_23e2_11eb_a8ec_afdbc3122090row0_col9\" class=\"data row0 col9\" >0</td>\n",
       "                        <td id=\"T_689745b7_23e2_11eb_a8ec_afdbc3122090row0_col10\" class=\"data row0 col10\" >0</td>\n",
       "                        <td id=\"T_689745b7_23e2_11eb_a8ec_afdbc3122090row0_col11\" class=\"data row0 col11\" >0</td>\n",
       "                        <td id=\"T_689745b7_23e2_11eb_a8ec_afdbc3122090row0_col12\" class=\"data row0 col12\" >0</td>\n",
       "                        <td id=\"T_689745b7_23e2_11eb_a8ec_afdbc3122090row0_col13\" class=\"data row0 col13\" >0</td>\n",
       "                        <td id=\"T_689745b7_23e2_11eb_a8ec_afdbc3122090row0_col14\" class=\"data row0 col14\" >0</td>\n",
       "                        <td id=\"T_689745b7_23e2_11eb_a8ec_afdbc3122090row0_col15\" class=\"data row0 col15\" >0</td>\n",
       "                        <td id=\"T_689745b7_23e2_11eb_a8ec_afdbc3122090row0_col16\" class=\"data row0 col16\" >0</td>\n",
       "                        <td id=\"T_689745b7_23e2_11eb_a8ec_afdbc3122090row0_col17\" class=\"data row0 col17\" >0</td>\n",
       "            </tr>\n",
       "            <tr>\n",
       "                        <th id=\"T_689745b7_23e2_11eb_a8ec_afdbc3122090level0_row1\" class=\"row_heading level0 row1\" >1</th>\n",
       "                        <td id=\"T_689745b7_23e2_11eb_a8ec_afdbc3122090row1_col0\" class=\"data row1 col0\" >0</td>\n",
       "                        <td id=\"T_689745b7_23e2_11eb_a8ec_afdbc3122090row1_col1\" class=\"data row1 col1\" >0</td>\n",
       "                        <td id=\"T_689745b7_23e2_11eb_a8ec_afdbc3122090row1_col2\" class=\"data row1 col2\" >0</td>\n",
       "                        <td id=\"T_689745b7_23e2_11eb_a8ec_afdbc3122090row1_col3\" class=\"data row1 col3\" >0</td>\n",
       "                        <td id=\"T_689745b7_23e2_11eb_a8ec_afdbc3122090row1_col4\" class=\"data row1 col4\" >0</td>\n",
       "                        <td id=\"T_689745b7_23e2_11eb_a8ec_afdbc3122090row1_col5\" class=\"data row1 col5\" >29</td>\n",
       "                        <td id=\"T_689745b7_23e2_11eb_a8ec_afdbc3122090row1_col6\" class=\"data row1 col6\" >150</td>\n",
       "                        <td id=\"T_689745b7_23e2_11eb_a8ec_afdbc3122090row1_col7\" class=\"data row1 col7\" >195</td>\n",
       "                        <td id=\"T_689745b7_23e2_11eb_a8ec_afdbc3122090row1_col8\" class=\"data row1 col8\" >254</td>\n",
       "                        <td id=\"T_689745b7_23e2_11eb_a8ec_afdbc3122090row1_col9\" class=\"data row1 col9\" >255</td>\n",
       "                        <td id=\"T_689745b7_23e2_11eb_a8ec_afdbc3122090row1_col10\" class=\"data row1 col10\" >254</td>\n",
       "                        <td id=\"T_689745b7_23e2_11eb_a8ec_afdbc3122090row1_col11\" class=\"data row1 col11\" >176</td>\n",
       "                        <td id=\"T_689745b7_23e2_11eb_a8ec_afdbc3122090row1_col12\" class=\"data row1 col12\" >193</td>\n",
       "                        <td id=\"T_689745b7_23e2_11eb_a8ec_afdbc3122090row1_col13\" class=\"data row1 col13\" >150</td>\n",
       "                        <td id=\"T_689745b7_23e2_11eb_a8ec_afdbc3122090row1_col14\" class=\"data row1 col14\" >96</td>\n",
       "                        <td id=\"T_689745b7_23e2_11eb_a8ec_afdbc3122090row1_col15\" class=\"data row1 col15\" >0</td>\n",
       "                        <td id=\"T_689745b7_23e2_11eb_a8ec_afdbc3122090row1_col16\" class=\"data row1 col16\" >0</td>\n",
       "                        <td id=\"T_689745b7_23e2_11eb_a8ec_afdbc3122090row1_col17\" class=\"data row1 col17\" >0</td>\n",
       "            </tr>\n",
       "            <tr>\n",
       "                        <th id=\"T_689745b7_23e2_11eb_a8ec_afdbc3122090level0_row2\" class=\"row_heading level0 row2\" >2</th>\n",
       "                        <td id=\"T_689745b7_23e2_11eb_a8ec_afdbc3122090row2_col0\" class=\"data row2 col0\" >0</td>\n",
       "                        <td id=\"T_689745b7_23e2_11eb_a8ec_afdbc3122090row2_col1\" class=\"data row2 col1\" >0</td>\n",
       "                        <td id=\"T_689745b7_23e2_11eb_a8ec_afdbc3122090row2_col2\" class=\"data row2 col2\" >0</td>\n",
       "                        <td id=\"T_689745b7_23e2_11eb_a8ec_afdbc3122090row2_col3\" class=\"data row2 col3\" >48</td>\n",
       "                        <td id=\"T_689745b7_23e2_11eb_a8ec_afdbc3122090row2_col4\" class=\"data row2 col4\" >166</td>\n",
       "                        <td id=\"T_689745b7_23e2_11eb_a8ec_afdbc3122090row2_col5\" class=\"data row2 col5\" >224</td>\n",
       "                        <td id=\"T_689745b7_23e2_11eb_a8ec_afdbc3122090row2_col6\" class=\"data row2 col6\" >253</td>\n",
       "                        <td id=\"T_689745b7_23e2_11eb_a8ec_afdbc3122090row2_col7\" class=\"data row2 col7\" >253</td>\n",
       "                        <td id=\"T_689745b7_23e2_11eb_a8ec_afdbc3122090row2_col8\" class=\"data row2 col8\" >234</td>\n",
       "                        <td id=\"T_689745b7_23e2_11eb_a8ec_afdbc3122090row2_col9\" class=\"data row2 col9\" >196</td>\n",
       "                        <td id=\"T_689745b7_23e2_11eb_a8ec_afdbc3122090row2_col10\" class=\"data row2 col10\" >253</td>\n",
       "                        <td id=\"T_689745b7_23e2_11eb_a8ec_afdbc3122090row2_col11\" class=\"data row2 col11\" >253</td>\n",
       "                        <td id=\"T_689745b7_23e2_11eb_a8ec_afdbc3122090row2_col12\" class=\"data row2 col12\" >253</td>\n",
       "                        <td id=\"T_689745b7_23e2_11eb_a8ec_afdbc3122090row2_col13\" class=\"data row2 col13\" >253</td>\n",
       "                        <td id=\"T_689745b7_23e2_11eb_a8ec_afdbc3122090row2_col14\" class=\"data row2 col14\" >233</td>\n",
       "                        <td id=\"T_689745b7_23e2_11eb_a8ec_afdbc3122090row2_col15\" class=\"data row2 col15\" >0</td>\n",
       "                        <td id=\"T_689745b7_23e2_11eb_a8ec_afdbc3122090row2_col16\" class=\"data row2 col16\" >0</td>\n",
       "                        <td id=\"T_689745b7_23e2_11eb_a8ec_afdbc3122090row2_col17\" class=\"data row2 col17\" >0</td>\n",
       "            </tr>\n",
       "            <tr>\n",
       "                        <th id=\"T_689745b7_23e2_11eb_a8ec_afdbc3122090level0_row3\" class=\"row_heading level0 row3\" >3</th>\n",
       "                        <td id=\"T_689745b7_23e2_11eb_a8ec_afdbc3122090row3_col0\" class=\"data row3 col0\" >0</td>\n",
       "                        <td id=\"T_689745b7_23e2_11eb_a8ec_afdbc3122090row3_col1\" class=\"data row3 col1\" >93</td>\n",
       "                        <td id=\"T_689745b7_23e2_11eb_a8ec_afdbc3122090row3_col2\" class=\"data row3 col2\" >244</td>\n",
       "                        <td id=\"T_689745b7_23e2_11eb_a8ec_afdbc3122090row3_col3\" class=\"data row3 col3\" >249</td>\n",
       "                        <td id=\"T_689745b7_23e2_11eb_a8ec_afdbc3122090row3_col4\" class=\"data row3 col4\" >253</td>\n",
       "                        <td id=\"T_689745b7_23e2_11eb_a8ec_afdbc3122090row3_col5\" class=\"data row3 col5\" >187</td>\n",
       "                        <td id=\"T_689745b7_23e2_11eb_a8ec_afdbc3122090row3_col6\" class=\"data row3 col6\" >46</td>\n",
       "                        <td id=\"T_689745b7_23e2_11eb_a8ec_afdbc3122090row3_col7\" class=\"data row3 col7\" >10</td>\n",
       "                        <td id=\"T_689745b7_23e2_11eb_a8ec_afdbc3122090row3_col8\" class=\"data row3 col8\" >8</td>\n",
       "                        <td id=\"T_689745b7_23e2_11eb_a8ec_afdbc3122090row3_col9\" class=\"data row3 col9\" >4</td>\n",
       "                        <td id=\"T_689745b7_23e2_11eb_a8ec_afdbc3122090row3_col10\" class=\"data row3 col10\" >10</td>\n",
       "                        <td id=\"T_689745b7_23e2_11eb_a8ec_afdbc3122090row3_col11\" class=\"data row3 col11\" >194</td>\n",
       "                        <td id=\"T_689745b7_23e2_11eb_a8ec_afdbc3122090row3_col12\" class=\"data row3 col12\" >253</td>\n",
       "                        <td id=\"T_689745b7_23e2_11eb_a8ec_afdbc3122090row3_col13\" class=\"data row3 col13\" >253</td>\n",
       "                        <td id=\"T_689745b7_23e2_11eb_a8ec_afdbc3122090row3_col14\" class=\"data row3 col14\" >233</td>\n",
       "                        <td id=\"T_689745b7_23e2_11eb_a8ec_afdbc3122090row3_col15\" class=\"data row3 col15\" >0</td>\n",
       "                        <td id=\"T_689745b7_23e2_11eb_a8ec_afdbc3122090row3_col16\" class=\"data row3 col16\" >0</td>\n",
       "                        <td id=\"T_689745b7_23e2_11eb_a8ec_afdbc3122090row3_col17\" class=\"data row3 col17\" >0</td>\n",
       "            </tr>\n",
       "            <tr>\n",
       "                        <th id=\"T_689745b7_23e2_11eb_a8ec_afdbc3122090level0_row4\" class=\"row_heading level0 row4\" >4</th>\n",
       "                        <td id=\"T_689745b7_23e2_11eb_a8ec_afdbc3122090row4_col0\" class=\"data row4 col0\" >0</td>\n",
       "                        <td id=\"T_689745b7_23e2_11eb_a8ec_afdbc3122090row4_col1\" class=\"data row4 col1\" >107</td>\n",
       "                        <td id=\"T_689745b7_23e2_11eb_a8ec_afdbc3122090row4_col2\" class=\"data row4 col2\" >253</td>\n",
       "                        <td id=\"T_689745b7_23e2_11eb_a8ec_afdbc3122090row4_col3\" class=\"data row4 col3\" >253</td>\n",
       "                        <td id=\"T_689745b7_23e2_11eb_a8ec_afdbc3122090row4_col4\" class=\"data row4 col4\" >230</td>\n",
       "                        <td id=\"T_689745b7_23e2_11eb_a8ec_afdbc3122090row4_col5\" class=\"data row4 col5\" >48</td>\n",
       "                        <td id=\"T_689745b7_23e2_11eb_a8ec_afdbc3122090row4_col6\" class=\"data row4 col6\" >0</td>\n",
       "                        <td id=\"T_689745b7_23e2_11eb_a8ec_afdbc3122090row4_col7\" class=\"data row4 col7\" >0</td>\n",
       "                        <td id=\"T_689745b7_23e2_11eb_a8ec_afdbc3122090row4_col8\" class=\"data row4 col8\" >0</td>\n",
       "                        <td id=\"T_689745b7_23e2_11eb_a8ec_afdbc3122090row4_col9\" class=\"data row4 col9\" >0</td>\n",
       "                        <td id=\"T_689745b7_23e2_11eb_a8ec_afdbc3122090row4_col10\" class=\"data row4 col10\" >0</td>\n",
       "                        <td id=\"T_689745b7_23e2_11eb_a8ec_afdbc3122090row4_col11\" class=\"data row4 col11\" >192</td>\n",
       "                        <td id=\"T_689745b7_23e2_11eb_a8ec_afdbc3122090row4_col12\" class=\"data row4 col12\" >253</td>\n",
       "                        <td id=\"T_689745b7_23e2_11eb_a8ec_afdbc3122090row4_col13\" class=\"data row4 col13\" >253</td>\n",
       "                        <td id=\"T_689745b7_23e2_11eb_a8ec_afdbc3122090row4_col14\" class=\"data row4 col14\" >156</td>\n",
       "                        <td id=\"T_689745b7_23e2_11eb_a8ec_afdbc3122090row4_col15\" class=\"data row4 col15\" >0</td>\n",
       "                        <td id=\"T_689745b7_23e2_11eb_a8ec_afdbc3122090row4_col16\" class=\"data row4 col16\" >0</td>\n",
       "                        <td id=\"T_689745b7_23e2_11eb_a8ec_afdbc3122090row4_col17\" class=\"data row4 col17\" >0</td>\n",
       "            </tr>\n",
       "            <tr>\n",
       "                        <th id=\"T_689745b7_23e2_11eb_a8ec_afdbc3122090level0_row5\" class=\"row_heading level0 row5\" >5</th>\n",
       "                        <td id=\"T_689745b7_23e2_11eb_a8ec_afdbc3122090row5_col0\" class=\"data row5 col0\" >0</td>\n",
       "                        <td id=\"T_689745b7_23e2_11eb_a8ec_afdbc3122090row5_col1\" class=\"data row5 col1\" >3</td>\n",
       "                        <td id=\"T_689745b7_23e2_11eb_a8ec_afdbc3122090row5_col2\" class=\"data row5 col2\" >20</td>\n",
       "                        <td id=\"T_689745b7_23e2_11eb_a8ec_afdbc3122090row5_col3\" class=\"data row5 col3\" >20</td>\n",
       "                        <td id=\"T_689745b7_23e2_11eb_a8ec_afdbc3122090row5_col4\" class=\"data row5 col4\" >15</td>\n",
       "                        <td id=\"T_689745b7_23e2_11eb_a8ec_afdbc3122090row5_col5\" class=\"data row5 col5\" >0</td>\n",
       "                        <td id=\"T_689745b7_23e2_11eb_a8ec_afdbc3122090row5_col6\" class=\"data row5 col6\" >0</td>\n",
       "                        <td id=\"T_689745b7_23e2_11eb_a8ec_afdbc3122090row5_col7\" class=\"data row5 col7\" >0</td>\n",
       "                        <td id=\"T_689745b7_23e2_11eb_a8ec_afdbc3122090row5_col8\" class=\"data row5 col8\" >0</td>\n",
       "                        <td id=\"T_689745b7_23e2_11eb_a8ec_afdbc3122090row5_col9\" class=\"data row5 col9\" >0</td>\n",
       "                        <td id=\"T_689745b7_23e2_11eb_a8ec_afdbc3122090row5_col10\" class=\"data row5 col10\" >43</td>\n",
       "                        <td id=\"T_689745b7_23e2_11eb_a8ec_afdbc3122090row5_col11\" class=\"data row5 col11\" >224</td>\n",
       "                        <td id=\"T_689745b7_23e2_11eb_a8ec_afdbc3122090row5_col12\" class=\"data row5 col12\" >253</td>\n",
       "                        <td id=\"T_689745b7_23e2_11eb_a8ec_afdbc3122090row5_col13\" class=\"data row5 col13\" >245</td>\n",
       "                        <td id=\"T_689745b7_23e2_11eb_a8ec_afdbc3122090row5_col14\" class=\"data row5 col14\" >74</td>\n",
       "                        <td id=\"T_689745b7_23e2_11eb_a8ec_afdbc3122090row5_col15\" class=\"data row5 col15\" >0</td>\n",
       "                        <td id=\"T_689745b7_23e2_11eb_a8ec_afdbc3122090row5_col16\" class=\"data row5 col16\" >0</td>\n",
       "                        <td id=\"T_689745b7_23e2_11eb_a8ec_afdbc3122090row5_col17\" class=\"data row5 col17\" >0</td>\n",
       "            </tr>\n",
       "            <tr>\n",
       "                        <th id=\"T_689745b7_23e2_11eb_a8ec_afdbc3122090level0_row6\" class=\"row_heading level0 row6\" >6</th>\n",
       "                        <td id=\"T_689745b7_23e2_11eb_a8ec_afdbc3122090row6_col0\" class=\"data row6 col0\" >0</td>\n",
       "                        <td id=\"T_689745b7_23e2_11eb_a8ec_afdbc3122090row6_col1\" class=\"data row6 col1\" >0</td>\n",
       "                        <td id=\"T_689745b7_23e2_11eb_a8ec_afdbc3122090row6_col2\" class=\"data row6 col2\" >0</td>\n",
       "                        <td id=\"T_689745b7_23e2_11eb_a8ec_afdbc3122090row6_col3\" class=\"data row6 col3\" >0</td>\n",
       "                        <td id=\"T_689745b7_23e2_11eb_a8ec_afdbc3122090row6_col4\" class=\"data row6 col4\" >0</td>\n",
       "                        <td id=\"T_689745b7_23e2_11eb_a8ec_afdbc3122090row6_col5\" class=\"data row6 col5\" >0</td>\n",
       "                        <td id=\"T_689745b7_23e2_11eb_a8ec_afdbc3122090row6_col6\" class=\"data row6 col6\" >0</td>\n",
       "                        <td id=\"T_689745b7_23e2_11eb_a8ec_afdbc3122090row6_col7\" class=\"data row6 col7\" >0</td>\n",
       "                        <td id=\"T_689745b7_23e2_11eb_a8ec_afdbc3122090row6_col8\" class=\"data row6 col8\" >0</td>\n",
       "                        <td id=\"T_689745b7_23e2_11eb_a8ec_afdbc3122090row6_col9\" class=\"data row6 col9\" >0</td>\n",
       "                        <td id=\"T_689745b7_23e2_11eb_a8ec_afdbc3122090row6_col10\" class=\"data row6 col10\" >249</td>\n",
       "                        <td id=\"T_689745b7_23e2_11eb_a8ec_afdbc3122090row6_col11\" class=\"data row6 col11\" >253</td>\n",
       "                        <td id=\"T_689745b7_23e2_11eb_a8ec_afdbc3122090row6_col12\" class=\"data row6 col12\" >245</td>\n",
       "                        <td id=\"T_689745b7_23e2_11eb_a8ec_afdbc3122090row6_col13\" class=\"data row6 col13\" >126</td>\n",
       "                        <td id=\"T_689745b7_23e2_11eb_a8ec_afdbc3122090row6_col14\" class=\"data row6 col14\" >0</td>\n",
       "                        <td id=\"T_689745b7_23e2_11eb_a8ec_afdbc3122090row6_col15\" class=\"data row6 col15\" >0</td>\n",
       "                        <td id=\"T_689745b7_23e2_11eb_a8ec_afdbc3122090row6_col16\" class=\"data row6 col16\" >0</td>\n",
       "                        <td id=\"T_689745b7_23e2_11eb_a8ec_afdbc3122090row6_col17\" class=\"data row6 col17\" >0</td>\n",
       "            </tr>\n",
       "            <tr>\n",
       "                        <th id=\"T_689745b7_23e2_11eb_a8ec_afdbc3122090level0_row7\" class=\"row_heading level0 row7\" >7</th>\n",
       "                        <td id=\"T_689745b7_23e2_11eb_a8ec_afdbc3122090row7_col0\" class=\"data row7 col0\" >0</td>\n",
       "                        <td id=\"T_689745b7_23e2_11eb_a8ec_afdbc3122090row7_col1\" class=\"data row7 col1\" >0</td>\n",
       "                        <td id=\"T_689745b7_23e2_11eb_a8ec_afdbc3122090row7_col2\" class=\"data row7 col2\" >0</td>\n",
       "                        <td id=\"T_689745b7_23e2_11eb_a8ec_afdbc3122090row7_col3\" class=\"data row7 col3\" >0</td>\n",
       "                        <td id=\"T_689745b7_23e2_11eb_a8ec_afdbc3122090row7_col4\" class=\"data row7 col4\" >0</td>\n",
       "                        <td id=\"T_689745b7_23e2_11eb_a8ec_afdbc3122090row7_col5\" class=\"data row7 col5\" >0</td>\n",
       "                        <td id=\"T_689745b7_23e2_11eb_a8ec_afdbc3122090row7_col6\" class=\"data row7 col6\" >0</td>\n",
       "                        <td id=\"T_689745b7_23e2_11eb_a8ec_afdbc3122090row7_col7\" class=\"data row7 col7\" >14</td>\n",
       "                        <td id=\"T_689745b7_23e2_11eb_a8ec_afdbc3122090row7_col8\" class=\"data row7 col8\" >101</td>\n",
       "                        <td id=\"T_689745b7_23e2_11eb_a8ec_afdbc3122090row7_col9\" class=\"data row7 col9\" >223</td>\n",
       "                        <td id=\"T_689745b7_23e2_11eb_a8ec_afdbc3122090row7_col10\" class=\"data row7 col10\" >253</td>\n",
       "                        <td id=\"T_689745b7_23e2_11eb_a8ec_afdbc3122090row7_col11\" class=\"data row7 col11\" >248</td>\n",
       "                        <td id=\"T_689745b7_23e2_11eb_a8ec_afdbc3122090row7_col12\" class=\"data row7 col12\" >124</td>\n",
       "                        <td id=\"T_689745b7_23e2_11eb_a8ec_afdbc3122090row7_col13\" class=\"data row7 col13\" >0</td>\n",
       "                        <td id=\"T_689745b7_23e2_11eb_a8ec_afdbc3122090row7_col14\" class=\"data row7 col14\" >0</td>\n",
       "                        <td id=\"T_689745b7_23e2_11eb_a8ec_afdbc3122090row7_col15\" class=\"data row7 col15\" >0</td>\n",
       "                        <td id=\"T_689745b7_23e2_11eb_a8ec_afdbc3122090row7_col16\" class=\"data row7 col16\" >0</td>\n",
       "                        <td id=\"T_689745b7_23e2_11eb_a8ec_afdbc3122090row7_col17\" class=\"data row7 col17\" >0</td>\n",
       "            </tr>\n",
       "            <tr>\n",
       "                        <th id=\"T_689745b7_23e2_11eb_a8ec_afdbc3122090level0_row8\" class=\"row_heading level0 row8\" >8</th>\n",
       "                        <td id=\"T_689745b7_23e2_11eb_a8ec_afdbc3122090row8_col0\" class=\"data row8 col0\" >0</td>\n",
       "                        <td id=\"T_689745b7_23e2_11eb_a8ec_afdbc3122090row8_col1\" class=\"data row8 col1\" >0</td>\n",
       "                        <td id=\"T_689745b7_23e2_11eb_a8ec_afdbc3122090row8_col2\" class=\"data row8 col2\" >0</td>\n",
       "                        <td id=\"T_689745b7_23e2_11eb_a8ec_afdbc3122090row8_col3\" class=\"data row8 col3\" >0</td>\n",
       "                        <td id=\"T_689745b7_23e2_11eb_a8ec_afdbc3122090row8_col4\" class=\"data row8 col4\" >0</td>\n",
       "                        <td id=\"T_689745b7_23e2_11eb_a8ec_afdbc3122090row8_col5\" class=\"data row8 col5\" >11</td>\n",
       "                        <td id=\"T_689745b7_23e2_11eb_a8ec_afdbc3122090row8_col6\" class=\"data row8 col6\" >166</td>\n",
       "                        <td id=\"T_689745b7_23e2_11eb_a8ec_afdbc3122090row8_col7\" class=\"data row8 col7\" >239</td>\n",
       "                        <td id=\"T_689745b7_23e2_11eb_a8ec_afdbc3122090row8_col8\" class=\"data row8 col8\" >253</td>\n",
       "                        <td id=\"T_689745b7_23e2_11eb_a8ec_afdbc3122090row8_col9\" class=\"data row8 col9\" >253</td>\n",
       "                        <td id=\"T_689745b7_23e2_11eb_a8ec_afdbc3122090row8_col10\" class=\"data row8 col10\" >253</td>\n",
       "                        <td id=\"T_689745b7_23e2_11eb_a8ec_afdbc3122090row8_col11\" class=\"data row8 col11\" >187</td>\n",
       "                        <td id=\"T_689745b7_23e2_11eb_a8ec_afdbc3122090row8_col12\" class=\"data row8 col12\" >30</td>\n",
       "                        <td id=\"T_689745b7_23e2_11eb_a8ec_afdbc3122090row8_col13\" class=\"data row8 col13\" >0</td>\n",
       "                        <td id=\"T_689745b7_23e2_11eb_a8ec_afdbc3122090row8_col14\" class=\"data row8 col14\" >0</td>\n",
       "                        <td id=\"T_689745b7_23e2_11eb_a8ec_afdbc3122090row8_col15\" class=\"data row8 col15\" >0</td>\n",
       "                        <td id=\"T_689745b7_23e2_11eb_a8ec_afdbc3122090row8_col16\" class=\"data row8 col16\" >0</td>\n",
       "                        <td id=\"T_689745b7_23e2_11eb_a8ec_afdbc3122090row8_col17\" class=\"data row8 col17\" >0</td>\n",
       "            </tr>\n",
       "            <tr>\n",
       "                        <th id=\"T_689745b7_23e2_11eb_a8ec_afdbc3122090level0_row9\" class=\"row_heading level0 row9\" >9</th>\n",
       "                        <td id=\"T_689745b7_23e2_11eb_a8ec_afdbc3122090row9_col0\" class=\"data row9 col0\" >0</td>\n",
       "                        <td id=\"T_689745b7_23e2_11eb_a8ec_afdbc3122090row9_col1\" class=\"data row9 col1\" >0</td>\n",
       "                        <td id=\"T_689745b7_23e2_11eb_a8ec_afdbc3122090row9_col2\" class=\"data row9 col2\" >0</td>\n",
       "                        <td id=\"T_689745b7_23e2_11eb_a8ec_afdbc3122090row9_col3\" class=\"data row9 col3\" >0</td>\n",
       "                        <td id=\"T_689745b7_23e2_11eb_a8ec_afdbc3122090row9_col4\" class=\"data row9 col4\" >0</td>\n",
       "                        <td id=\"T_689745b7_23e2_11eb_a8ec_afdbc3122090row9_col5\" class=\"data row9 col5\" >16</td>\n",
       "                        <td id=\"T_689745b7_23e2_11eb_a8ec_afdbc3122090row9_col6\" class=\"data row9 col6\" >248</td>\n",
       "                        <td id=\"T_689745b7_23e2_11eb_a8ec_afdbc3122090row9_col7\" class=\"data row9 col7\" >250</td>\n",
       "                        <td id=\"T_689745b7_23e2_11eb_a8ec_afdbc3122090row9_col8\" class=\"data row9 col8\" >253</td>\n",
       "                        <td id=\"T_689745b7_23e2_11eb_a8ec_afdbc3122090row9_col9\" class=\"data row9 col9\" >253</td>\n",
       "                        <td id=\"T_689745b7_23e2_11eb_a8ec_afdbc3122090row9_col10\" class=\"data row9 col10\" >253</td>\n",
       "                        <td id=\"T_689745b7_23e2_11eb_a8ec_afdbc3122090row9_col11\" class=\"data row9 col11\" >253</td>\n",
       "                        <td id=\"T_689745b7_23e2_11eb_a8ec_afdbc3122090row9_col12\" class=\"data row9 col12\" >232</td>\n",
       "                        <td id=\"T_689745b7_23e2_11eb_a8ec_afdbc3122090row9_col13\" class=\"data row9 col13\" >213</td>\n",
       "                        <td id=\"T_689745b7_23e2_11eb_a8ec_afdbc3122090row9_col14\" class=\"data row9 col14\" >111</td>\n",
       "                        <td id=\"T_689745b7_23e2_11eb_a8ec_afdbc3122090row9_col15\" class=\"data row9 col15\" >2</td>\n",
       "                        <td id=\"T_689745b7_23e2_11eb_a8ec_afdbc3122090row9_col16\" class=\"data row9 col16\" >0</td>\n",
       "                        <td id=\"T_689745b7_23e2_11eb_a8ec_afdbc3122090row9_col17\" class=\"data row9 col17\" >0</td>\n",
       "            </tr>\n",
       "            <tr>\n",
       "                        <th id=\"T_689745b7_23e2_11eb_a8ec_afdbc3122090level0_row10\" class=\"row_heading level0 row10\" >10</th>\n",
       "                        <td id=\"T_689745b7_23e2_11eb_a8ec_afdbc3122090row10_col0\" class=\"data row10 col0\" >0</td>\n",
       "                        <td id=\"T_689745b7_23e2_11eb_a8ec_afdbc3122090row10_col1\" class=\"data row10 col1\" >0</td>\n",
       "                        <td id=\"T_689745b7_23e2_11eb_a8ec_afdbc3122090row10_col2\" class=\"data row10 col2\" >0</td>\n",
       "                        <td id=\"T_689745b7_23e2_11eb_a8ec_afdbc3122090row10_col3\" class=\"data row10 col3\" >0</td>\n",
       "                        <td id=\"T_689745b7_23e2_11eb_a8ec_afdbc3122090row10_col4\" class=\"data row10 col4\" >0</td>\n",
       "                        <td id=\"T_689745b7_23e2_11eb_a8ec_afdbc3122090row10_col5\" class=\"data row10 col5\" >0</td>\n",
       "                        <td id=\"T_689745b7_23e2_11eb_a8ec_afdbc3122090row10_col6\" class=\"data row10 col6\" >0</td>\n",
       "                        <td id=\"T_689745b7_23e2_11eb_a8ec_afdbc3122090row10_col7\" class=\"data row10 col7\" >43</td>\n",
       "                        <td id=\"T_689745b7_23e2_11eb_a8ec_afdbc3122090row10_col8\" class=\"data row10 col8\" >98</td>\n",
       "                        <td id=\"T_689745b7_23e2_11eb_a8ec_afdbc3122090row10_col9\" class=\"data row10 col9\" >98</td>\n",
       "                        <td id=\"T_689745b7_23e2_11eb_a8ec_afdbc3122090row10_col10\" class=\"data row10 col10\" >208</td>\n",
       "                        <td id=\"T_689745b7_23e2_11eb_a8ec_afdbc3122090row10_col11\" class=\"data row10 col11\" >253</td>\n",
       "                        <td id=\"T_689745b7_23e2_11eb_a8ec_afdbc3122090row10_col12\" class=\"data row10 col12\" >253</td>\n",
       "                        <td id=\"T_689745b7_23e2_11eb_a8ec_afdbc3122090row10_col13\" class=\"data row10 col13\" >253</td>\n",
       "                        <td id=\"T_689745b7_23e2_11eb_a8ec_afdbc3122090row10_col14\" class=\"data row10 col14\" >253</td>\n",
       "                        <td id=\"T_689745b7_23e2_11eb_a8ec_afdbc3122090row10_col15\" class=\"data row10 col15\" >187</td>\n",
       "                        <td id=\"T_689745b7_23e2_11eb_a8ec_afdbc3122090row10_col16\" class=\"data row10 col16\" >22</td>\n",
       "                        <td id=\"T_689745b7_23e2_11eb_a8ec_afdbc3122090row10_col17\" class=\"data row10 col17\" >0</td>\n",
       "            </tr>\n",
       "    </tbody></table>"
      ],
      "text/plain": [
       "<pandas.io.formats.style.Styler at 0x206596e2f70>"
      ]
     },
     "execution_count": 12,
     "metadata": {},
     "output_type": "execute_result"
    }
   ],
   "source": [
    "im3_t = tensor(im3)#Image to tensor\n",
    "df = pd.DataFrame(im3_t[4:15,4:22])#converting it into DataFrame to get gradients\n",
    "df.style.set_properties(**{'font-size':'6pt'}).background_gradient('Greys')#Shows background gradient \n",
    "#for the Dataframe(0-White,255-Black)\n",
    "#Here a part of image is only shown since we have sliced the tensor."
   ]
  },
  {
   "cell_type": "markdown",
   "metadata": {},
   "source": [
    "The entire image consists of 28 pixels in rows and 28 pixels in columns.So in total 784 pixels are \n",
    "there.Above we displayed 11*18 pixels.(This image is very small than the ones we take in phones which\n",
    "has millions of pixels.)As we have seen how images can be represented in arrays or tensors we can now\n",
    "build a model to identify 3s and 7s from the dataset."
   ]
  },
  {
   "cell_type": "markdown",
   "metadata": {},
   "source": [
    "Before moving forward we should think about since now we have tensors representing our images,what \n",
    "features are important for distinguishing between 3s and 7s and how can we identify them???..We need \n",
    "not think about something complicated instead of some central value which can represent group of 3s or\n",
    "7s."
   ]
  },
  {
   "cell_type": "markdown",
   "metadata": {},
   "source": [
    "## First Try: Pixel Similarity"
   ]
  },
  {
   "cell_type": "markdown",
   "metadata": {},
   "source": [
    "Now before moving forward with deep learning we would try something simple and see what results we \n",
    "obtain.So the first approach can be finding the average value of all the pixels for 3s and for 7s\n",
    "separately which would be the central measure representing 3 and 7.Then for identifying any image as a\n",
    "3 or 7 we observe which image has the pixel value close to the 3s or 7s value.This is certainly a very\n",
    "basic approach but it can make a good baseline."
   ]
  },
  {
   "cell_type": "markdown",
   "metadata": {},
   "source": [
    "So,first we have to get mean of the pixel values for each image in both the groups.We would learn some\n",
    "basic tensor and array operations in this.We create a list of tensors using Python list comprehension\n",
    "containing the tensor objects of all the images in sevens and threes.\"tensor(Image.open(o))\" is used \n",
    "for converting the image to tensor."
   ]
  },
  {
   "cell_type": "code",
   "execution_count": 13,
   "metadata": {},
   "outputs": [
    {
     "data": {
      "text/plain": [
       "(6131, 6265)"
      ]
     },
     "execution_count": 13,
     "metadata": {},
     "output_type": "execute_result"
    }
   ],
   "source": [
    "#Baseline model\n",
    "seven_tensors = [tensor(Image.open(o)) for o in sevens] #List of tensors of all 7s(list comprehension)\n",
    "three_tensors = [tensor(Image.open(o)) for o in threes]#list of tensors of all 3s\n",
    "len(three_tensors),len(seven_tensors)#length of list containing 3s and 7s as tensors"
   ]
  },
  {
   "cell_type": "markdown",
   "metadata": {},
   "source": [
    "We have now converted images into tensors so we use fastai's \"show_image\" to display the image by \n",
    "passing tensor."
   ]
  },
  {
   "cell_type": "code",
   "execution_count": 14,
   "metadata": {},
   "outputs": [
    {
     "data": {
      "image/png": "[encoded data removed]",
      "text/plain": [
       "<Figure size 72x72 with 1 Axes>"
      ]
     },
     "metadata": {
      "needs_background": "light"
     },
     "output_type": "display_data"
    }
   ],
   "source": [
    "#fast.ai command to display a tensor in image form.We note that three_tensors and seven_tensors are \n",
    "#list of tensors,so we index one image\n",
    "show_image(three_tensors[1]);"
   ]
  },
  {
   "cell_type": "code",
   "execution_count": 15,
   "metadata": {},
   "outputs": [
    {
     "data": {
      "text/plain": [
       "torch.Size([28, 28])"
      ]
     },
     "execution_count": 15,
     "metadata": {},
     "output_type": "execute_result"
    }
   ],
   "source": [
    "#Shape of the tensor\n",
    "three_tensors[1].shape"
   ]
  },
  {
   "cell_type": "code",
   "execution_count": 16,
   "metadata": {},
   "outputs": [
    {
     "data": {
      "text/plain": [
       "list"
      ]
     },
     "execution_count": 16,
     "metadata": {},
     "output_type": "execute_result"
    }
   ],
   "source": [
    "#object type for three_tensors.\n",
    "type(three_tensors)"
   ]
  },
  {
   "cell_type": "markdown",
   "metadata": {},
   "source": [
    "Now for every pixel position in the image,we will calculate average of the pixel value over all images\n",
    ".For this the images are converted into a 3 dimensional tensor.The individual tensors of the images we\n",
    "have are 2D tensors(as they contain rows and columns).Now since we stack them together in a single \n",
    "tensor,this forms another dimension.Pytorch provides a \"stack\" function."
   ]
  },
  {
   "cell_type": "markdown",
   "metadata": {},
   "source": [
    "In pytorch for some mathematical operations such as mean,the numbers should be float instead of \n",
    "integers.So the tensor values for images are converted into float.It can be done using.float() simply.\n",
    "Now since pixel values range from 0 to 255.So,we normalize pixel values by dividing them by 255 to\n",
    " get values between 0 and 1.It also shows gradient and is an indicator of the pixel intensity."
   ]
  },
  {
   "cell_type": "code",
   "execution_count": 18,
   "metadata": {},
   "outputs": [
    {
     "data": {
      "text/plain": [
       "torch.Size([6131, 28, 28])"
      ]
     },
     "execution_count": 18,
     "metadata": {},
     "output_type": "execute_result"
    }
   ],
   "source": [
    "#Stacking bunch of Image tensors together Covert it into a 3dcube of images\n",
    "#Convert values to float and divide by 255 to get normalized pixel values between 0 and 1\n",
    "#This is done for all the images in the sevens and threes list\n",
    "stacked_sevens = torch.stack(seven_tensors).float()/255\n",
    "stacked_threes = torch.stack(three_tensors).float()/255\n",
    "stacked_threes.shape\n",
    "# We print the shape of the stacked tensors.The third dimension shows that it is a 3d stack of images."
   ]
  },
  {
   "cell_type": "markdown",
   "metadata": {},
   "source": [
    "Whenever we print the shape of a tensor(.shape),it tells about the length of each axis in the tensor.\n",
    "Here we had 6131 total 3s images in the list each of which had 28*28 pixel values(2D).As such no \n",
    "definite order is followed that first axis is the number of images,second is pixel rows and third is\n",
    "pixel columns."
   ]
  },
  {
   "cell_type": "code",
   "execution_count": 19,
   "metadata": {},
   "outputs": [
    {
     "data": {
      "text/plain": [
       "3"
      ]
     },
     "execution_count": 19,
     "metadata": {},
     "output_type": "execute_result"
    }
   ],
   "source": [
    "#Rank of a tensor by length of its shape\n",
    "len(stacked_threes.shape)\n",
    "#Rank of a tensor is the length of a tensor's shape.Shape gives the size of each axis of a tensor."
   ]
  },
  {
   "cell_type": "code",
   "execution_count": 20,
   "metadata": {},
   "outputs": [
    {
     "data": {
      "text/plain": [
       "3"
      ]
     },
     "execution_count": 20,
     "metadata": {},
     "output_type": "execute_result"
    }
   ],
   "source": [
    "#Rank is also known as the number of dimensions\n",
    "stacked_threes.ndim"
   ]
  },
  {
   "cell_type": "markdown",
   "metadata": {},
   "source": [
    "Now as we had mentioned before we calculate the mean of the pixel values to get a central value which\n",
    "can represent a \"3\".Mean is calculated along axis 0.This dimension indexes over all images so we \n",
    "compute the average for all the images at each pixel position.\n",
    "Fastai's \"show_image\" is used to show an \"ideal 3\""
   ]
  },
  {
   "cell_type": "code",
   "execution_count": 21,
   "metadata": {},
   "outputs": [
    {
     "data": {
      "image/png": "[encoded data removed]",
      "text/plain": [
       "<Figure size 72x72 with 1 Axes>"
      ]
     },
     "metadata": {
      "needs_background": "light"
     },
     "output_type": "display_data"
    }
   ],
   "source": [
    "#Mean of the 3s images across axis-0\n",
    "mean3 = stacked_threes.mean(0)\n",
    "show_image(mean3);#show image represents the tensor value as image."
   ]
  },
  {
   "cell_type": "markdown",
   "metadata": {},
   "source": [
    "Same mean along 0 axis is calculated for sevens and show_image is used to show an \"ideal 7\""
   ]
  },
  {
   "cell_type": "code",
   "execution_count": 22,
   "metadata": {},
   "outputs": [
    {
     "data": {
      "image/png": "[encoded data removed]",
      "text/plain": [
       "<Figure size 72x72 with 1 Axes>"
      ]
     },
     "metadata": {
      "needs_background": "light"
     },
     "output_type": "display_data"
    }
   ],
   "source": [
    "#Mean of the 7s images across axis-0\n",
    "mean7 = stacked_sevens.mean(0)\n",
    "show_image(mean7);"
   ]
  },
  {
   "cell_type": "markdown",
   "metadata": {},
   "source": [
    "Now we take a random image of \"3\" from the stacked_image dataset and display it.."
   ]
  },
  {
   "cell_type": "code",
   "execution_count": 23,
   "metadata": {},
   "outputs": [
    {
     "data": {
      "image/png": "[encoded data removed]",
      "text/plain": [
       "<Figure size 72x72 with 1 Axes>"
      ]
     },
     "metadata": {
      "needs_background": "light"
     },
     "output_type": "display_data"
    }
   ],
   "source": [
    "#Sample 3s and seeing it's close to which baseline mean model\n",
    "a_3 = stacked_threes[1]\n",
    "show_image(a_3);\n",
    "#Its clear that it's similar to 3"
   ]
  },
  {
   "cell_type": "markdown",
   "metadata": {},
   "source": [
    "Now we need to compare this image with our ideal 3 to test if its similar to 3 or not.We need some \n",
    "metric to calculate the difference between the two.We cannot just take the mean difference since they \n",
    "may cancel out each other.If anyone has worked with Machine Learning,specifically regression..\n",
    "They must be aware of the metrics such as \"mean absolute difference\" and \"mean squared difference\".\n",
    "These metrics are used mostly to calculate distance between continuous values.The two metrics are:"
   ]
  },
  {
   "cell_type": "markdown",
   "metadata": {},
   "source": [
    "1.Mean Absolute Difference:Here mean of the absolute difference is calculated.Also called \"L1 Norm\".\n",
    "2.Mean Squared Difference:Here mean of the squares of the differences is calculated.This is also\n",
    "called \"L2 Norm\".Since this is of order 2,so most of the times we take square root of the value and it\n",
    "is called \"Root Mean Squared Error\"."
   ]
  },
  {
   "cell_type": "markdown",
   "metadata": {},
   "source": [
    "We calculate both the metrics for calculating the distance between the sample image and our ideal 3 value."
   ]
  },
  {
   "cell_type": "code",
   "execution_count": 24,
   "metadata": {},
   "outputs": [
    {
     "data": {
      "text/plain": [
       "(tensor(0.1114), tensor(0.2021))"
      ]
     },
     "execution_count": 24,
     "metadata": {},
     "output_type": "execute_result"
    }
   ],
   "source": [
    "#Metrics to see the error between the test_3 and our mean basline model for 3\n",
    "dist_3_abs = (a_3 - mean3).abs().mean()#Mean Absolute difference (L1 Norm)\n",
    "dist_3_sqr = ((a_3 - mean3)**2).mean().sqrt()#Root Mean square error(L2)\n",
    "dist_3_abs,dist_3_sqr #Displaying both the errors"
   ]
  },
  {
   "cell_type": "code",
   "execution_count": 25,
   "metadata": {},
   "outputs": [
    {
     "data": {
      "text/plain": [
       "(tensor(0.1586), tensor(0.3021))"
      ]
     },
     "execution_count": 25,
     "metadata": {},
     "output_type": "execute_result"
    }
   ],
   "source": [
    "#Metrics to see the error between the test and our mean basline model for 7\n",
    "dist_7_abs = (a_3 - mean7).abs().mean() #Mean Absolute difference (L1 Norm)\n",
    "dist_7_sqr = ((a_3 - mean7)**2).mean().sqrt() #Root Mean square error(L2)\n",
    "dist_7_abs,dist_7_sqr#Displaying both the errors "
   ]
  },
  {
   "cell_type": "markdown",
   "metadata": {},
   "source": [
    "We calculated metrics for the distance of sample image from both \"ideal 3\" and \"ideal 7\".We can \n",
    "observe that both the errors have less values in case of 3 then with 7.Since the error is less with\n",
    "\"3\" , we can conclude that our sample image is \"3\" and hence our baseline model is good for this \n",
    "prediction."
   ]
  },
  {
   "cell_type": "markdown",
   "metadata": {},
   "source": [
    "Here we calculated error by providing formula for calculation.But Pytorch provides packages for Loss\n",
    "functions.It provides it under \"torch.nn.functional\",which we can import it as F and can then use as \n",
    "below:"
   ]
  },
  {
   "cell_type": "code",
   "execution_count": 26,
   "metadata": {},
   "outputs": [
    {
     "data": {
      "text/plain": [
       "(tensor(0.1586), tensor(0.3021))"
      ]
     },
     "execution_count": 26,
     "metadata": {},
     "output_type": "execute_result"
    }
   ],
   "source": [
    "#In built pytorch functions for L1 and RMSE \n",
    "F.l1_loss(a_3.float(),mean7), F.mse_loss(a_3,mean7).sqrt()"
   ]
  },
  {
   "cell_type": "markdown",
   "metadata": {},
   "source": [
    "### NumPy Arrays and PyTorch Tensors"
   ]
  },
  {
   "cell_type": "markdown",
   "metadata": {},
   "source": [
    "In the start we mentioned that Numpy arrays and Pytorch Tensors have almost same functionalities\n",
    "except the fact that Pytorch supports GPU operations whereas numpy does not.This is critical for deep\n",
    "learning.\n",
    "We know python is a slow language.In these cases things like Numpy and Pytorch are very faster than \n",
    "pure Python and can finish complex calculations at much faster rate than Pure Python.\n",
    "Let us learn about basic differences between tensors and arrays:"
   ]
  },
  {
   "cell_type": "markdown",
   "metadata": {},
   "source": [
    "Numpy array is a container for n-dimensional data where all items are of same data type.Numpy provides\n",
    "various operators and methods for computations and that is why is popular for scientific programming.\n",
    "\n",
    "Pytorch tensors is same as Numpy array but it comes with additional functionalities too.It is same as\n",
    "numpy arrays that is n-dimensional data container with all items of same data type.It is different in\n",
    "this aspect that as we have nested arrays we do not have nested tensors.Also Pytorch objects are\n",
    "capable of working on GPU so computations are faster.Pytorch also provides packages for calculating\n",
    "gradients for any set of operations on Objects."
   ]
  },
  {
   "cell_type": "markdown",
   "metadata": {},
   "source": [
    "Let us learn about some basic operations on arrays and tensors:-"
   ]
  },
  {
   "cell_type": "code",
   "execution_count": 27,
   "metadata": {},
   "outputs": [],
   "source": [
    "#Converting data into array and tensors\n",
    "data = [[1,2,3],[4,5,6]]\n",
    "arr = array (data)\n",
    "tns = tensor(data)"
   ]
  },
  {
   "cell_type": "code",
   "execution_count": 28,
   "metadata": {},
   "outputs": [
    {
     "data": {
      "text/plain": [
       "array([[1, 2, 3],\n",
       "       [4, 5, 6]])"
      ]
     },
     "execution_count": 28,
     "metadata": {},
     "output_type": "execute_result"
    }
   ],
   "source": [
    "arr  # numpy array"
   ]
  },
  {
   "cell_type": "code",
   "execution_count": 29,
   "metadata": {},
   "outputs": [
    {
     "data": {
      "text/plain": [
       "tensor([[1, 2, 3],\n",
       "        [4, 5, 6]])"
      ]
     },
     "execution_count": 29,
     "metadata": {},
     "output_type": "execute_result"
    }
   ],
   "source": [
    "tns  # pytorch tensors"
   ]
  },
  {
   "cell_type": "code",
   "execution_count": 30,
   "metadata": {},
   "outputs": [
    {
     "data": {
      "text/plain": [
       "tensor([4, 5, 6])"
      ]
     },
     "execution_count": 30,
     "metadata": {},
     "output_type": "execute_result"
    }
   ],
   "source": [
    "tns[1]   #Accessing Tensor elements"
   ]
  },
  {
   "cell_type": "code",
   "execution_count": 31,
   "metadata": {},
   "outputs": [
    {
     "data": {
      "text/plain": [
       "tensor([2, 5])"
      ]
     },
     "execution_count": 31,
     "metadata": {},
     "output_type": "execute_result"
    }
   ],
   "source": [
    "tns[:,1] #Tensor slice containing elements at 1st position in all rows"
   ]
  },
  {
   "cell_type": "code",
   "execution_count": 32,
   "metadata": {},
   "outputs": [
    {
     "data": {
      "text/plain": [
       "tensor([5, 6])"
      ]
     },
     "execution_count": 32,
     "metadata": {},
     "output_type": "execute_result"
    }
   ],
   "source": [
    "tns[1,1:3] #Slicing tensors 1st row and 1st and 2nd column elements"
   ]
  },
  {
   "cell_type": "code",
   "execution_count": 33,
   "metadata": {},
   "outputs": [
    {
     "data": {
      "text/plain": [
       "tensor([[2, 3, 4],\n",
       "        [5, 6, 7]])"
      ]
     },
     "execution_count": 33,
     "metadata": {},
     "output_type": "execute_result"
    }
   ],
   "source": [
    "#Addition of a scalar to tensor\n",
    "tns+1"
   ]
  },
  {
   "cell_type": "code",
   "execution_count": 34,
   "metadata": {},
   "outputs": [
    {
     "data": {
      "text/plain": [
       "'torch.LongTensor'"
      ]
     },
     "execution_count": 34,
     "metadata": {},
     "output_type": "execute_result"
    }
   ],
   "source": [
    "tns.type()#Type of tensor"
   ]
  },
  {
   "cell_type": "code",
   "execution_count": 35,
   "metadata": {},
   "outputs": [
    {
     "data": {
      "text/plain": [
       "tensor([[1.5000, 3.0000, 4.5000],\n",
       "        [6.0000, 7.5000, 9.0000]])"
      ]
     },
     "execution_count": 35,
     "metadata": {},
     "output_type": "execute_result"
    }
   ],
   "source": [
    "#Multiplying a scalar  by tensor\n",
    "tns*1.5"
   ]
  },
  {
   "cell_type": "markdown",
   "metadata": {},
   "source": [
    "All the operations we showed on tensors have identical syntax for Numpy arrays."
   ]
  },
  {
   "cell_type": "markdown",
   "metadata": {},
   "source": [
    "## Computing Metrics Using Broadcasting"
   ]
  },
  {
   "cell_type": "markdown",
   "metadata": {},
   "source": [
    "So far we have defined a baseline model for the digit classification.But how do we evaluate our model\n",
    "performance.We had a validation set also in the downloaded mnist sample subset.In general to avoid \n",
    "models from getting overfit,we evaluate their performance on validation set also.Since here we are\n",
    "using pixel similarity model which just calculates mean and is not getting trained on any data but \n",
    "still we can see how this model performs on validation set."
   ]
  },
  {
   "cell_type": "markdown",
   "metadata": {},
   "source": [
    "Let us repeat the same process of converting images into list of tensors and then stacking the tensors\n",
    "to create a three dimensional tensor of images for the 3s and 7s images in validation set."
   ]
  },
  {
   "cell_type": "code",
   "execution_count": 36,
   "metadata": {},
   "outputs": [
    {
     "data": {
      "text/plain": [
       "(torch.Size([1010, 28, 28]), torch.Size([1028, 28, 28]))"
      ]
     },
     "execution_count": 36,
     "metadata": {},
     "output_type": "execute_result"
    }
   ],
   "source": [
    "#Previous processing steps on validation set for evaluating baseline model performance\n",
    "#Validation 3 images converted into tensors which are then stacked into 3d image blocks\n",
    "valid_3_tens = torch.stack([tensor(Image.open(o)) \n",
    "                            for o in (path/'valid'/'3').ls()])\n",
    "valid_3_tens = valid_3_tens.float()/255 #Pixels normalized between 0 and 1\n",
    "#Validation 3 images converted into tensors which are then stacked into 3d image blocks\n",
    "valid_7_tens = torch.stack([tensor(Image.open(o)) \n",
    "                            for o in (path/'valid'/'7').ls()])#Pixels normalized between 0 and 1\n",
    "valid_7_tens = valid_7_tens.float()/255\n",
    "valid_3_tens.shape,valid_7_tens.shape"
   ]
  },
  {
   "cell_type": "markdown",
   "metadata": {},
   "source": [
    "Last we check the shape of the stacked images and it is 3 dimensional with 0 axis of 1010 and 1028 \n",
    "length.These are the number of images in the Validation set.\n",
    "Now we want to find for each image in these stacked tensors if they are 3 or 7.We can write a function\n",
    "\"is_3\" which will see the error between the sample image tensor and the ideal 3 we calculated before.\n",
    "Since this is a binary classification problem so we need not check for 7.Earlier we saw that error was\n",
    "calculated using MAE and MSE.\n",
    "Now we write a simple function which takes two tensors as input and calculates the mean absolute error\n",
    "between them."
   ]
  },
  {
   "cell_type": "code",
   "execution_count": 37,
   "metadata": {},
   "outputs": [
    {
     "data": {
      "text/plain": [
       "tensor(0.1114)"
      ]
     },
     "execution_count": 37,
     "metadata": {},
     "output_type": "execute_result"
    }
   ],
   "source": [
    "#A simple function which accepts two tensors(in this case test image tensor and baseline mean tensor)\n",
    "# and calculates the mean absolute error along the x and y axes\n",
    "def mnist_distance(a,b): \n",
    "    return (a-b).abs().mean((-1,-2)) #mean over x and y axes(last and second last distance)\n",
    "mnist_distance(a_3, mean3)"
   ]
  },
  {
   "cell_type": "markdown",
   "metadata": {},
   "source": [
    "In the above cell we passed the single test image and the mean value for the \"ideal 3\" we calculated \n",
    "earlier.Both of these are tensors with shape(28*28).Above we passed a single image,but when we are\n",
    "doing it for validation set we need to pass every image tensor through the function.Traditional\n",
    "programming says that we can loop through the stacked tensor for every image and calculate the error.\n",
    "But that is a slow method.Numpy arrays use something called \"Broadcasting\" and even we can use the \n",
    "same.So next instead of passing only one tensor we pass the stacked three dimensional Image tensor\n",
    "directly.Let us see what output we get and what is it's shape."
   ]
  },
  {
   "cell_type": "code",
   "execution_count": 38,
   "metadata": {},
   "outputs": [
    {
     "data": {
      "text/plain": [
       "(tensor([0.1280, 0.1623, 0.1242,  ..., 0.1508, 0.1263, 0.1260]),\n",
       " torch.Size([1010]))"
      ]
     },
     "execution_count": 38,
     "metadata": {},
     "output_type": "execute_result"
    }
   ],
   "source": [
    "#What happens wehn we pass whole stacked 3d stacked image tensor through the absolute error function\n",
    "valid_3_dist = mnist_distance(valid_3_tens, mean3)\n",
    "valid_3_dist, valid_3_dist.shape#Returns list of 1010 tensors and broadcasting happens to calculate \n",
    "#the difference between the two differently shaped tensors/arrays"
   ]
  },
  {
   "cell_type": "markdown",
   "metadata": {},
   "source": [
    "We can see that we get a tensor with as many distance values as there were Images in \"valid_3_tens\".\n",
    "The shape of the output tensor also verifies the same.\n",
    "Now in mnist_distance function we are performing subtraction between two tensors at pixel level.But \n",
    "earlier when we passed both the tensors of same shape,it worked at pixel level.In the above cell we \n",
    "passed a tensor of different rank so it performs subtraction between tensors of different ranks using\n",
    "Broadcasting.It automatically expands the tensor with the smaller rank to have the same size as the\n",
    "one with larger rank and thus performs the calculation."
   ]
  },
  {
   "cell_type": "markdown",
   "metadata": {},
   "source": [
    "Let us see some of the basic operations on tensors of different ranks.."
   ]
  },
  {
   "cell_type": "code",
   "execution_count": 39,
   "metadata": {},
   "outputs": [
    {
     "data": {
      "text/plain": [
       "tensor([2, 3, 4])"
      ]
     },
     "execution_count": 39,
     "metadata": {},
     "output_type": "execute_result"
    }
   ],
   "source": [
    "#Addition operation between 2 same shaped tensors.Element wise addition occurs\n",
    "tensor([1,2,3]) + tensor([1,1,1]) #No broadcasting happens"
   ]
  },
  {
   "cell_type": "markdown",
   "metadata": {},
   "source": [
    "So in our case,we passed a rank-2 tensor representing a single image and the other stacked tensor had \n",
    "1010 stacked images in a 3d tensor so Pytorch extends the dimension of the rank-2 tensor and treats it\n",
    "as 1010 copies of the same.And Thus has the same shape as the stacked one."
   ]
  },
  {
   "cell_type": "code",
   "execution_count": 40,
   "metadata": {},
   "outputs": [
    {
     "data": {
      "text/plain": [
       "torch.Size([1010, 28, 28])"
      ]
     },
     "execution_count": 40,
     "metadata": {},
     "output_type": "execute_result"
    }
   ],
   "source": [
    "#subtraction between 2 differently ranked tensors as broadcasting happens \n",
    "#extra copies of the lower dimension tensor are created as many as the number of elements in higher dimension tensor\n",
    "(valid_3_tens-mean3).shape#Doesn't actually copy but pretends to copy while the mathematical operation happens"
   ]
  },
  {
   "cell_type": "markdown",
   "metadata": {},
   "source": [
    "Now we define function \"is_3\" which takes a tensor image as input and compares the distance(error)\n",
    "between the passed tensor and \"ideal 3\" and that of \"ideal 7\".It will return a binary output(True or\n",
    "False) on the basis which error is less."
   ]
  },
  {
   "cell_type": "code",
   "execution_count": 41,
   "metadata": {},
   "outputs": [],
   "source": [
    "#A function to predict if the passed tensor image is 3 or 7.\n",
    "def is_3(x): \n",
    "    return mnist_distance(x,mean3) < mnist_distance(x,mean7)\n",
    "#returns if the mean absolute error is greater with baseline model for 3 or that of 7 by calculating the error using mnist_distance function"
   ]
  },
  {
   "cell_type": "code",
   "execution_count": 42,
   "metadata": {},
   "outputs": [
    {
     "data": {
      "text/plain": [
       "(tensor(True), tensor(1.))"
      ]
     },
     "execution_count": 42,
     "metadata": {},
     "output_type": "execute_result"
    }
   ],
   "source": [
    "is_3(a_3), is_3(a_3).float()#Passing a3 test through is_3 and it turns out it's True"
   ]
  },
  {
   "cell_type": "markdown",
   "metadata": {},
   "source": [
    "Next instead of single tensor of rank-2 we pass stacked tensor of rank-3 which returns a tensor \n",
    "containing Boolean values.Through broadcasting every image inside the stacked tensor is compared with\n",
    "mean_3 and mean_7."
   ]
  },
  {
   "cell_type": "code",
   "execution_count": 43,
   "metadata": {},
   "outputs": [
    {
     "data": {
      "text/plain": [
       "tensor([ True,  True,  True,  ..., False,  True,  True])"
      ]
     },
     "execution_count": 43,
     "metadata": {},
     "output_type": "execute_result"
    }
   ],
   "source": [
    "#broadcasting the valid_3_tens set of all3 tensor and validating if they are 3 or not\n",
    "is_3(valid_3_tens)"
   ]
  },
  {
   "cell_type": "markdown",
   "metadata": {},
   "source": [
    "Now we calculate accuracy for training and validation sets by taking average of the function for all \n",
    "3s and since it is binary problem accuracy of 7s is inverse of 3s."
   ]
  },
  {
   "cell_type": "code",
   "execution_count": 44,
   "metadata": {},
   "outputs": [
    {
     "data": {
      "text/plain": [
       "(tensor(0.9168), tensor(0.9854), tensor(0.9511))"
      ]
     },
     "execution_count": 44,
     "metadata": {},
     "output_type": "execute_result"
    }
   ],
   "source": [
    "#Accuracy for the predictions by baseline model on validation sets for 3s and 7s\n",
    "accuracy_3s =      is_3(valid_3_tens).float() .mean()\n",
    "accuracy_7s = (1 - is_3(valid_7_tens).float()).mean()\n",
    "\n",
    "accuracy_3s,accuracy_7s,(accuracy_3s+accuracy_7s)/2"
   ]
  },
  {
   "cell_type": "markdown",
   "metadata": {},
   "source": [
    "Amazing we have a 90% accuracy on both 3s and 7s using a baseline model.But here we are classifying \n",
    "only 2 digits.So we need a better model.\n",
    "To get a better model,we can remember the basic logic of deep learning we learnt in first chapter,the \n",
    "model improves its performance itself by updating the parameters and optimizes the same.Let us\n",
    "learn about the training process and SGD,the most common optimizer used."
   ]
  },
  {
   "cell_type": "markdown",
   "metadata": {},
   "source": [
    "## Stochastic Gradient Descent (SGD)"
   ]
  },
  {
   "cell_type": "code",
   "execution_count": null,
   "metadata": {},
   "outputs": [],
   "source": [
    "We had discussed in the first Chapter about the \"Machine Learning\" definition provided by Arthur \n",
    "Samuel.He had described it as a means of testing the model performane by assigning correct weights\n",
    "and then update the weights accordingly to maximise the model performance.In a way he provided the\n",
    "definition of \"Deep learning\".In this way model becomes better but in the earlier pixel similarity \n",
    "model,there is no weight assignment,no training of the model,no learning from data.We just used a \n",
    "central tendency approach and compare our test samples with that.So we cannot improve \"Pixel Similari\n",
    "ty Model\".\n",
    "\n",
    "How do we improve any Machine Learning model using weight assignment?.What are the steps involved and\n",
    "how weights are updated acc to model performance?.Previously we saw that Images are made up of pixels\n",
    "whose values are fed into a model while dealing with them.Weights are assigned to individual pixels \n",
    "and highest weights are assigned to those which are black.These weights determine the probability of\n",
    "the digit in the Image.They would be different for different digits.The probability can be defined as\n",
    "a function of Image vector(x) and the set of weights(w).\n",
    "pr_eight(x,w)=(x*w).sum()\n",
    "Our aim is to find a set of weights(w) which maximises the value of this function.So the steps to find\n",
    "the best set of weights can be summarized as :-\n",
    "1.Randomly Initialize set of weights.\n",
    "2.Using them predict for each Image if it is 3 or 7.\n",
    "3.Calculate loss on the basis of predictions.Use appropriate Loss function.\n",
    "4.Now calculate gradient which will show how the weights should change.\n",
    "5.Update the weights according to gradient.\n",
    "6.Again make predictions and repeat the process\n",
    "7.Continue doing the same till you find that your model is making correct predictions.\n",
    "\n",
    "We should note this that these steps are in general True for every Deep Learning model and that every \n",
    "model uses these steps to solve any complex problem ultimately."
   ]
  },
  {
   "cell_type": "markdown",
   "metadata": {},
   "source": [
    "We would apply the general steps for training Deep learning model we discussed above to train our\n",
    "Digit Classifier from scratch.But before that we can understand the basic functionalities or packages\n",
    "we would use while implementing these."
   ]
  },
  {
   "cell_type": "code",
   "execution_count": 45,
   "metadata": {},
   "outputs": [],
   "source": [
    "#Minimizing loss function using stochastic Gradient descent\n",
    "def f(x):\n",
    "    return(x**2)"
   ]
  },
  {
   "cell_type": "markdown",
   "metadata": {},
   "source": [
    "Above we defined a quatratic function which can act like our loss function.X can be assumed as our\n",
    "weight parameter."
   ]
  },
  {
   "cell_type": "code",
   "execution_count": 46,
   "metadata": {},
   "outputs": [
    {
     "data": {
      "image/png": "[encoded data removed]",
      "text/plain": [
       "<Figure size 432x288 with 1 Axes>"
      ]
     },
     "metadata": {
      "needs_background": "light"
     },
     "output_type": "display_data"
    }
   ],
   "source": [
    "#plotting function using fast.ai plotting function\n",
    "plot_function(f, 'x', 'x**2')"
   ]
  },
  {
   "cell_type": "markdown",
   "metadata": {},
   "source": [
    "As we mentioned earlier first step would be randomly initializing our weights and making predictions \n",
    "and calculating loss.In the cell below the red point denotes our starting value of the loss.According-\n",
    "ly we will calculate gradient and update weights so that we reach the set if weights where loss \n",
    "function is minimum.In this case it is at the global minima of function at x=0."
   ]
  },
  {
   "cell_type": "code",
   "execution_count": 47,
   "metadata": {},
   "outputs": [
    {
     "data": {
      "image/png": "[encoded data removed]",
      "text/plain": [
       "<Figure size 432x288 with 1 Axes>"
      ]
     },
     "metadata": {
      "needs_background": "light"
     },
     "output_type": "display_data"
    }
   ],
   "source": [
    "#Starting point for gradient descent(Randomly chosen x value)\n",
    "plot_function(f, 'x', 'x**2')\n",
    "plt.scatter(-1.5, f(-1.5), color='red');"
   ]
  },
  {
   "cell_type": "markdown",
   "metadata": {},
   "source": [
    "So from the shape of the curve we can say that as we update the weights,the red point would keep \n",
    "sliding on the curve till it reaches x=0(global mimima).\n",
    "How do we update the parameters or weights?>We change the parameters by a small value in the direction\n",
    "of the slope of the curve.We repeat this a process many times until we reach the minimum of the \n",
    "function."
   ]
  },
  {
   "cell_type": "markdown",
   "metadata": {},
   "source": [
    "This idea was given by \"Issac Newton\" and does not change no matter how complicated the functions \n",
    "become.It is called \"Gradient Descent\" and is considered basic method for optimizing any function.\n"
   ]
  },
  {
   "cell_type": "markdown",
   "metadata": {},
   "source": [
    "### Calculating Gradients"
   ]
  },
  {
   "cell_type": "markdown",
   "metadata": {},
   "source": [
    "We looked above how we optimize the loss function by updating weights.The next step involves\n",
    "calculating gradient.It is also called \"slope\".It allows us to decide how to change our weights so \n",
    "that loss decreases.Gradient is also called \"derivative\" of any function if any of us remember that \n",
    "from our High School mathematics.\n",
    "More specifically \"Derivative\" is change in the value of a function divided by the change in the \n",
    "parameter.Calculus also provided shortcuts in the form of derivatives to calculate these gradients.\n",
    "Now as in our High School we would not have one function here with one parameter.Loss functions \n",
    "would have lots of parameters and with gradient we will get a gradient for every weight.So we would\n",
    "obtain a set of gradients for a set of weights.But it's notsomething complex.We calculate derivative\n",
    "with respect to one parameter while keeping others constant.In this way gradients for every weight are\n",
    "calculated."
   ]
  },
  {
   "cell_type": "markdown",
   "metadata": {},
   "source": [
    "Pytorch provides a package which lets us calculate gradient for any function.It's very easy and fast\n",
    "too.Let's see how we calculate gradients using pytorch."
   ]
  },
  {
   "cell_type": "code",
   "execution_count": 48,
   "metadata": {},
   "outputs": [],
   "source": [
    "#Applying requires_grad_() method of pytorch on xt so that everytime any operation is performed \n",
    "#it remembers it and calculates gradient\n",
    "xt = tensor(3.).requires_grad_()"
   ]
  },
  {
   "cell_type": "markdown",
   "metadata": {},
   "source": [
    "Let's define a tensor object x.The special method \"requires_grad()\" tells Pytorch about the gradient\n",
    "calculation.For every object we create for which we need to calculate the gradient,we tell Pytorch \n",
    "about this using requires_grad() method.\n",
    "Let us pass xt through a function."
   ]
  },
  {
   "cell_type": "code",
   "execution_count": 49,
   "metadata": {},
   "outputs": [
    {
     "data": {
      "text/plain": [
       "tensor(9., grad_fn=<PowBackward0>)"
      ]
     },
     "execution_count": 49,
     "metadata": {},
     "output_type": "execute_result"
    }
   ],
   "source": [
    "#Passing xt through f\n",
    "yt = f(xt)\n",
    "yt\n",
    "#Return squared value but also a gradient function which will be used for calculating the gradient"
   ]
  },
  {
   "cell_type": "markdown",
   "metadata": {},
   "source": [
    "In the above cell that while printing the output Pytorch also prints that it has a gradient function \n",
    "to calculate gradient whenever needed.Now we ask Pytorch to calculate gradient using .backward() \n",
    "method."
   ]
  },
  {
   "cell_type": "code",
   "execution_count": 50,
   "metadata": {},
   "outputs": [],
   "source": [
    "#This method does backpropogation that is takes derivative\n",
    "yt.backward()"
   ]
  },
  {
   "cell_type": "markdown",
   "metadata": {},
   "source": [
    "\"Backward\" means backpropogation.It means calculating derivative for each layer in neural net.In the \n",
    "further chapters we would know how it is done when we build a neural network from scratch.There is one\n",
    "called \"backward\" pass and something called \"forward pass\" in which activations are calculated and \n",
    "neurons are activated.We would do that in future.Let's see how do we view the gradient."
   ]
  },
  {
   "cell_type": "code",
   "execution_count": 51,
   "metadata": {},
   "outputs": [
    {
     "data": {
      "text/plain": [
       "tensor(6.)"
      ]
     },
     "execution_count": 51,
     "metadata": {},
     "output_type": "execute_result"
    }
   ],
   "source": [
    "#grad method gives gradient(derivative of f at xt=3)\n",
    "xt.grad"
   ]
  },
  {
   "cell_type": "markdown",
   "metadata": {},
   "source": [
    "We get a tensor with a single item 6 as gradient.Our function was y=x**2 so if we calculate derivative\n",
    "it should be 2*x and at x=3 it's value will be 6 which is what Pytorch calculates for us.Here we \n",
    "passed a single scalar value as a tensor.Let's see what happens when we pass a set of parameters as \n",
    "vector."
   ]
  },
  {
   "cell_type": "code",
   "execution_count": 52,
   "metadata": {},
   "outputs": [
    {
     "data": {
      "text/plain": [
       "tensor([ 3.,  4., 10.], requires_grad=True)"
      ]
     },
     "execution_count": 52,
     "metadata": {},
     "output_type": "execute_result"
    }
   ],
   "source": [
    "#Passing f through a rank 1 tensor or a vector with 3 elements\n",
    "xt = tensor([3.,4.,10.]).requires_grad_()\n",
    "xt"
   ]
  },
  {
   "cell_type": "code",
   "execution_count": 53,
   "metadata": {},
   "outputs": [
    {
     "data": {
      "text/plain": [
       "tensor(125., grad_fn=<SumBackward0>)"
      ]
     },
     "execution_count": 53,
     "metadata": {},
     "output_type": "execute_result"
    }
   ],
   "source": [
    "#modifying f function to give sum of the x\n",
    "def f(x): \n",
    "    return (x**2).sum()\n",
    "yt = f(xt)\n",
    "yt\n",
    "#A sum is added to the function so that instead of a vector we get a scalar as output."
   ]
  },
  {
   "cell_type": "markdown",
   "metadata": {},
   "source": [
    "Now we repeat the same process we did earlier.\"backward\" calculates the gradient and \".grad\" \n",
    "calculates the gradient."
   ]
  },
  {
   "cell_type": "code",
   "execution_count": 54,
   "metadata": {},
   "outputs": [
    {
     "data": {
      "text/plain": [
       "tensor([ 6.,  8., 20.])"
      ]
     },
     "execution_count": 54,
     "metadata": {},
     "output_type": "execute_result"
    }
   ],
   "source": [
    "#Backpropogation and calculating gradient from grad function.\n",
    "yt.backward()\n",
    "xt.grad\n",
    "#It gives a vector with the derivative for each element in the tensor"
   ]
  },
  {
   "cell_type": "markdown",
   "metadata": {},
   "source": [
    "We calculated gradients for our input xt=[3,4,10].We can see that the gradients are 2*xt the same\n",
    "values we expected.So we have learnt how to calculate gradients for a set of paramaters.But it doesn't\n",
    "tell us how we would change our parameters.Gradient only tells us that if it's very large,we need to\n",
    "update our weights by more amount or more no of times and if gradient is small,we need to make small\n",
    "updations as we may be near our global minima of the function."
   ]
  },
  {
   "cell_type": "markdown",
   "metadata": {},
   "source": [
    "Let's learn how do we step up the parameters using gradient.."
   ]
  },
  {
   "cell_type": "markdown",
   "metadata": {},
   "source": [
    "### Stepping With a Learning Rate"
   ]
  },
  {
   "cell_type": "markdown",
   "metadata": {},
   "source": [
    "Learning rate defines stepping the parametrs according to the gradients obtained.Gradients are \n",
    "multiplied by a number called \"Learning rate\" which is small in value(<1.).Learning rates are found by\n",
    "trial and error by trying a few and then deciding which fits our model best.Weights are adjusted \n",
    "according to the following equation:\n",
    "    w-=lr*gradient(w)\n",
    "Technically this step is called \"stepping the gradients\".Optimization rate depends on the learning \n",
    "rate.If \"lr\" is very small,then we need to update weights many times and it will take time to reach \n",
    "the minima with small steps but if we have very high learning rate it can update very fast and \n",
    "sometimes it may pass our minima point and become very high.This will result in model becoming worse."
   ]
  },
  {
   "cell_type": "markdown",
   "metadata": {},
   "source": [
    "### An End-to-End SGD Example"
   ]
  },
  {
   "cell_type": "markdown",
   "metadata": {},
   "source": [
    "We saw how we update our parameters to reach the minima of the loss function.But we did not see  a \n",
    "complete example till now where we optimize a function for a set of parameters and reach its minima.\n",
    "Let us see a complete example now:\n",
    "We take a simple example of measuring speed of a roller coaster as it climbs up the hill.Initially \n",
    "it would be fast but it would get slow as it reaches up.The speed would be minimum at the peak and \n",
    "would increase again as it starts moving down.We build a model which measures speed with time.If the \n",
    "speed changes every 20 secs,we can define time as follows:-"
   ]
  },
  {
   "cell_type": "code",
   "execution_count": 55,
   "metadata": {},
   "outputs": [
    {
     "data": {
      "text/plain": [
       "tensor([ 0.,  1.,  2.,  3.,  4.,  5.,  6.,  7.,  8.,  9., 10., 11., 12., 13., 14., 15., 16., 17., 18., 19.])"
      ]
     },
     "execution_count": 55,
     "metadata": {},
     "output_type": "execute_result"
    }
   ],
   "source": [
    "#Creating a tensor with 20 values representing time variable at which speed can be measured\n",
    "time = torch.arange(0,20).float(); \n",
    "time"
   ]
  },
  {
   "cell_type": "markdown",
   "metadata": {},
   "source": [
    "We define a quadratic function for speed using random values.We plot it against time."
   ]
  },
  {
   "cell_type": "code",
   "execution_count": 56,
   "metadata": {},
   "outputs": [
    {
     "data": {
      "image/png": "[encoded data removed]",
      "text/plain": [
       "<Figure size 432x288 with 1 Axes>"
      ]
     },
     "metadata": {
      "needs_background": "light"
     },
     "output_type": "display_data"
    }
   ],
   "source": [
    "#defining the speed function\n",
    "speed = torch.randn(20)*3 + 0.75*(time-9.5)**2 + 1\n",
    "plt.scatter(time,speed);\n",
    "#Plot speed against time and plot results in a convex function"
   ]
  },
  {
   "cell_type": "markdown",
   "metadata": {},
   "source": [
    "Since here we don't know how the actual function for speed look like we define a quadratic function \n",
    "of the form (a*time**2 + b*t +c) with parameters a,b and c.Now our input variable is time(t) and our\n",
    "function parameters(a,b and c).Using both we can calculate the speed of the roller coaster.Let's \n",
    "define a function which takes time(t) and parameters a,b,c as input and returns the speed value."
   ]
  },
  {
   "cell_type": "code",
   "execution_count": 57,
   "metadata": {},
   "outputs": [],
   "source": [
    "#function which returns the value of the function with the passed parameters at a passed value of time\n",
    "def f(t, params):\n",
    "    a,b,c = params\n",
    "    return a*(t**2) + (b*t) + c"
   ]
  },
  {
   "cell_type": "markdown",
   "metadata": {},
   "source": [
    "Now our main aim is to find best set of values for a,b and c.Quadratic function is considered to be \n",
    "the simplest one and thus optimizing it will help us in finding parametrs for more complex functions \n",
    "in neural nets.\n",
    "For best set of parameters we define a loss function which returns difference between the predictions\n",
    "and target speed.It returns difference so we try to minimize the loss function to find best a,b and c."
   ]
  },
  {
   "cell_type": "code",
   "execution_count": 58,
   "metadata": {},
   "outputs": [],
   "source": [
    "#defining the loss function returning the mean squared error between the \n",
    "#passed target and predicted values\n",
    "def mse(preds, targets): \n",
    "    return ((preds-targets)**2).mean()"
   ]
  },
  {
   "cell_type": "markdown",
   "metadata": {},
   "source": [
    "Now we have discussed the main mechanism behind the process like calulating gradients,updating the \n",
    "weights and optimizing the loss function.Let's follow each and every step from the starting now.."
   ]
  },
  {
   "cell_type": "markdown",
   "metadata": {},
   "source": [
    "#### Step 1: Initialize the parameters"
   ]
  },
  {
   "cell_type": "markdown",
   "metadata": {},
   "source": [
    "As mentioned before first we initialize our parameters to random values.Since we have a,b and c ,3 \n",
    "parameters so we initialize a vector of 3 random items with requires_grad() method provided by Pytorch\n",
    "since we will calculate gradients further in process."
   ]
  },
  {
   "cell_type": "code",
   "execution_count": 59,
   "metadata": {},
   "outputs": [],
   "source": [
    "#Starting with SGD\n",
    "#Step-1 Initializing random gradients with required_grad_() to calculate the gradient\n",
    "params = torch.randn(3).requires_grad_()"
   ]
  },
  {
   "cell_type": "code",
   "execution_count": 60,
   "metadata": {},
   "outputs": [],
   "source": [
    "#hide\n",
    "orig_params = params.clone()"
   ]
  },
  {
   "cell_type": "markdown",
   "metadata": {},
   "source": [
    "#### Step 2: Calculate the predictions"
   ]
  },
  {
   "cell_type": "markdown",
   "metadata": {},
   "source": [
    "In the next step we calculate our predictions by passing the randomly initialized parameters in the \n",
    "earlier step.We pass the parametrs and time vector through the prediction function declared earlier.\n",
    "It returns the speed value."
   ]
  },
  {
   "cell_type": "code",
   "execution_count": 61,
   "metadata": {},
   "outputs": [],
   "source": [
    "#Step-2 calculate the speed prediction using the function f defined above\n",
    "preds = f(time, params)"
   ]
  },
  {
   "cell_type": "markdown",
   "metadata": {},
   "source": [
    "Next since we have made our predictions we define a function to see how close or how far are our \n",
    "predictions and targets are from each other."
   ]
  },
  {
   "cell_type": "code",
   "execution_count": 62,
   "metadata": {},
   "outputs": [],
   "source": [
    "#A function which takes predictions as input and plots predictions and target together\n",
    "def show_preds(preds, ax=None):\n",
    "    if ax is None: ax=plt.subplots()[1]\n",
    "    ax.scatter(time, speed)\n",
    "    ax.scatter(time, to_np(preds), color='red')\n",
    "    ax.set_ylim(-300,100)"
   ]
  },
  {
   "cell_type": "markdown",
   "metadata": {},
   "source": [
    "Let's call the function to plot target and predictions together and see how accurate are our \n",
    "predictions."
   ]
  },
  {
   "cell_type": "code",
   "execution_count": 63,
   "metadata": {},
   "outputs": [
    {
     "data": {
      "image/png": "[encoded data removed]",
      "text/plain": [
       "<Figure size 432x288 with 1 Axes>"
      ]
     },
     "metadata": {
      "needs_background": "light"
     },
     "output_type": "display_data"
    }
   ],
   "source": [
    "#Calling the show_preds function to plot target and predicted speeds together\n",
    "show_preds(preds)\n",
    "#It can be observed that using random values the predictions are pretty bad"
   ]
  },
  {
   "cell_type": "markdown",
   "metadata": {},
   "source": [
    "The predictions and targets are not at all close and even shows having a negative speed."
   ]
  },
  {
   "cell_type": "markdown",
   "metadata": {},
   "source": [
    "#### Step 3: Calculate the loss"
   ]
  },
  {
   "cell_type": "markdown",
   "metadata": {},
   "source": [
    "Next we calculate the loss using the loss function declared earlier.We pass the predictions and the \n",
    "target speed."
   ]
  },
  {
   "cell_type": "code",
   "execution_count": 64,
   "metadata": {},
   "outputs": [
    {
     "data": {
      "text/plain": [
       "tensor(25823.8086, grad_fn=<MeanBackward0>)"
      ]
     },
     "execution_count": 64,
     "metadata": {},
     "output_type": "execute_result"
    }
   ],
   "source": [
    "#Calculate the loss by passing the predictions and target through the mse function\n",
    "loss = mse(preds, speed)\n",
    "loss\n",
    "#Very high loss is obtained"
   ]
  },
  {
   "cell_type": "markdown",
   "metadata": {},
   "source": [
    "#### Step 4: Calculate the gradients"
   ]
  },
  {
   "cell_type": "markdown",
   "metadata": {},
   "source": [
    "We calculate gradients using .backward() and then view it using .grad method"
   ]
  },
  {
   "cell_type": "code",
   "execution_count": 65,
   "metadata": {},
   "outputs": [
    {
     "data": {
      "text/plain": [
       "tensor([-53195.8594,  -3419.7146,   -253.8908])"
      ]
     },
     "execution_count": 65,
     "metadata": {},
     "output_type": "execute_result"
    }
   ],
   "source": [
    "#Now we calculate the gradient by using backpropogation and then grad method\n",
    "loss.backward()\n",
    "params.grad#Gradient with respect to parameters is calculated"
   ]
  },
  {
   "cell_type": "markdown",
   "metadata": {},
   "source": [
    "Choose a lower learning rate and multiply the gradient by learning rate"
   ]
  },
  {
   "cell_type": "code",
   "execution_count": 66,
   "metadata": {},
   "outputs": [
    {
     "data": {
      "text/plain": [
       "tensor([-0.5320, -0.0342, -0.0025])"
      ]
     },
     "execution_count": 66,
     "metadata": {},
     "output_type": "execute_result"
    }
   ],
   "source": [
    "#multiply the gradient by learning rate\n",
    "params.grad * 1e-5"
   ]
  },
  {
   "cell_type": "code",
   "execution_count": 67,
   "metadata": {},
   "outputs": [
    {
     "data": {
      "text/plain": [
       "tensor([-0.7658, -0.7506,  1.3525], requires_grad=True)"
      ]
     },
     "execution_count": 67,
     "metadata": {},
     "output_type": "execute_result"
    }
   ],
   "source": [
    "params"
   ]
  },
  {
   "cell_type": "markdown",
   "metadata": {},
   "source": [
    "#### Step 5: Step the weights. "
   ]
  },
  {
   "cell_type": "markdown",
   "metadata": {},
   "source": [
    "Next we step our parameters using the gradient calculated and the learning rate.\n",
    "Now in the equation .data is used with params because Pytorch actually remembers every operation so as\n",
    "to calculate gradient on it later on.Here in this step we do not want Pytorch to calculate gradient \n",
    "for stepping our gradients and therefore we use.data method to update the parameters.\n"
   ]
  },
  {
   "cell_type": "code",
   "execution_count": 68,
   "metadata": {},
   "outputs": [],
   "source": [
    "#Updating the weights(parameters) using the learning rate and gradient\n",
    "lr = 1e-5\n",
    "params.data -= lr * params.grad.data #.data is used when we don't want the gradient to be calculated\n",
    "params.grad = None"
   ]
  },
  {
   "cell_type": "markdown",
   "metadata": {},
   "source": [
    "Let us repeat the earlier steps again that is get predictions,get the loss function and see\n",
    "how close the predictions are."
   ]
  },
  {
   "cell_type": "code",
   "execution_count": 69,
   "metadata": {},
   "outputs": [
    {
     "data": {
      "text/plain": [
       "tensor(5435.5366, grad_fn=<MeanBackward0>)"
      ]
     },
     "execution_count": 69,
     "metadata": {},
     "output_type": "execute_result"
    }
   ],
   "source": [
    "#Finding new predictions using the updated parameters and calculating the loss using the new predictions and target\n",
    "preds = f(time,params)\n",
    "mse(preds, speed)\n",
    "# It can be observed that loss decreases drastically thus showing that weights are updated in correct direction"
   ]
  },
  {
   "cell_type": "code",
   "execution_count": 70,
   "metadata": {},
   "outputs": [
    {
     "data": {
      "image/png": "[encoded data removed]",
      "text/plain": [
       "<Figure size 432x288 with 1 Axes>"
      ]
     },
     "metadata": {
      "needs_background": "light"
     },
     "output_type": "display_data"
    }
   ],
   "source": [
    "#plotting the new predictions with the target speed\n",
    "show_preds(preds)"
   ]
  },
  {
   "cell_type": "markdown",
   "metadata": {},
   "source": [
    "This process has to be repeated many times so lets create a function to step our parameters(update\n",
    "the weights)"
   ]
  },
  {
   "cell_type": "code",
   "execution_count": 71,
   "metadata": {},
   "outputs": [],
   "source": [
    "#defining a function for making predictions using passed parameters,calculating loss function value\n",
    "#the gradient, then updating the weights according to the value of the loss function\n",
    "def apply_step(params, prn=True):\n",
    "    preds = f(time, params)#get predictions\n",
    "    loss = mse(preds, speed)#calculate loss\n",
    "    loss.backward()#calculate gradients\n",
    "    params.data -= lr * params.grad.data#update the parameters\n",
    "    params.grad = None\n",
    "    if prn: \n",
    "        print(loss.item()) #print loss\n",
    "    return preds#return predictions"
   ]
  },
  {
   "cell_type": "markdown",
   "metadata": {},
   "source": [
    "#### Step 6: Repeat the process "
   ]
  },
  {
   "cell_type": "markdown",
   "metadata": {},
   "source": [
    "Now using loop we iterate over this process and repeat this several times to reach minimum of our \n",
    "loss function."
   ]
  },
  {
   "cell_type": "code",
   "execution_count": 72,
   "metadata": {},
   "outputs": [
    {
     "name": "stdout",
     "output_type": "stream",
     "text": [
      "5435.53662109375\n",
      "1577.4495849609375\n",
      "847.3780517578125\n",
      "709.22265625\n",
      "683.0757446289062\n",
      "678.12451171875\n",
      "677.1839599609375\n",
      "677.0025024414062\n",
      "676.96435546875\n",
      "676.9537353515625\n"
     ]
    }
   ],
   "source": [
    "#repeating the process continuously by calling the apply_step function and \n",
    "#calculating the loss function value after each iteration\n",
    "for i in range(10): apply_step(params)"
   ]
  },
  {
   "cell_type": "code",
   "execution_count": 73,
   "metadata": {},
   "outputs": [],
   "source": [
    "#hide\n",
    "params = orig_params.detach().requires_grad_()"
   ]
  },
  {
   "cell_type": "markdown",
   "metadata": {},
   "source": [
    "The loss is definitely decreasing on each iteration.But after certain iterations ,it decreases at very\n",
    "small rate.Let us see this visually by plotting predictions and target together."
   ]
  },
  {
   "cell_type": "code",
   "execution_count": 74,
   "metadata": {},
   "outputs": [
    {
     "data": {
      "image/png": "[encoded data removed]",
      "text/plain": [
       "<Figure size 864x216 with 4 Axes>"
      ]
     },
     "metadata": {
      "needs_background": "light"
     },
     "output_type": "display_data"
    }
   ],
   "source": [
    "_,axs = plt.subplots(1,4,figsize=(12,3))\n",
    "for ax in axs: \n",
    "    show_preds(apply_step(params, False), ax)\n",
    "plt.tight_layout()"
   ]
  },
  {
   "cell_type": "markdown",
   "metadata": {},
   "source": [
    "#### Step 7: stop"
   ]
  },
  {
   "cell_type": "markdown",
   "metadata": {},
   "source": [
    "Here we stopped after 10 iterations,but in practice training and validation loss is observed and \n",
    "other metrics such as entropy loss,accuracy or error_rate to see where to stop the model training."
   ]
  },
  {
   "cell_type": "markdown",
   "metadata": {},
   "source": [
    "### Summarizing Gradient Descent"
   ]
  },
  {
   "cell_type": "markdown",
   "metadata": {},
   "source": [
    "In the beginning we initialized our weights to be random or they come from pretrained model.(from \n",
    "transfer learning).Then in the next step we make our predictions using these weights.Now its very rare\n",
    "that in the starting only we get our predictions near to our target variable.That is why we use \n",
    "Gradient Descent to update our weights to train our model.\n",
    "After obtaining predictions we compare them with our targets(actual labels) using loss function.In \n",
    "case of continuous values it is mostly mean squared error but there are other loss functions too.It \n",
    "outputs a number which we are trying to minimize by updating our weights.It is the same number which \n",
    "we had plotted earlier.Now to minimize the value given by loss function,we make little adjustments to\n",
    "our weights.\n",
    "We update the weights using learning rate and by calculating the gradients.Pytorch provides special\n",
    "Autograd package for calculating gradients fastly.We update our weights according to the magnitude of \n",
    "the gradient.Weights are updated by multiplying gradients with learning rate which decides the step \n",
    "size.We keep repeating the process until we reach minima of our loss function and then we stop at that\n",
    "point.The set of weights used in the last iterations are considered to be the optimized ones.\n",
    "This process is termed as Gradient Descent as we descend towards the minima of our loss function using\n",
    "gradients."
   ]
  },
  {
   "cell_type": "markdown",
   "metadata": {},
   "source": [
    "## The MNIST Loss Function"
   ]
  },
  {
   "cell_type": "markdown",
   "metadata": {},
   "source": [
    "Now as we understood the whole process of Gradient Descent for optimizing our loss function,we can \n",
    "apply this on the MNISt dataset too.All the steps can be applied directly to MNIST except for the \n",
    "loss function.Let's define an appropriate loss function for MNIST data."
   ]
  },
  {
   "cell_type": "markdown",
   "metadata": {},
   "source": [
    "Our independent variables(x) are our images.We need to combine them into a single tensor and also\n",
    "change the dimension of the tensor to rank-2 tensor.Dimension is changed using view method in Pytorch.\n",
    "We pass the shape in the view method.-1 is a special parameter passed through view which fits the \n",
    "axis length such that all data fits in."
   ]
  },
  {
   "cell_type": "code",
   "execution_count": 75,
   "metadata": {},
   "outputs": [],
   "source": [
    "#Concatenating 3s and 7s into one matrix and changing the rank of the tensors from 3 to 2 using Pytorch's view method\n",
    "train_x = torch.cat([stacked_threes, stacked_sevens]).view(-1, 28*28) #view(-1,28*28) 28*28 columns and no of rows same as original data"
   ]
  },
  {
   "cell_type": "markdown",
   "metadata": {},
   "source": [
    "Defining the target variable for our training data.Since we are only considering 3s and 7s in our data\n",
    "so we use 1 as label for \"3\" and 0 for \"7\"."
   ]
  },
  {
   "cell_type": "code",
   "execution_count": 76,
   "metadata": {},
   "outputs": [
    {
     "data": {
      "text/plain": [
       "(torch.Size([12396, 784]), torch.Size([12396, 1]))"
      ]
     },
     "execution_count": 76,
     "metadata": {},
     "output_type": "execute_result"
    }
   ],
   "source": [
    "#Labelling the image with 1 for Three images and 0 for 7 images unsequeeze will add one dimension\n",
    "train_y = tensor([1]*len(threes) + [0]*len(sevens)).unsqueeze(1)\n",
    "train_x.shape,train_y.shape"
   ]
  },
  {
   "cell_type": "markdown",
   "metadata": {},
   "source": [
    "Dataset is an object in Pytorch which is used to store data.It returns a tuple (x,y) containing \n",
    "indpendent(x) and dependent(y) variable.\"zip\" function combines x_train and y_train into tuple and \n",
    "combined with list it gives the list of tuples having x,y."
   ]
  },
  {
   "cell_type": "code",
   "execution_count": 77,
   "metadata": {},
   "outputs": [
    {
     "data": {
      "text/plain": [
       "(torch.Size([784]), tensor([1]))"
      ]
     },
     "execution_count": 77,
     "metadata": {},
     "output_type": "execute_result"
    }
   ],
   "source": [
    "#converting train_x and train_y into a dataset using zip which return a tuple\n",
    "dset = list(zip(train_x,train_y))\n",
    "x,y = dset[0] # returns a tuple with dependent and independent variable\n",
    "x.shape,y #y-label,x-image"
   ]
  },
  {
   "cell_type": "markdown",
   "metadata": {},
   "source": [
    "We repeat the same procedure for validation set"
   ]
  },
  {
   "cell_type": "code",
   "execution_count": 78,
   "metadata": {},
   "outputs": [],
   "source": [
    "#Repeating the same process for validation data\n",
    "valid_x = torch.cat([valid_3_tens, valid_7_tens]).view(-1, 28*28)\n",
    "valid_y = tensor([1]*len(valid_3_tens) + [0]*len(valid_7_tens)).unsqueeze(1)\n",
    "valid_dset = list(zip(valid_x,valid_y))"
   ]
  },
  {
   "cell_type": "markdown",
   "metadata": {},
   "source": [
    "Next we define a function for randomly initializing weights for each pixel in dataset.We pass size \n",
    "through the init_params function which returns a tensor of  passed size containing randomly\n",
    "initialized weights along with the .requires_grad().We are required to calculate gradients in future \n",
    "so we use requires_grad() method."
   ]
  },
  {
   "cell_type": "code",
   "execution_count": 79,
   "metadata": {},
   "outputs": [],
   "source": [
    "#Initialize parameters\n",
    "def init_params(size, std=1.0): \n",
    "    return (torch.randn(size)*std).requires_grad_()#tell pytorch to get gradients.required_grad_()"
   ]
  },
  {
   "cell_type": "markdown",
   "metadata": {},
   "source": [
    "Earlier we saw that the probability function for an image is given by \"weight*pixels\".But that is not\n",
    "enough because when pixels are zero,then the product will also be zero.And therefore a \"bias\" term is\n",
    "added which is also initialized randomly"
   ]
  },
  {
   "cell_type": "code",
   "execution_count": 82,
   "metadata": {},
   "outputs": [],
   "source": [
    "weights = init_params((28*28,1))#storing returned weights"
   ]
  },
  {
   "cell_type": "markdown",
   "metadata": {},
   "source": [
    "Now in the beginning of this chapter we saw that the probability function for an image is given by \n",
    "\"weight*pixels\".But that is not enough because when pixels are zero,then the product will also be zero\n",
    ".And therefore a \"bias\" term is added which is also initialized randomly using init_params."
   ]
  },
  {
   "cell_type": "code",
   "execution_count": 83,
   "metadata": {},
   "outputs": [],
   "source": [
    "#Initialize bias term(b) for the equation wx+b\n",
    "bias = init_params(1)"
   ]
  },
  {
   "cell_type": "markdown",
   "metadata": {},
   "source": [
    "Thus we introduced a bias term(b) also into the neural network.The equation thus becomes y=wx+b.\n",
    "Weights(w) and bias(b) together are called parameters."
   ]
  },
  {
   "cell_type": "code",
   "execution_count": 84,
   "metadata": {},
   "outputs": [
    {
     "data": {
      "text/plain": [
       "tensor([20.2336], grad_fn=<AddBackward0>)"
      ]
     },
     "execution_count": 84,
     "metadata": {},
     "output_type": "execute_result"
    }
   ],
   "source": [
    "#getting prediction for one image\n",
    "#defining the equation(wx+b) Weights*input +Bias\n",
    "(train_x[0]*weights.T).sum() + bias"
   ]
  },
  {
   "cell_type": "markdown",
   "metadata": {},
   "source": [
    "A for loop can be used to iterate over every image to calculate each prediction but it will take a \n",
    "lot of time.Also python loops don't run on GPU.As such also Python is considered slow language.\n",
    "In this case we can use matrix multiplication calculating w*x for every image in the row of matrix.\n",
    "Matrix multiplication can be represented by @ operator in Python."
   ]
  },
  {
   "cell_type": "markdown",
   "metadata": {},
   "source": [
    "We define a function linear below through which we pass our X_train.It calculates wx+b for every image\n",
    "in the data and gets the predictions."
   ]
  },
  {
   "cell_type": "code",
   "execution_count": 85,
   "metadata": {},
   "outputs": [
    {
     "data": {
      "text/plain": [
       "tensor([[20.2336],\n",
       "        [17.0644],\n",
       "        [15.2384],\n",
       "        ...,\n",
       "        [18.3804],\n",
       "        [23.8567],\n",
       "        [28.6816]], grad_fn=<AddBackward0>)"
      ]
     },
     "execution_count": 85,
     "metadata": {},
     "output_type": "execute_result"
    }
   ],
   "source": [
    "#returning the predictions for the training set by matrix multiplication with weights and then bias added.\n",
    "def linear1(xb): \n",
    "    return xb@weights + bias #@ for matrix multiplication\n",
    "preds = linear1(train_x)\n",
    "preds"
   ]
  },
  {
   "cell_type": "markdown",
   "metadata": {},
   "source": [
    "We can observe from the first value in the predictions.It is the same as the one we previously \n",
    "calculated for first image separately.\"Wx+b\" or \"Weights*Input+bias\" is considered one of the \n",
    "fundamental equations of any neural network."
   ]
  },
  {
   "cell_type": "markdown",
   "metadata": {},
   "source": [
    "To check accuracy of the predictions we just check if they are greater than zero.Since 3s had label 1 \n",
    "and 7 had 0 so images which are 3 will have pred>0."
   ]
  },
  {
   "cell_type": "code",
   "execution_count": 88,
   "metadata": {},
   "outputs": [
    {
     "data": {
      "text/plain": [
       "tensor([[ True],\n",
       "        [ True],\n",
       "        [ True],\n",
       "        ...,\n",
       "        [False],\n",
       "        [False],\n",
       "        [False]])"
      ]
     },
     "execution_count": 88,
     "metadata": {},
     "output_type": "execute_result"
    }
   ],
   "source": [
    "#Labelling our predictions with 0(not3) and 1(is3)\n",
    "corrects = (preds>0.0).float() == train_y\n",
    "corrects"
   ]
  },
  {
   "cell_type": "markdown",
   "metadata": {},
   "source": [
    "We calculate the fraction of images which are predicted as 3 by taking mean of the \"True\" predictions."
   ]
  },
  {
   "cell_type": "code",
   "execution_count": 89,
   "metadata": {},
   "outputs": [
    {
     "data": {
      "text/plain": [
       "0.4912068545818329"
      ]
     },
     "execution_count": 89,
     "metadata": {},
     "output_type": "execute_result"
    }
   ],
   "source": [
    "#calculating fraction for predictions by taking the mean of 1s obtained\n",
    "corrects.float().mean().item()#.item( returs 0 ranked tensor)"
   ]
  },
  {
   "cell_type": "markdown",
   "metadata": {},
   "source": [
    "Let's change weights a little to see the effect on accuracy:"
   ]
  },
  {
   "cell_type": "code",
   "execution_count": 90,
   "metadata": {},
   "outputs": [],
   "source": [
    "#Updating weights a little\n",
    "weights[0] *= 1.0001"
   ]
  },
  {
   "cell_type": "markdown",
   "metadata": {},
   "source": [
    "Next get the predictions for these set of weights and calculate the accuracy."
   ]
  },
  {
   "cell_type": "code",
   "execution_count": 91,
   "metadata": {},
   "outputs": [
    {
     "data": {
      "text/plain": [
       "0.4912068545818329"
      ]
     },
     "execution_count": 91,
     "metadata": {},
     "output_type": "execute_result"
    }
   ],
   "source": [
    "#Predictions and the changes in accuracy\n",
    "preds = linear1(train_x) #get predictions\n",
    "((preds>0.0).float() == train_y).float().mean().item() #calculating accuracy"
   ]
  },
  {
   "cell_type": "markdown",
   "metadata": {},
   "source": [
    "We saw that small changes in weights do not effect accuracy that much."
   ]
  },
  {
   "cell_type": "markdown",
   "metadata": {},
   "source": [
    "We saw previously in the steps for SGD that after getting predictions for our initialized set of \n",
    "weights,we need to update our weights to improve our model.For updating weights,we need gradients\n",
    "which are calculated using loss function which we try to minimize.\n",
    "We need appropriate loss function for this purpose.One option can be to use accuracy which is a metric\n",
    "but can be used as loss function as well.We would calculate predictions for each image,calculate \n",
    "overall accuracy and calculate gradient for each weight with respect to overall accuracy.\n",
    "But there is a problem with using accuracy as the loss function.We know that the gradient or slope is\n",
    "defined as the change in the dependent variable divided by the change in the parameters.\n",
    "slope=(y_new-y_old)/(x_new-x_old).We saw before that accuracy is not affected much by a small change \n",
    "in weights.So slope would be almost zero and thus accuracy if used as a loss function would have zero\n",
    "gradient.\n",
    "If gradients are zero,we won't be able to update the weights and thus model would not learn from the \n",
    "data."
   ]
  },
  {
   "cell_type": "markdown",
   "metadata": {},
   "source": [
    "Some other loss functions should be used instead of accuracy which will give better predictions and \n",
    "better loss.Let's define a function which takes in arguments the predictions of the model whose\n",
    " value is between 0 and 1.The other argument this function takes is the targets which also lie between\n",
    "0 and 1.These predictions and targets are vectors(rank-1 tensors) and are indexed over images.Let's consider two such vectors containing the targets and the predictions for 3 random images.In these \n",
    "first is a 3,next a 7 and the other a 3.And now our predictions are such that the first image is \n",
    "predicted as 3 with high confidence(0.9),with less probability that the second image is 7 and an \n",
    "incorrect prediction that the last image is 7."
   ]
  },
  {
   "cell_type": "code",
   "execution_count": 92,
   "metadata": {},
   "outputs": [],
   "source": [
    "#alternate loss function for mnist dataset as accuracy cannot be used as \n",
    "trgts  = tensor([1,0,1]) #target labels\n",
    "prds   = tensor([0.9, 0.4, 0.2]) #predicted probability"
   ]
  },
  {
   "cell_type": "markdown",
   "metadata": {},
   "source": [
    "Let us define a loss function which measures the difference between the predictions and the targets."
   ]
  },
  {
   "cell_type": "code",
   "execution_count": 93,
   "metadata": {},
   "outputs": [],
   "source": [
    "#function for loss function call entropy function\n",
    "def mnist_loss(predictions, targets):\n",
    "    return torch.where(targets==1, 1-predictions, predictions).mean()"
   ]
  },
  {
   "cell_type": "markdown",
   "metadata": {},
   "source": [
    "Here torch.where(a,b,c) is used.We have never used this function before but it's same as ternary \n",
    "operator in C.It states that b is the output if a is true else c is the output.In this case we can\n",
    "define it such that what would be the distance from 1 if the prediction is 1 and what would be the dis\n",
    "from 0 if its zero and then we would do average of all the distances or errors."
   ]
  },
  {
   "cell_type": "code",
   "execution_count": 94,
   "metadata": {},
   "outputs": [
    {
     "data": {
      "text/plain": [
       "tensor([0.1000, 0.4000, 0.8000])"
      ]
     },
     "execution_count": 94,
     "metadata": {},
     "output_type": "execute_result"
    }
   ],
   "source": [
    "#loss calculated for the predictions\n",
    "torch.where(trgts==1, 1-prds, prds)"
   ]
  },
  {
   "cell_type": "markdown",
   "metadata": {},
   "source": [
    "We can observe from the loss function above that it returns a lower loss when predictions are correct\n",
    "and higher when the predictions are incorrect.Lower loss is always better and since loss value should\n",
    "be scalar therefore we take mean of the returned tensor."
   ]
  },
  {
   "cell_type": "code",
   "execution_count": 95,
   "metadata": {},
   "outputs": [
    {
     "data": {
      "text/plain": [
       "tensor(0.4333)"
      ]
     },
     "execution_count": 95,
     "metadata": {},
     "output_type": "execute_result"
    }
   ],
   "source": [
    "#mean of the losses\n",
    "mnist_loss(prds,trgts)"
   ]
  },
  {
   "cell_type": "code",
   "execution_count": 96,
   "metadata": {},
   "outputs": [
    {
     "data": {
      "text/plain": [
       "tensor(0.2333)"
      ]
     },
     "execution_count": 96,
     "metadata": {},
     "output_type": "execute_result"
    }
   ],
   "source": [
    "#Small loss with better predictions\n",
    "mnist_loss(tensor([0.9, 0.4, 0.8]),trgts) #Works only when the predictions are between 0 and 1"
   ]
  },
  {
   "cell_type": "markdown",
   "metadata": {},
   "source": [
    "Since here scores are getting subtracted from 1,so this function would work well only when the \n",
    "predictions are between 0 and 1.While making predictions we are using equation wx+b which can return\n",
    "values in any range.So how do we ensure that the values are between 0 and 1.Let's look at a function \n",
    "for that "
   ]
  },
  {
   "cell_type": "markdown",
   "metadata": {},
   "source": [
    "### Sigmoid"
   ]
  },
  {
   "cell_type": "markdown",
   "metadata": {},
   "source": [
    "A sigmoid function always returns values between 0 and 1.Mathematically it is (1/1+e^-x)."
   ]
  },
  {
   "cell_type": "code",
   "execution_count": 97,
   "metadata": {},
   "outputs": [],
   "source": [
    "# a sigmoid function which ranges the numbers between 0 and 1 passing any number through the function\n",
    "def sigmoid(x): \n",
    "    return 1/(1+torch.exp(-x))"
   ]
  },
  {
   "cell_type": "markdown",
   "metadata": {},
   "source": [
    "Let's see how this function looks like when plotted."
   ]
  },
  {
   "cell_type": "code",
   "execution_count": 98,
   "metadata": {},
   "outputs": [
    {
     "data": {
      "image/png": "[encoded data removed]",
      "text/plain": [
       "<Figure size 432x288 with 1 Axes>"
      ]
     },
     "metadata": {
      "needs_background": "light"
     },
     "output_type": "display_data"
    }
   ],
   "source": [
    "plot_function(torch.sigmoid, title='Sigmoid', min=-4, max=4) #plotting sigmoid function using fastai's\n",
    "#plot_function"
   ]
  },
  {
   "cell_type": "markdown",
   "metadata": {},
   "source": [
    "From the input values it is very clear that whatever the input is the output always lies between 0 and\n",
    "1.Also since its a smooth curve it is easy to find gradients."
   ]
  },
  {
   "cell_type": "markdown",
   "metadata": {},
   "source": [
    "Let us modify mnist_loss such that sigmoid is applied to our predictions so they lie between 0 and 1."
   ]
  },
  {
   "cell_type": "code",
   "execution_count": 99,
   "metadata": {},
   "outputs": [],
   "source": [
    "#mapping predictions through the sigmoid function so that it maps values between 0 and 1\n",
    "def mnist_loss(predictions, targets):\n",
    "    predictions = predictions.sigmoid()\n",
    "    return torch.where(targets==1, 1-predictions, predictions).mean()\n",
    "#accuracy cannot be used to get gradients"
   ]
  },
  {
   "cell_type": "markdown",
   "metadata": {},
   "source": [
    "Now this loss function would work with every prediction since sigmoid will map them between 0 and 1.\n",
    "We earlier discussed that why can't we use accuracy which is a metric as loss function.Let's dig into\n",
    "it more..\n",
    "Though it may sound that loss and metric both indicate same thing and can be used in each others place\n",
    "but that's not true.Metrics is something we just see to drive human understanding,just to make a \n",
    "judgement if the current model or current step in a model is going fine or not whereas loss is \n",
    "necessary to improve our model.We need loss to calculate gradients without which we can't update our \n",
    "weights and thus model won't be improved.Loss is calculated for every item in our dataset and then at \n",
    "the end of each epoch loss is averaged and mean value is printed.\n",
    "Metrics is something very important and tell us about the performance of our model.While evaluating\n",
    "model performance,we should concentrate on metrics value rather than loss."
   ]
  },
  {
   "cell_type": "markdown",
   "metadata": {},
   "source": [
    "### SGD and Mini-Batches"
   ]
  },
  {
   "cell_type": "markdown",
   "metadata": {},
   "source": [
    "We learnt about loss function and how it is used in the training phase to update the weights on the \n",
    "basis of gradients.We saw previously that loss is calculated for every item in the dataset and then\n",
    "all the values are averaged.But while learning process,if it is calculated separately for each item,\n",
    "training time would increase and if we use loss of just one item or a few more,it cannot represent the\n",
    "loss of whole dataset.Therefore a batch system is considered in which loss is calculated for few items\n",
    "at a time and it is called a mini-batch.No of items in a single batch is called batch size.It can be \n",
    "set manually and would remain same for every batch in that model.Batches containing more items would \n",
    "take longer time to learn but would be more accurate at the time of model building.\n",
    "Selecting a good batch size is also a crucial step while building model as it helps in getting a more\n",
    "accurate as well as fast model.Choosing a large batch size sometimes leads to memory running out.\n",
    "Setting mini batches is also a good method to get our model more generalized in case we test them on\n",
    "some outside data.\n",
    "Before putting model into Training we split the whole dataset into minibatches with random shuffling \n",
    "too.Pytorch amnd Fastai provides a DataLoader object which splits dataset automatically into\n",
    "mini batches of given batch_size."
   ]
  },
  {
   "cell_type": "markdown",
   "metadata": {},
   "source": [
    "let's create a DataLoader object for a simple numerical data"
   ]
  },
  {
   "cell_type": "code",
   "execution_count": 100,
   "metadata": {},
   "outputs": [
    {
     "data": {
      "text/plain": [
       "[tensor([11,  9, 12, 14,  7]),\n",
       " tensor([ 8,  5, 10,  3,  2]),\n",
       " tensor([ 1,  6, 13,  0,  4])]"
      ]
     },
     "execution_count": 100,
     "metadata": {},
     "output_type": "execute_result"
    }
   ],
   "source": [
    "#Doing a step for each image would be slow so we take multiple images together and update the weights\n",
    "#so batches of data are used to update the weights\n",
    "coll = range(15)\n",
    "dl = DataLoader(coll, batch_size=5, shuffle=True)#class from \n",
    "list(dl)"
   ]
  },
  {
   "cell_type": "markdown",
   "metadata": {},
   "source": [
    "As we had discussed before about DataSet which is List of tuples containing dependent and independent\n",
    "variables.Let's create a DataSet and pass this to a DataLoader object.."
   ]
  },
  {
   "cell_type": "code",
   "execution_count": 101,
   "metadata": {},
   "outputs": [
    {
     "data": {
      "text/plain": [
       "(#26) [(0, 'a'),(1, 'b'),(2, 'c'),(3, 'd'),(4, 'e'),(5, 'f'),(6, 'g'),(7, 'h'),(8, 'i'),(9, 'j')...]"
      ]
     },
     "execution_count": 101,
     "metadata": {},
     "output_type": "execute_result"
    }
   ],
   "source": [
    "#tuples of lowercase letters\n",
    "ds = L(enumerate(string.ascii_lowercase))\n",
    "ds"
   ]
  },
  {
   "cell_type": "code",
   "execution_count": 102,
   "metadata": {},
   "outputs": [
    {
     "data": {
      "text/plain": [
       "[(tensor([ 2, 13, 14,  6, 12,  8]), ('c', 'n', 'o', 'g', 'm', 'i')),\n",
       " (tensor([15, 16,  4, 19,  3, 21]), ('p', 'q', 'e', 't', 'd', 'v')),\n",
       " (tensor([ 7, 18, 17, 24, 10,  1]), ('h', 's', 'r', 'y', 'k', 'b')),\n",
       " (tensor([ 5, 20, 23, 25,  0, 22]), ('f', 'u', 'x', 'z', 'a', 'w')),\n",
       " (tensor([11,  9]), ('l', 'j'))]"
      ]
     },
     "execution_count": 102,
     "metadata": {},
     "output_type": "execute_result"
    }
   ],
   "source": [
    "#Dividing into batches using DataLoader\n",
    "dl = DataLoader(ds, batch_size=6, shuffle=True)\n",
    "list(dl)"
   ]
  },
  {
   "cell_type": "markdown",
   "metadata": {},
   "source": [
    "We created a Dataset ds containing tuples of lower case letters and their index.Next we passed it \n",
    "through a DataLoader to create batches of batch size 6."
   ]
  },
  {
   "cell_type": "markdown",
   "metadata": {},
   "source": [
    "## Putting It All Together"
   ]
  },
  {
   "cell_type": "markdown",
   "metadata": {},
   "source": [
    "Let's use the DataLoader we created to use it for training our model.We would be using the same 7 \n",
    "steps we had discussed earlier for SGD.."
   ]
  },
  {
   "cell_type": "markdown",
   "metadata": {},
   "source": [
    "Step-1:Initialize the parameters(weights,bias) using the \"init_params\" function."
   ]
  },
  {
   "cell_type": "code",
   "execution_count": 103,
   "metadata": {},
   "outputs": [],
   "source": [
    "#Initializing the weights and bias for 3 and 7 dataset\n",
    "weights = init_params((28*28,1))\n",
    "bias = init_params(1)"
   ]
  },
  {
   "cell_type": "markdown",
   "metadata": {},
   "source": [
    "Step-2 Pass the dataset through DataLoader object to split it into batches of size 256."
   ]
  },
  {
   "cell_type": "code",
   "execution_count": 104,
   "metadata": {},
   "outputs": [
    {
     "data": {
      "text/plain": [
       "(torch.Size([256, 784]), torch.Size([256, 1]))"
      ]
     },
     "execution_count": 104,
     "metadata": {},
     "output_type": "execute_result"
    }
   ],
   "source": [
    "#loading dset into DataLoader for splitting into batches\n",
    "dl = DataLoader(dset, batch_size=256)\n",
    "xb,yb = first(dl) #fast.ai function which grabs first index through a iterator\n",
    "xb.shape,yb.shape"
   ]
  },
  {
   "cell_type": "markdown",
   "metadata": {},
   "source": [
    "Next load validation set into different dataloader with same batch size."
   ]
  },
  {
   "cell_type": "code",
   "execution_count": 105,
   "metadata": {},
   "outputs": [],
   "source": [
    "#Loading validation data into the DataLoaders\n",
    "valid_dl = DataLoader(valid_dset, batch_size=256)"
   ]
  },
  {
   "cell_type": "markdown",
   "metadata": {},
   "source": [
    "Just to see if our functions are working properly we slice 4 images from our training set"
   ]
  },
  {
   "cell_type": "code",
   "execution_count": 106,
   "metadata": {},
   "outputs": [
    {
     "data": {
      "text/plain": [
       "torch.Size([4, 784])"
      ]
     },
     "execution_count": 106,
     "metadata": {},
     "output_type": "execute_result"
    }
   ],
   "source": [
    "#Grabbing first 4 images from training set\n",
    "batch = train_x[:4]\n",
    "batch.shape"
   ]
  },
  {
   "cell_type": "markdown",
   "metadata": {},
   "source": [
    "We pass them through the linear1 function to get the predictions(wx+b)"
   ]
  },
  {
   "cell_type": "code",
   "execution_count": 107,
   "metadata": {},
   "outputs": [
    {
     "data": {
      "text/plain": [
       "tensor([[-2.1876],\n",
       "        [-8.3973],\n",
       "        [ 2.5000],\n",
       "        [-4.9473]], grad_fn=<AddBackward0>)"
      ]
     },
     "execution_count": 107,
     "metadata": {},
     "output_type": "execute_result"
    }
   ],
   "source": [
    "#Predictions for 4 images in batch by passing it throught the linear function(wx+b)\n",
    "preds = linear1(batch)\n",
    "preds"
   ]
  },
  {
   "cell_type": "markdown",
   "metadata": {},
   "source": [
    "Next after getting predictions we pass preds and targets through the mnist_loss function to get the \n",
    "loss calculated(cross entropy loss)"
   ]
  },
  {
   "cell_type": "code",
   "execution_count": 108,
   "metadata": {},
   "outputs": [
    {
     "data": {
      "text/plain": [
       "tensor(0.7419, grad_fn=<MeanBackward0>)"
      ]
     },
     "execution_count": 108,
     "metadata": {},
     "output_type": "execute_result"
    }
   ],
   "source": [
    "#Calculating cross entropy loss for the predictions\n",
    "loss = mnist_loss(preds, train_y[:4])\n",
    "loss"
   ]
  },
  {
   "cell_type": "markdown",
   "metadata": {},
   "source": [
    "Next as per the regular procedure we calculate gradient using.backward() and take the mean of all the \n",
    "items in gradient."
   ]
  },
  {
   "cell_type": "code",
   "execution_count": 109,
   "metadata": {},
   "outputs": [
    {
     "data": {
      "text/plain": [
       "(torch.Size([784, 1]), tensor(-0.0061), tensor([-0.0420]))"
      ]
     },
     "execution_count": 109,
     "metadata": {},
     "output_type": "execute_result"
    }
   ],
   "source": [
    "#Backpropogating the loss function \n",
    "loss.backward()#every pixel has a gradient\n",
    "weights.grad.shape,weights.grad.mean(),bias.grad"
   ]
  },
  {
   "cell_type": "markdown",
   "metadata": {},
   "source": [
    "Now we put all this together in a function so that we can pass the wholw batches together along with\n",
    "the model."
   ]
  },
  {
   "cell_type": "code",
   "execution_count": 110,
   "metadata": {},
   "outputs": [],
   "source": [
    "#function for calculating gradient from the loss  \n",
    "def calc_grad(xb, yb, model):\n",
    "    preds = model(xb)\n",
    "    loss = mnist_loss(preds, yb)\n",
    "    loss.backward()"
   ]
  },
  {
   "cell_type": "markdown",
   "metadata": {},
   "source": [
    "Now we test it by passing the first four images in our training data.."
   ]
  },
  {
   "cell_type": "code",
   "execution_count": 111,
   "metadata": {},
   "outputs": [
    {
     "data": {
      "text/plain": [
       "(tensor(-0.0121), tensor([-0.0840]))"
      ]
     },
     "execution_count": 111,
     "metadata": {},
     "output_type": "execute_result"
    }
   ],
   "source": [
    "calc_grad(batch, train_y[:4], linear1)\n",
    "weights.grad.mean(),bias.grad"
   ]
  },
  {
   "cell_type": "code",
   "execution_count": 112,
   "metadata": {},
   "outputs": [
    {
     "data": {
      "text/plain": [
       "(tensor(-0.0182), tensor([-0.1260]))"
      ]
     },
     "execution_count": 112,
     "metadata": {},
     "output_type": "execute_result"
    }
   ],
   "source": [
    "calc_grad(batch, train_y[:4], linear1)\n",
    "weights.grad.mean(),bias.grad\n",
    "#Calculating gradients twice it changes because .grad adds the gradients it calculates"
   ]
  },
  {
   "cell_type": "markdown",
   "metadata": {},
   "source": [
    "When we call the function twice the value of the gradient changes.That is because loss.backward adds \n",
    "the gradients to the other gradients already stored.So the gradient should be set to zero first.."
   ]
  },
  {
   "cell_type": "code",
   "execution_count": 113,
   "metadata": {},
   "outputs": [],
   "source": [
    "weights.grad.zero_() #A tensor of weights containing zeros\n",
    "bias.grad.zero_();#A bias containing zeros"
   ]
  },
  {
   "cell_type": "markdown",
   "metadata": {},
   "source": [
    "Methods in Pytorch whose names end with a \"_\" are used for changing objects in place.It sets all the\n",
    "gradients to zero."
   ]
  },
  {
   "cell_type": "markdown",
   "metadata": {},
   "source": [
    "Now as we have calculated gradients we need to update the weights and bias using learning rate.So we\n",
    "define a function to step the weights.This function also includes the calculating gardient step.So we \n",
    "define an overall function through which we pass model,learning rate and parameters."
   ]
  },
  {
   "cell_type": "code",
   "execution_count": 114,
   "metadata": {},
   "outputs": [],
   "source": [
    "def train_epoch(model, lr, params):\n",
    "    for xb,yb in dl:#looping through each batch in dataloader\n",
    "        calc_grad(xb, yb, model)#calculate gradients for each batch\n",
    "        for p in params:#loop through params(weights,bias)\n",
    "            p.data -= p.grad*lr # doesn't update the gradients data attribute is used so that it \n",
    "#doesn't calculate the gradient for this step\n",
    "            p.grad.zero_()#zero the gradient"
   ]
  },
  {
   "cell_type": "markdown",
   "metadata": {},
   "source": [
    "To see how model is performing we will have to check the accuracy of the model.Since the model is \n",
    "classifying digits as 3 or 7,so accuracy can be just checked by checking if its greater than 0.5.\n",
    "Threshold is 0.5 due to the sigmoid function."
   ]
  },
  {
   "cell_type": "code",
   "execution_count": 115,
   "metadata": {},
   "outputs": [
    {
     "data": {
      "text/plain": [
       "tensor([[False],\n",
       "        [False],\n",
       "        [ True],\n",
       "        [False]])"
      ]
     },
     "execution_count": 115,
     "metadata": {},
     "output_type": "execute_result"
    }
   ],
   "source": [
    "#To measure accuracy threshold changes to 0.5 due to Sigmoid function\n",
    "(preds>0.5).float() == train_y[:4]"
   ]
  },
  {
   "cell_type": "markdown",
   "metadata": {},
   "source": [
    "Let's define a function to calculate batch accuracy.."
   ]
  },
  {
   "cell_type": "code",
   "execution_count": 116,
   "metadata": {},
   "outputs": [],
   "source": [
    "#function for calculating accuracy of the batches\n",
    "def batch_accuracy(xb, yb):\n",
    "    preds = xb.sigmoid()# passing predictions through sigmoid\n",
    "    correct = (preds>0.5) == yb #get correct predictions\n",
    "    return correct.float().mean() #returns mean of the correct predictions."
   ]
  },
  {
   "cell_type": "code",
   "execution_count": 117,
   "metadata": {},
   "outputs": [
    {
     "data": {
      "text/plain": [
       "tensor(0.2500)"
      ]
     },
     "execution_count": 117,
     "metadata": {},
     "output_type": "execute_result"
    }
   ],
   "source": [
    "#Get accuracyfor every batch\n",
    "batch_accuracy(linear1(batch), train_y[:4])"
   ]
  },
  {
   "cell_type": "markdown",
   "metadata": {},
   "source": [
    "We can then put all the batches together now to train a complete epoch"
   ]
  },
  {
   "cell_type": "code",
   "execution_count": 118,
   "metadata": {},
   "outputs": [],
   "source": [
    "def validate_epoch(model):\n",
    "    accs = [batch_accuracy(model(xb), yb) for xb,yb in valid_dl] #Passing every batch in validation \n",
    "    #set through the model and calculate batch_accuracy using the predictions\n",
    "    return round(torch.stack(accs).mean().item(), 4) #stacking the accuracies and calculating the mean"
   ]
  },
  {
   "cell_type": "markdown",
   "metadata": {},
   "source": [
    "Let's test the function by passing the model \"linear1\" through the function.It returns the validation\n",
    "accuracy."
   ]
  },
  {
   "cell_type": "code",
   "execution_count": 119,
   "metadata": {},
   "outputs": [
    {
     "data": {
      "text/plain": [
       "0.5263"
      ]
     },
     "execution_count": 119,
     "metadata": {},
     "output_type": "execute_result"
    }
   ],
   "source": [
    "validate_epoch(linear1) #validation set accuracy"
   ]
  },
  {
   "cell_type": "markdown",
   "metadata": {},
   "source": [
    "In the first chapter we saw while building initial models that they are run for several epochs.Let's \n",
    "see if training the model for next epoch improves our accuracy."
   ]
  },
  {
   "cell_type": "code",
   "execution_count": 120,
   "metadata": {},
   "outputs": [
    {
     "data": {
      "text/plain": [
       "0.6664"
      ]
     },
     "execution_count": 120,
     "metadata": {},
     "output_type": "execute_result"
    }
   ],
   "source": [
    "#Training the model for another epoch \n",
    "lr = 1.#Learning rate\n",
    "params = weights,bias#weights and bias\n",
    "train_epoch(linear1, lr, params) #training the epoch\n",
    "validate_epoch(linear1)#validating the epoch with validation set\n",
    "#accuracy changes"
   ]
  },
  {
   "cell_type": "markdown",
   "metadata": {},
   "source": [
    "We observed that accuracy improves by more than 10% on running another epoch.So we further run a few\n",
    "more epochs to improve the accuracy."
   ]
  },
  {
   "cell_type": "code",
   "execution_count": 121,
   "metadata": {},
   "outputs": [
    {
     "name": "stdout",
     "output_type": "stream",
     "text": [
      "0.8266 0.89 0.9184 0.9277 0.9399 0.9467 0.9506 0.9526 0.956 0.9579 0.9599 0.9609 0.9614 0.9619 0.9633 0.9638 0.9648 0.9658 0.9672 0.9677 "
     ]
    }
   ],
   "source": [
    "#training and validating epochs for around 20 epochs\n",
    "for i in range(20):\n",
    "    train_epoch(linear1, lr, params)#train each epoch by passing model,learning rate,parameters\n",
    "    print(validate_epoch(linear1), end=' ')\n",
    "    #We can observe that the accuracy increases and becomes 96% after several epochs"
   ]
  },
  {
   "cell_type": "markdown",
   "metadata": {},
   "source": [
    "We attained an accuracy of about 97% which is similar to the \"pixel similarity approach\".Next \n",
    "an object can be created which would help in handling the SGD steps.Pytorch provides a special\n",
    "package called Optimizer for the same.But here we will be defining an optimizer from scratch."
   ]
  },
  {
   "cell_type": "markdown",
   "metadata": {},
   "source": [
    "### Creating an Optimizer"
   ]
  },
  {
   "cell_type": "markdown",
   "metadata": {},
   "source": [
    "Pytorch provides special packages for very often used models or functions.Previously we had defined a \n",
    "linear function for getting the predictions using equation wx+b where w=weights and b=bias.Weights\n",
    "and bias are called parameters.Using pytorch we can instead create nn.Linear module.Module is object\n",
    "inherited from Pytorch's nn.Module class.These objects have functionality similar to Python functions.\n",
    "On passing the shape of the parameters through the nn.Linear class it will return the activations\n",
    "of the model.It initializes the parameters on its own and we don't have to define separate function\n",
    "for the same."
   ]
  },
  {
   "cell_type": "code",
   "execution_count": 122,
   "metadata": {},
   "outputs": [],
   "source": [
    "#Define a model\n",
    "linear_model = nn.Linear(28*28,1)\n",
    "# A pytorch class which initialized the weights and biases and also calculates the predictions "
   ]
  },
  {
   "cell_type": "code",
   "execution_count": 123,
   "metadata": {},
   "outputs": [
    {
     "data": {
      "text/plain": [
       "(torch.Size([1, 784]), torch.Size([1]))"
      ]
     },
     "execution_count": 123,
     "metadata": {},
     "output_type": "execute_result"
    }
   ],
   "source": [
    "#Gives weights(w) and bias(b) as the parameters\n",
    "w,b = linear_model.parameters()\n",
    "w.shape,b.shape"
   ]
  },
  {
   "cell_type": "markdown",
   "metadata": {},
   "source": [
    "We can get the parameters(weight and bias)using the parameters method of the nn.Linear object.Next\n",
    "we can use this to create an Optimizer.."
   ]
  },
  {
   "cell_type": "code",
   "execution_count": 124,
   "metadata": {},
   "outputs": [],
   "source": [
    "#Create optimizer class which does the same steps for updating the parameters\n",
    "class BasicOptim:\n",
    "    def __init__(self,params,lr): \n",
    "        self.params,self.lr = list(params),lr # get parameters and the learning rate\n",
    "\n",
    "    def step(self, *args, **kwargs):\n",
    "        for p in self.params:#iterate through the weights and bias in the parameters \n",
    "            p.data -= p.grad.data * self.lr #step the gradients\n",
    "\n",
    "    def zero_grad(self, *args, **kwargs):\n",
    "        for p in self.params: p.grad = None #make the previous gradient zero to avoid updation"
   ]
  },
  {
   "cell_type": "markdown",
   "metadata": {},
   "source": [
    "We defined a class for Optimizer which takes the parameter and learning rate and it updates the\n",
    "parameters.(both weights and bias)"
   ]
  },
  {
   "cell_type": "code",
   "execution_count": 125,
   "metadata": {},
   "outputs": [],
   "source": [
    "#passing parametrs and learning rate for creating an optimizer\n",
    "opt = BasicOptim(linear_model.parameters(), lr) #creating an object for Optimizer class"
   ]
  },
  {
   "cell_type": "markdown",
   "metadata": {},
   "source": [
    "We create an object of BasicOptim class and pass the model parameters and learning rate.Next we can \n",
    "define a function to train an epoch now.."
   ]
  },
  {
   "cell_type": "code",
   "execution_count": 126,
   "metadata": {},
   "outputs": [],
   "source": [
    "#Training an epoch\n",
    "def train_epoch(model):\n",
    "    for xb,yb in dl: #for every batch in dataloaders\n",
    "        calc_grad(xb, yb, model)#calculate gradient for the batch using the loss and predictions\n",
    "        opt.step()#Update the gradients\n",
    "        opt.zero_grad()#Make the previously stored gradients zero later(to avoid addition of graients)"
   ]
  },
  {
   "cell_type": "markdown",
   "metadata": {},
   "source": [
    "The validation function remains the same."
   ]
  },
  {
   "cell_type": "code",
   "execution_count": 127,
   "metadata": {},
   "outputs": [
    {
     "data": {
      "text/plain": [
       "0.461"
      ]
     },
     "execution_count": 127,
     "metadata": {},
     "output_type": "execute_result"
    }
   ],
   "source": [
    "#validating the epoch remains same\n",
    "validate_epoch(linear_model)\n",
    "#retrns the average accuracy"
   ]
  },
  {
   "cell_type": "markdown",
   "metadata": {},
   "source": [
    "Previously we had defined train_epoch function which trains data for an epoch.One epoch means training\n",
    "all mini batches of data for one cycle.To improve the model accuracy , we train our model over several\n",
    "epochs so next we define a train_model function which takes model object and no of epochs as \n",
    "arguments and prints the accuracy for each epoch."
   ]
  },
  {
   "cell_type": "code",
   "execution_count": 128,
   "metadata": {},
   "outputs": [],
   "source": [
    "#Putting both in a function to train and iterate over the epochs\n",
    "def train_model(model, epochs):\n",
    "    for i in range(epochs):#iterating through each epoch\n",
    "        train_epoch(model) # training epochs\n",
    "        print(validate_epoch(model), end=' ')#printing the validation accuracy"
   ]
  },
  {
   "cell_type": "code",
   "execution_count": 129,
   "metadata": {},
   "outputs": [
    {
     "name": "stdout",
     "output_type": "stream",
     "text": [
      "0.4932 0.7686 0.8555 0.9136 0.9346 0.9482 0.957 0.9634 0.9658 0.9678 0.9697 0.9717 0.9736 0.9746 0.9761 0.977 0.9775 0.9775 0.978 0.9785 "
     ]
    }
   ],
   "source": [
    "#Training our model for 20 epochs\n",
    "train_model(linear_model, 20)"
   ]
  },
  {
   "cell_type": "markdown",
   "metadata": {},
   "source": [
    "We pass the linear_model and number of epochs as 20 through the train_model function."
   ]
  },
  {
   "cell_type": "markdown",
   "metadata": {},
   "source": [
    "Previously we had defined a Basic_Optim class for the optimizer.But Pytorch lets us do that in one\n",
    "line of code.It provides a SGD class which works like the Basic_Optim class only."
   ]
  },
  {
   "cell_type": "markdown",
   "metadata": {},
   "source": [
    "Next we combine all our steps and use Pytorch classes to create our model."
   ]
  },
  {
   "cell_type": "code",
   "execution_count": 130,
   "metadata": {},
   "outputs": [
    {
     "name": "stdout",
     "output_type": "stream",
     "text": [
      "0.4932 0.8179 0.8496 0.9141 0.9346 0.9482 0.957 0.9619 0.9658 0.9673 0.9692 0.9712 0.9741 0.9751 0.9761 0.9775 0.9775 0.978 0.9785 0.979 "
     ]
    }
   ],
   "source": [
    "#Pytorch has a SGD class for creating an optimizer by passing the model parameters and learning rate\n",
    "linear_model = nn.Linear(28*28,1)\n",
    "opt = SGD(linear_model.parameters(), lr)\n",
    "train_model(linear_model, 20)#training the model for 20 epochs"
   ]
  },
  {
   "cell_type": "markdown",
   "metadata": {},
   "source": [
    "In the above cell we used train_model function to calculate and print the accuracy for each epoch.We\n",
    "also use a for loop to iterate over each epoch.But fastai provides Learner.fit method which can be \n",
    "used in place of train_model and it allows us to pass the number of epochs and prints the accuracy.\n",
    "In the previous lessons also we had created cnn_learner and unet for Image classifier and image \n",
    "segmentation repsectively.We need to pass data in the form of dataloaders for the same.So we create\n",
    "dataloaders for our data by passing dl and valid_dl."
   ]
  },
  {
   "cell_type": "code",
   "execution_count": 131,
   "metadata": {},
   "outputs": [],
   "source": [
    "#Fast.ai and pytorch also provide a method to create learner without using train_model by passing all the parameters required\n",
    "dls = DataLoaders(dl, valid_dl)#Creating data loader which dividesd data into batches"
   ]
  },
  {
   "cell_type": "markdown",
   "metadata": {},
   "source": [
    "Here we would be creating a simple learner without any application such as \"cnn_learner\" or \n",
    "\"unet_learner\".Also while creating Learner we pass all the elements we talked about in this Chapter\n",
    "such as the linear model,the optimizer,the loss function and the metrics along with the most important\n",
    "data loaders.So let's define our Learner."
   ]
  },
  {
   "cell_type": "code",
   "execution_count": 132,
   "metadata": {},
   "outputs": [],
   "source": [
    "#Creating the learner by passing the dataloader,the nn.Linear which initializes weights and bias and \n",
    "#calculates the predictions,the optimizer function such as SGD,the loss function used and metrics used\n",
    "learn = Learner(dls, nn.Linear(28*28,1), opt_func=SGD,                                    #(Accuracy or squared loss)\n",
    "                loss_func=mnist_loss, metrics=batch_accuracy)"
   ]
  },
  {
   "cell_type": "markdown",
   "metadata": {},
   "source": [
    "Now we call the fit method by passing the no of epochs and the learning rate(lr).This will train our\n",
    "epochs and also print the training and validation loss along with the accuracy."
   ]
  },
  {
   "cell_type": "code",
   "execution_count": 134,
   "metadata": {},
   "outputs": [
    {
     "data": {
      "text/html": [
       "<table border=\"1\" class=\"dataframe\">\n",
       "  <thead>\n",
       "    <tr style=\"text-align: left;\">\n",
       "      <th>epoch</th>\n",
       "      <th>train_loss</th>\n",
       "      <th>valid_loss</th>\n",
       "      <th>batch_accuracy</th>\n",
       "      <th>time</th>\n",
       "    </tr>\n",
       "  </thead>\n",
       "  <tbody>\n",
       "    <tr>\n",
       "      <td>0</td>\n",
       "      <td>0.636709</td>\n",
       "      <td>0.503144</td>\n",
       "      <td>0.495584</td>\n",
       "      <td>00:00</td>\n",
       "    </tr>\n",
       "    <tr>\n",
       "      <td>1</td>\n",
       "      <td>0.429828</td>\n",
       "      <td>0.248517</td>\n",
       "      <td>0.777233</td>\n",
       "      <td>00:00</td>\n",
       "    </tr>\n",
       "    <tr>\n",
       "      <td>2</td>\n",
       "      <td>0.161680</td>\n",
       "      <td>0.155361</td>\n",
       "      <td>0.861629</td>\n",
       "      <td>00:00</td>\n",
       "    </tr>\n",
       "    <tr>\n",
       "      <td>3</td>\n",
       "      <td>0.072948</td>\n",
       "      <td>0.097722</td>\n",
       "      <td>0.917566</td>\n",
       "      <td>00:00</td>\n",
       "    </tr>\n",
       "    <tr>\n",
       "      <td>4</td>\n",
       "      <td>0.040128</td>\n",
       "      <td>0.073205</td>\n",
       "      <td>0.936212</td>\n",
       "      <td>00:00</td>\n",
       "    </tr>\n",
       "    <tr>\n",
       "      <td>5</td>\n",
       "      <td>0.027210</td>\n",
       "      <td>0.059466</td>\n",
       "      <td>0.950442</td>\n",
       "      <td>00:00</td>\n",
       "    </tr>\n",
       "    <tr>\n",
       "      <td>6</td>\n",
       "      <td>0.021837</td>\n",
       "      <td>0.050799</td>\n",
       "      <td>0.957802</td>\n",
       "      <td>00:00</td>\n",
       "    </tr>\n",
       "    <tr>\n",
       "      <td>7</td>\n",
       "      <td>0.019398</td>\n",
       "      <td>0.044980</td>\n",
       "      <td>0.964181</td>\n",
       "      <td>00:00</td>\n",
       "    </tr>\n",
       "    <tr>\n",
       "      <td>8</td>\n",
       "      <td>0.018122</td>\n",
       "      <td>0.040853</td>\n",
       "      <td>0.966143</td>\n",
       "      <td>00:00</td>\n",
       "    </tr>\n",
       "    <tr>\n",
       "      <td>9</td>\n",
       "      <td>0.017330</td>\n",
       "      <td>0.037788</td>\n",
       "      <td>0.968106</td>\n",
       "      <td>00:00</td>\n",
       "    </tr>\n",
       "  </tbody>\n",
       "</table>"
      ],
      "text/plain": [
       "<IPython.core.display.HTML object>"
      ]
     },
     "metadata": {},
     "output_type": "display_data"
    }
   ],
   "source": [
    "#Pytorch also provides a fit method which can fit the learner with no of epochs and learning rate\n",
    "learn.fit(10, lr=lr)#It does it very fast and saves the time\n",
    "#This is a linear function but we ca"
   ]
  },
  {
   "cell_type": "markdown",
   "metadata": {},
   "source": [
    "We can see that accuracy increases with each epoch which is a very good thing for any model.Previously\n",
    "we had trained this same model using different functions which had long lines of code but using \n",
    "Pytorch or fastai classes let us do all these things within a few lines of code.It is no magic just \n",
    "some packages for our use.We achieved around 96.8% accuracy with the linear model.Let's add some non\n",
    "linear to make it a neural network.."
   ]
  },
  {
   "cell_type": "markdown",
   "metadata": {},
   "source": [
    "## Adding a Nonlinearity"
   ]
  },
  {
   "cell_type": "markdown",
   "metadata": {},
   "source": [
    "We tried out building a simple linear classifier.We can add non-linearity to it to make it a network.\n",
    "We add a non linear function  between two linear classifiers to give neural network.We would first \n",
    "understand the basic structure of a neural network."
   ]
  },
  {
   "cell_type": "code",
   "execution_count": 135,
   "metadata": {},
   "outputs": [],
   "source": [
    "#Turning the linear function into Non-Linear neural network\n",
    "#@ stands for matrix multiplication\n",
    "def simple_net(xb): \n",
    "    res = xb@w1 + b1 #Linear function\n",
    "    res = res.max(tensor(0.0))#Does a max between the linear value and zero and turns negatives into 0\n",
    "    #It is called rectified linear unit function \n",
    "    res = res@w2 + b2#It will again turn it into a linear function\n",
    "    return res"
   ]
  },
  {
   "cell_type": "markdown",
   "metadata": {},
   "source": [
    "Above definition of a neural net has two linear classifiers with a max function.We initialize the\n",
    "parameters using the init_params.For understanding purpose we are using our defined functions here.\n",
    "Further we would be using the Pytorch functions and classes in the Chapter."
   ]
  },
  {
   "cell_type": "code",
   "execution_count": 136,
   "metadata": {},
   "outputs": [],
   "source": [
    "#Weight and Bias tensors\n",
    "w1 = init_params((28*28,30)) \n",
    "b1 = init_params(30)\n",
    "w2 = init_params((30,1))\n",
    "b2 = init_params(1)"
   ]
  },
  {
   "cell_type": "markdown",
   "metadata": {},
   "source": [
    "Here w1,w2 and b1,b2 are weights and bias tensors for the two linear classifiers.These are randomly \n",
    "initialized.W1 has 30 output activations which are then input to w2 so it has 30 input activations.The\n",
    "shape of the parameters can be changed to anything here.\n",
    "In the \"simple_net\" function the res.max(tensor(0.0)) is called \"the rectified linear unit\".It is also\n",
    "called \"ReLu\".The name of this function seems complex due to the word \"rectified\" but in real it's a \n",
    "very simple function.It actually makes all the negative nos zero and number greater than 0 increase\n",
    "linearly that's why it is called \"rectified linear unit\" or ReLu in short form.In pytorch we can \n",
    "access this function using F.relu."
   ]
  },
  {
   "cell_type": "code",
   "execution_count": 137,
   "metadata": {},
   "outputs": [
    {
     "data": {
      "image/png": "[encoded data removed]",
      "text/plain": [
       "<Figure size 432x288 with 1 Axes>"
      ]
     },
     "metadata": {
      "needs_background": "light"
     },
     "output_type": "display_data"
    }
   ],
   "source": [
    "#Rectified Linear unit function\n",
    "plot_function(F.relu)"
   ]
  },
  {
   "cell_type": "markdown",
   "metadata": {},
   "source": [
    "When making neural networks more complex we mean that adding more layers to the neural net leads to\n",
    "more computation and modelling complex mathematical functions.But if we keep adding multiple layers \n",
    "one after other,it results in multiplying different things and adding them up which is equivalent to\n",
    "to multiplying things and then adding them just once.In terms of layers it means instead of multiple\n",
    "layers we can have single layer with different sets of parameters.\n",
    "Non linearity is added to make the neural net more generalized.Also it has been proven that such \n",
    "functions can actually solve any problem in the world ,we just need right set of parameters w1 and w2.\n",
    "This theorem is actually called \"universal approximation theorem\".Below we will create a neural net \n",
    "with three layers, 2 linear(nn.Linear) and one non-linear(nn.ReLU).We should note here that we will be\n",
    "using Pytorch classes to create this neural net."
   ]
  },
  {
   "cell_type": "code",
   "execution_count": 138,
   "metadata": {},
   "outputs": [],
   "source": [
    "#Setting a sequential linear layers and hidden layer for nonlinearity using Pytorch's nn.Sequential class\n",
    "#it passes the results of one function to other\n",
    "simple_net = nn.Sequential(\n",
    "    nn.Linear(28*28,30), #Linear (output has 30 actiovations)\n",
    "    nn.ReLU(),#Non Linear RElu\n",
    "    nn.Linear(30,1)#Linear(input has 30 activations)\n",
    ")"
   ]
  },
  {
   "cell_type": "markdown",
   "metadata": {},
   "source": [
    "Next we create the learner in the same way we had created before.We also pass the dataloaders,the \n",
    "neural_net,the optimizer,the loss function and the metrics through it."
   ]
  },
  {
   "cell_type": "code",
   "execution_count": 139,
   "metadata": {},
   "outputs": [],
   "source": [
    "#Training a learner for dataloaders using simple learner \n",
    "learn = Learner(dls, simple_net, opt_func=SGD,\n",
    "                loss_func=mnist_loss, metrics=batch_accuracy)"
   ]
  },
  {
   "cell_type": "markdown",
   "metadata": {},
   "source": [
    "Next we use Pytorch's \"learn.fit\" method to train our model for 40 epochs and learning rate of 0.1.We\n",
    "pass these as the arguments to the method.Since this model contains multiple layers so it is a deeper \n",
    "model so we use more number of epochs and a less learning rate to train the learner.\n",
    "\n",
    "Previously when we had introduced ReLU we had used \"F.relu\" to plot the function.Now when we defined\n",
    "our neural net in the non linear layer we used nn.ReLU.In Pytorch some functions also have same forms \n",
    "in modules.They can be accessed by replacing F by nn.When we define neural net nn.Sequential uses \n",
    "module form of the layers therefore we use nn.ReLU and these are classes so we instantiate them by\n",
    "nn.ReLU()."
   ]
  },
  {
   "cell_type": "code",
   "execution_count": 140,
   "metadata": {},
   "outputs": [
    {
     "data": {
      "text/html": [
       "<table border=\"1\" class=\"dataframe\">\n",
       "  <thead>\n",
       "    <tr style=\"text-align: left;\">\n",
       "      <th>epoch</th>\n",
       "      <th>train_loss</th>\n",
       "      <th>valid_loss</th>\n",
       "      <th>batch_accuracy</th>\n",
       "      <th>time</th>\n",
       "    </tr>\n",
       "  </thead>\n",
       "  <tbody>\n",
       "    <tr>\n",
       "      <td>0</td>\n",
       "      <td>0.333021</td>\n",
       "      <td>0.396112</td>\n",
       "      <td>0.512267</td>\n",
       "      <td>00:00</td>\n",
       "    </tr>\n",
       "    <tr>\n",
       "      <td>1</td>\n",
       "      <td>0.152461</td>\n",
       "      <td>0.235238</td>\n",
       "      <td>0.797350</td>\n",
       "      <td>00:00</td>\n",
       "    </tr>\n",
       "    <tr>\n",
       "      <td>2</td>\n",
       "      <td>0.083573</td>\n",
       "      <td>0.117471</td>\n",
       "      <td>0.911678</td>\n",
       "      <td>00:00</td>\n",
       "    </tr>\n",
       "    <tr>\n",
       "      <td>3</td>\n",
       "      <td>0.054309</td>\n",
       "      <td>0.078720</td>\n",
       "      <td>0.940628</td>\n",
       "      <td>00:00</td>\n",
       "    </tr>\n",
       "    <tr>\n",
       "      <td>4</td>\n",
       "      <td>0.040829</td>\n",
       "      <td>0.061228</td>\n",
       "      <td>0.956330</td>\n",
       "      <td>00:00</td>\n",
       "    </tr>\n",
       "    <tr>\n",
       "      <td>5</td>\n",
       "      <td>0.034006</td>\n",
       "      <td>0.051490</td>\n",
       "      <td>0.963690</td>\n",
       "      <td>00:00</td>\n",
       "    </tr>\n",
       "    <tr>\n",
       "      <td>6</td>\n",
       "      <td>0.030123</td>\n",
       "      <td>0.045381</td>\n",
       "      <td>0.966634</td>\n",
       "      <td>00:00</td>\n",
       "    </tr>\n",
       "    <tr>\n",
       "      <td>7</td>\n",
       "      <td>0.027619</td>\n",
       "      <td>0.041218</td>\n",
       "      <td>0.968106</td>\n",
       "      <td>00:00</td>\n",
       "    </tr>\n",
       "    <tr>\n",
       "      <td>8</td>\n",
       "      <td>0.025825</td>\n",
       "      <td>0.038200</td>\n",
       "      <td>0.969087</td>\n",
       "      <td>00:00</td>\n",
       "    </tr>\n",
       "    <tr>\n",
       "      <td>9</td>\n",
       "      <td>0.024441</td>\n",
       "      <td>0.035901</td>\n",
       "      <td>0.969578</td>\n",
       "      <td>00:00</td>\n",
       "    </tr>\n",
       "    <tr>\n",
       "      <td>10</td>\n",
       "      <td>0.023321</td>\n",
       "      <td>0.034082</td>\n",
       "      <td>0.971541</td>\n",
       "      <td>00:00</td>\n",
       "    </tr>\n",
       "    <tr>\n",
       "      <td>11</td>\n",
       "      <td>0.022387</td>\n",
       "      <td>0.032598</td>\n",
       "      <td>0.972031</td>\n",
       "      <td>00:00</td>\n",
       "    </tr>\n",
       "    <tr>\n",
       "      <td>12</td>\n",
       "      <td>0.021592</td>\n",
       "      <td>0.031353</td>\n",
       "      <td>0.974485</td>\n",
       "      <td>00:00</td>\n",
       "    </tr>\n",
       "    <tr>\n",
       "      <td>13</td>\n",
       "      <td>0.020904</td>\n",
       "      <td>0.030284</td>\n",
       "      <td>0.975466</td>\n",
       "      <td>00:00</td>\n",
       "    </tr>\n",
       "    <tr>\n",
       "      <td>14</td>\n",
       "      <td>0.020300</td>\n",
       "      <td>0.029352</td>\n",
       "      <td>0.975466</td>\n",
       "      <td>00:00</td>\n",
       "    </tr>\n",
       "    <tr>\n",
       "      <td>15</td>\n",
       "      <td>0.019766</td>\n",
       "      <td>0.028526</td>\n",
       "      <td>0.975466</td>\n",
       "      <td>00:00</td>\n",
       "    </tr>\n",
       "    <tr>\n",
       "      <td>16</td>\n",
       "      <td>0.019288</td>\n",
       "      <td>0.027788</td>\n",
       "      <td>0.976448</td>\n",
       "      <td>00:00</td>\n",
       "    </tr>\n",
       "    <tr>\n",
       "      <td>17</td>\n",
       "      <td>0.018857</td>\n",
       "      <td>0.027124</td>\n",
       "      <td>0.977429</td>\n",
       "      <td>00:00</td>\n",
       "    </tr>\n",
       "    <tr>\n",
       "      <td>18</td>\n",
       "      <td>0.018465</td>\n",
       "      <td>0.026523</td>\n",
       "      <td>0.978410</td>\n",
       "      <td>00:00</td>\n",
       "    </tr>\n",
       "    <tr>\n",
       "      <td>19</td>\n",
       "      <td>0.018107</td>\n",
       "      <td>0.025977</td>\n",
       "      <td>0.978901</td>\n",
       "      <td>00:00</td>\n",
       "    </tr>\n",
       "    <tr>\n",
       "      <td>20</td>\n",
       "      <td>0.017777</td>\n",
       "      <td>0.025479</td>\n",
       "      <td>0.978901</td>\n",
       "      <td>00:00</td>\n",
       "    </tr>\n",
       "    <tr>\n",
       "      <td>21</td>\n",
       "      <td>0.017473</td>\n",
       "      <td>0.025022</td>\n",
       "      <td>0.979392</td>\n",
       "      <td>00:00</td>\n",
       "    </tr>\n",
       "    <tr>\n",
       "      <td>22</td>\n",
       "      <td>0.017191</td>\n",
       "      <td>0.024601</td>\n",
       "      <td>0.980373</td>\n",
       "      <td>00:00</td>\n",
       "    </tr>\n",
       "    <tr>\n",
       "      <td>23</td>\n",
       "      <td>0.016927</td>\n",
       "      <td>0.024213</td>\n",
       "      <td>0.980373</td>\n",
       "      <td>00:00</td>\n",
       "    </tr>\n",
       "    <tr>\n",
       "      <td>24</td>\n",
       "      <td>0.016680</td>\n",
       "      <td>0.023855</td>\n",
       "      <td>0.981354</td>\n",
       "      <td>00:00</td>\n",
       "    </tr>\n",
       "    <tr>\n",
       "      <td>25</td>\n",
       "      <td>0.016449</td>\n",
       "      <td>0.023521</td>\n",
       "      <td>0.981354</td>\n",
       "      <td>00:00</td>\n",
       "    </tr>\n",
       "    <tr>\n",
       "      <td>26</td>\n",
       "      <td>0.016230</td>\n",
       "      <td>0.023211</td>\n",
       "      <td>0.981354</td>\n",
       "      <td>00:00</td>\n",
       "    </tr>\n",
       "    <tr>\n",
       "      <td>27</td>\n",
       "      <td>0.016023</td>\n",
       "      <td>0.022922</td>\n",
       "      <td>0.981354</td>\n",
       "      <td>00:00</td>\n",
       "    </tr>\n",
       "    <tr>\n",
       "      <td>28</td>\n",
       "      <td>0.015827</td>\n",
       "      <td>0.022653</td>\n",
       "      <td>0.981845</td>\n",
       "      <td>00:00</td>\n",
       "    </tr>\n",
       "    <tr>\n",
       "      <td>29</td>\n",
       "      <td>0.015641</td>\n",
       "      <td>0.022401</td>\n",
       "      <td>0.981845</td>\n",
       "      <td>00:00</td>\n",
       "    </tr>\n",
       "    <tr>\n",
       "      <td>30</td>\n",
       "      <td>0.015463</td>\n",
       "      <td>0.022165</td>\n",
       "      <td>0.981845</td>\n",
       "      <td>00:00</td>\n",
       "    </tr>\n",
       "    <tr>\n",
       "      <td>31</td>\n",
       "      <td>0.015294</td>\n",
       "      <td>0.021944</td>\n",
       "      <td>0.983317</td>\n",
       "      <td>00:00</td>\n",
       "    </tr>\n",
       "    <tr>\n",
       "      <td>32</td>\n",
       "      <td>0.015132</td>\n",
       "      <td>0.021736</td>\n",
       "      <td>0.982826</td>\n",
       "      <td>00:00</td>\n",
       "    </tr>\n",
       "    <tr>\n",
       "      <td>33</td>\n",
       "      <td>0.014977</td>\n",
       "      <td>0.021541</td>\n",
       "      <td>0.982826</td>\n",
       "      <td>00:00</td>\n",
       "    </tr>\n",
       "    <tr>\n",
       "      <td>34</td>\n",
       "      <td>0.014828</td>\n",
       "      <td>0.021357</td>\n",
       "      <td>0.982336</td>\n",
       "      <td>00:00</td>\n",
       "    </tr>\n",
       "    <tr>\n",
       "      <td>35</td>\n",
       "      <td>0.014686</td>\n",
       "      <td>0.021184</td>\n",
       "      <td>0.982336</td>\n",
       "      <td>00:00</td>\n",
       "    </tr>\n",
       "    <tr>\n",
       "      <td>36</td>\n",
       "      <td>0.014549</td>\n",
       "      <td>0.021019</td>\n",
       "      <td>0.982336</td>\n",
       "      <td>00:00</td>\n",
       "    </tr>\n",
       "    <tr>\n",
       "      <td>37</td>\n",
       "      <td>0.014417</td>\n",
       "      <td>0.020864</td>\n",
       "      <td>0.982336</td>\n",
       "      <td>00:00</td>\n",
       "    </tr>\n",
       "    <tr>\n",
       "      <td>38</td>\n",
       "      <td>0.014290</td>\n",
       "      <td>0.020716</td>\n",
       "      <td>0.982336</td>\n",
       "      <td>00:00</td>\n",
       "    </tr>\n",
       "    <tr>\n",
       "      <td>39</td>\n",
       "      <td>0.014168</td>\n",
       "      <td>0.020576</td>\n",
       "      <td>0.982336</td>\n",
       "      <td>00:00</td>\n",
       "    </tr>\n",
       "  </tbody>\n",
       "</table>"
      ],
      "text/plain": [
       "<IPython.core.display.HTML object>"
      ]
     },
     "metadata": {},
     "output_type": "display_data"
    }
   ],
   "source": [
    "#Training ur model for 40 epochs with linear rate 0.1\n",
    "learn.fit(40, lr=0.1)"
   ]
  },
  {
   "cell_type": "markdown",
   "metadata": {},
   "source": [
    "So increase in the number of epochs results in increase in our accuracy of the model.Fastai also\n",
    "gives us functionality to see the accuracy pattern with the training process.The values are stored in\n",
    "learn.recorder and therefore we can plot accuracy with \"the number of epochs\"."
   ]
  },
  {
   "cell_type": "code",
   "execution_count": 142,
   "metadata": {},
   "outputs": [
    {
     "data": {
      "image/png": "[encoded data removed]",
      "text/plain": [
       "<Figure size 432x288 with 1 Axes>"
      ]
     },
     "metadata": {
      "needs_background": "light"
     },
     "output_type": "display_data"
    }
   ],
   "source": [
    "#L class has itemgot which takes 2nd item for every row and here we can see that it plots accuracy vs\n",
    "#the no of epochs\n",
    "plt.plot(L(learn.recorder.values).itemgot(2));"
   ]
  },
  {
   "cell_type": "markdown",
   "metadata": {},
   "source": [
    "We can also print the final accuracy."
   ]
  },
  {
   "cell_type": "code",
   "execution_count": 143,
   "metadata": {},
   "outputs": [
    {
     "data": {
      "text/plain": [
       "0.98233562707901"
      ]
     },
     "execution_count": 143,
     "metadata": {},
     "output_type": "execute_result"
    }
   ],
   "source": [
    "#recorder.values gives the table of metrics for each epoch\n",
    "#Displaying the accuracy for final epoch\n",
    "learn.recorder.values[-1][2]"
   ]
  },
  {
   "cell_type": "markdown",
   "metadata": {},
   "source": [
    "We can actually save the architecture of the model using the model method.It will store the number and\n",
    "the types of layers present in the net.We can also get parameters for each layer using .parameters()\n",
    "method."
   ]
  },
  {
   "cell_type": "code",
   "execution_count": 144,
   "metadata": {},
   "outputs": [
    {
     "data": {
      "text/plain": [
       "(Parameter containing:\n",
       " tensor([[ 0.0221,  0.0056,  0.0311,  ..., -0.0346,  0.0339, -0.0108],\n",
       "         [ 0.0173,  0.0260,  0.0042,  ..., -0.0003, -0.0031,  0.0192],\n",
       "         [-0.0169, -0.0154, -0.0292,  ..., -0.0234,  0.0339, -0.0021],\n",
       "         ...,\n",
       "         [ 0.0080, -0.0167, -0.0217,  ..., -0.0069,  0.0005,  0.0041],\n",
       "         [-0.0155, -0.0012, -0.0065,  ...,  0.0157, -0.0036,  0.0091],\n",
       "         [ 0.0194,  0.0271,  0.0235,  ..., -0.0133,  0.0217,  0.0088]], requires_grad=True),\n",
       " Parameter containing:\n",
       " tensor([ 0.0010, -0.0151, -0.0222, -0.0243,  0.1202, -0.0458, -0.0117, -0.0033,  0.0362, -0.0414, -0.0424, -0.0313, -0.0168, -0.0165, -0.0413,  0.0941, -0.0371, -0.0510, -0.0029,  0.1855, -0.0610,\n",
       "          0.0396,  0.1468,  0.0117,  0.1596, -0.0124, -0.0010, -0.0137,  0.0011, -0.0017], requires_grad=True))"
      ]
     },
     "execution_count": 144,
     "metadata": {},
     "output_type": "execute_result"
    }
   ],
   "source": [
    "m=learn.model #gives the sequences of the layers in model\n",
    "w,b=m[0].parameters() #gives the parameters of the first linear layer\n",
    "w,b#Weights,bias"
   ]
  },
  {
   "cell_type": "markdown",
   "metadata": {},
   "source": [
    "We already learnt this before that when we pass images through different layers in neural net.Each\n",
    "layer is responsible for extracting different features.We can actually display the image through \n",
    "different layers."
   ]
  },
  {
   "cell_type": "markdown",
   "metadata": {},
   "source": [
    "In the middle of this Chapter we learnt about \"Universal Approximation Theorem\" which says that Deep\n",
    "learning can actually solve any complex problem in this world.We can solve much more complex problems\n",
    "later on.."
   ]
  },
  {
   "cell_type": "markdown",
   "metadata": {},
   "source": [
    "### Going Deeper"
   ]
  },
  {
   "cell_type": "markdown",
   "metadata": {},
   "source": [
    "For MNIST dataset we built a neural network of 2 layers with one layer of non-linearity in between.\n",
    "But as the model becomes more deep(more layers),choosing right set of weights become difficult.\n",
    "A model with two linear layers with a nonlinear layer between them is enough for approximating any\n",
    "complex mathematical function.But to get a better performance we would need more deeper models.More \n",
    "deeper models mean more layers but not necessarily more parameters we can have smaller matrices of \n",
    "parameters with more number of layers and we could get better performance than that of more parameters\n",
    "and less layers."
   ]
  },
  {
   "cell_type": "markdown",
   "metadata": {},
   "source": [
    "If there are more layers but less parameters,it also becomes easy to train the model quickly and with\n",
    "less memory.Earlier researchers mostly focused on solving problems through linear layers rather than\n",
    "non-linear layer.Later some experiments showed that deep models could perform better.Let'see change\n",
    "in model performance when we train it using a 18 layer pretrained model."
   ]
  },
  {
   "cell_type": "code",
   "execution_count": 150,
   "metadata": {},
   "outputs": [
    {
     "data": {
      "text/html": [
       "<table border=\"1\" class=\"dataframe\">\n",
       "  <thead>\n",
       "    <tr style=\"text-align: left;\">\n",
       "      <th>epoch</th>\n",
       "      <th>train_loss</th>\n",
       "      <th>valid_loss</th>\n",
       "      <th>accuracy</th>\n",
       "      <th>time</th>\n",
       "    </tr>\n",
       "  </thead>\n",
       "  <tbody>\n",
       "    <tr>\n",
       "      <td>0</td>\n",
       "      <td>0.000000</td>\n",
       "      <td>00:00</td>\n",
       "    </tr>\n",
       "  </tbody>\n",
       "</table>"
      ],
      "text/plain": [
       "<IPython.core.display.HTML object>"
      ]
     },
     "metadata": {},
     "output_type": "display_data"
    },
    {
     "ename": "RuntimeError",
     "evalue": "Expected object of scalar type Long but got scalar type Int for argument #2 'target' in call to _thnn_nll_loss_forward",
     "output_type": "error",
     "traceback": [
      "\u001b[1;31m---------------------------------------------------------------------------\u001b[0m",
      "\u001b[1;31mRuntimeError\u001b[0m                              Traceback (most recent call last)",
      "\u001b[1;32m<ipython-input-150-788b3d5f51b7>\u001b[0m in \u001b[0;36m<module>\u001b[1;34m\u001b[0m\n\u001b[0;32m      2\u001b[0m learn = cnn_learner(dls, resnet18,\n\u001b[0;32m      3\u001b[0m                     loss_func=F.cross_entropy, metrics=accuracy)\n\u001b[1;32m----> 4\u001b[1;33m \u001b[0mlearn\u001b[0m\u001b[1;33m.\u001b[0m\u001b[0mfit_one_cycle\u001b[0m\u001b[1;33m(\u001b[0m\u001b[1;36m1\u001b[0m\u001b[1;33m,\u001b[0m \u001b[1;36m0.1\u001b[0m\u001b[1;33m)\u001b[0m\u001b[1;33m\u001b[0m\u001b[1;33m\u001b[0m\u001b[0m\n\u001b[0m",
      "\u001b[1;32m~\\Anaconda3\\envs\\fastai\\lib\\site-packages\\fastcore\\logargs.py\u001b[0m in \u001b[0;36m_f\u001b[1;34m(*args, **kwargs)\u001b[0m\n\u001b[0;32m     54\u001b[0m         \u001b[0minit_args\u001b[0m\u001b[1;33m.\u001b[0m\u001b[0mupdate\u001b[0m\u001b[1;33m(\u001b[0m\u001b[0mlog\u001b[0m\u001b[1;33m)\u001b[0m\u001b[1;33m\u001b[0m\u001b[1;33m\u001b[0m\u001b[0m\n\u001b[0;32m     55\u001b[0m         \u001b[0msetattr\u001b[0m\u001b[1;33m(\u001b[0m\u001b[0minst\u001b[0m\u001b[1;33m,\u001b[0m \u001b[1;34m'init_args'\u001b[0m\u001b[1;33m,\u001b[0m \u001b[0minit_args\u001b[0m\u001b[1;33m)\u001b[0m\u001b[1;33m\u001b[0m\u001b[1;33m\u001b[0m\u001b[0m\n\u001b[1;32m---> 56\u001b[1;33m         \u001b[1;32mreturn\u001b[0m \u001b[0minst\u001b[0m \u001b[1;32mif\u001b[0m \u001b[0mto_return\u001b[0m \u001b[1;32melse\u001b[0m \u001b[0mf\u001b[0m\u001b[1;33m(\u001b[0m\u001b[1;33m*\u001b[0m\u001b[0margs\u001b[0m\u001b[1;33m,\u001b[0m \u001b[1;33m**\u001b[0m\u001b[0mkwargs\u001b[0m\u001b[1;33m)\u001b[0m\u001b[1;33m\u001b[0m\u001b[1;33m\u001b[0m\u001b[0m\n\u001b[0m\u001b[0;32m     57\u001b[0m     \u001b[1;32mreturn\u001b[0m \u001b[0m_f\u001b[0m\u001b[1;33m\u001b[0m\u001b[1;33m\u001b[0m\u001b[0m\n",
      "\u001b[1;32m~\\Anaconda3\\envs\\fastai\\lib\\site-packages\\fastai\\callback\\schedule.py\u001b[0m in \u001b[0;36mfit_one_cycle\u001b[1;34m(self, n_epoch, lr_max, div, div_final, pct_start, wd, moms, cbs, reset_opt)\u001b[0m\n\u001b[0;32m    111\u001b[0m     scheds = {'lr': combined_cos(pct_start, lr_max/div, lr_max, lr_max/div_final),\n\u001b[0;32m    112\u001b[0m               'mom': combined_cos(pct_start, *(self.moms if moms is None else moms))}\n\u001b[1;32m--> 113\u001b[1;33m     \u001b[0mself\u001b[0m\u001b[1;33m.\u001b[0m\u001b[0mfit\u001b[0m\u001b[1;33m(\u001b[0m\u001b[0mn_epoch\u001b[0m\u001b[1;33m,\u001b[0m \u001b[0mcbs\u001b[0m\u001b[1;33m=\u001b[0m\u001b[0mParamScheduler\u001b[0m\u001b[1;33m(\u001b[0m\u001b[0mscheds\u001b[0m\u001b[1;33m)\u001b[0m\u001b[1;33m+\u001b[0m\u001b[0mL\u001b[0m\u001b[1;33m(\u001b[0m\u001b[0mcbs\u001b[0m\u001b[1;33m)\u001b[0m\u001b[1;33m,\u001b[0m \u001b[0mreset_opt\u001b[0m\u001b[1;33m=\u001b[0m\u001b[0mreset_opt\u001b[0m\u001b[1;33m,\u001b[0m \u001b[0mwd\u001b[0m\u001b[1;33m=\u001b[0m\u001b[0mwd\u001b[0m\u001b[1;33m)\u001b[0m\u001b[1;33m\u001b[0m\u001b[1;33m\u001b[0m\u001b[0m\n\u001b[0m\u001b[0;32m    114\u001b[0m \u001b[1;33m\u001b[0m\u001b[0m\n\u001b[0;32m    115\u001b[0m \u001b[1;31m# Cell\u001b[0m\u001b[1;33m\u001b[0m\u001b[1;33m\u001b[0m\u001b[1;33m\u001b[0m\u001b[0m\n",
      "\u001b[1;32m~\\Anaconda3\\envs\\fastai\\lib\\site-packages\\fastcore\\logargs.py\u001b[0m in \u001b[0;36m_f\u001b[1;34m(*args, **kwargs)\u001b[0m\n\u001b[0;32m     54\u001b[0m         \u001b[0minit_args\u001b[0m\u001b[1;33m.\u001b[0m\u001b[0mupdate\u001b[0m\u001b[1;33m(\u001b[0m\u001b[0mlog\u001b[0m\u001b[1;33m)\u001b[0m\u001b[1;33m\u001b[0m\u001b[1;33m\u001b[0m\u001b[0m\n\u001b[0;32m     55\u001b[0m         \u001b[0msetattr\u001b[0m\u001b[1;33m(\u001b[0m\u001b[0minst\u001b[0m\u001b[1;33m,\u001b[0m \u001b[1;34m'init_args'\u001b[0m\u001b[1;33m,\u001b[0m \u001b[0minit_args\u001b[0m\u001b[1;33m)\u001b[0m\u001b[1;33m\u001b[0m\u001b[1;33m\u001b[0m\u001b[0m\n\u001b[1;32m---> 56\u001b[1;33m         \u001b[1;32mreturn\u001b[0m \u001b[0minst\u001b[0m \u001b[1;32mif\u001b[0m \u001b[0mto_return\u001b[0m \u001b[1;32melse\u001b[0m \u001b[0mf\u001b[0m\u001b[1;33m(\u001b[0m\u001b[1;33m*\u001b[0m\u001b[0margs\u001b[0m\u001b[1;33m,\u001b[0m \u001b[1;33m**\u001b[0m\u001b[0mkwargs\u001b[0m\u001b[1;33m)\u001b[0m\u001b[1;33m\u001b[0m\u001b[1;33m\u001b[0m\u001b[0m\n\u001b[0m\u001b[0;32m     57\u001b[0m     \u001b[1;32mreturn\u001b[0m \u001b[0m_f\u001b[0m\u001b[1;33m\u001b[0m\u001b[1;33m\u001b[0m\u001b[0m\n",
      "\u001b[1;32m~\\Anaconda3\\envs\\fastai\\lib\\site-packages\\fastai\\learner.py\u001b[0m in \u001b[0;36mfit\u001b[1;34m(self, n_epoch, lr, wd, cbs, reset_opt)\u001b[0m\n\u001b[0;32m    205\u001b[0m             \u001b[0mself\u001b[0m\u001b[1;33m.\u001b[0m\u001b[0mopt\u001b[0m\u001b[1;33m.\u001b[0m\u001b[0mset_hypers\u001b[0m\u001b[1;33m(\u001b[0m\u001b[0mlr\u001b[0m\u001b[1;33m=\u001b[0m\u001b[0mself\u001b[0m\u001b[1;33m.\u001b[0m\u001b[0mlr\u001b[0m \u001b[1;32mif\u001b[0m \u001b[0mlr\u001b[0m \u001b[1;32mis\u001b[0m \u001b[1;32mNone\u001b[0m \u001b[1;32melse\u001b[0m \u001b[0mlr\u001b[0m\u001b[1;33m)\u001b[0m\u001b[1;33m\u001b[0m\u001b[1;33m\u001b[0m\u001b[0m\n\u001b[0;32m    206\u001b[0m             \u001b[0mself\u001b[0m\u001b[1;33m.\u001b[0m\u001b[0mn_epoch\u001b[0m \u001b[1;33m=\u001b[0m \u001b[0mn_epoch\u001b[0m\u001b[1;33m\u001b[0m\u001b[1;33m\u001b[0m\u001b[0m\n\u001b[1;32m--> 207\u001b[1;33m             \u001b[0mself\u001b[0m\u001b[1;33m.\u001b[0m\u001b[0m_with_events\u001b[0m\u001b[1;33m(\u001b[0m\u001b[0mself\u001b[0m\u001b[1;33m.\u001b[0m\u001b[0m_do_fit\u001b[0m\u001b[1;33m,\u001b[0m \u001b[1;34m'fit'\u001b[0m\u001b[1;33m,\u001b[0m \u001b[0mCancelFitException\u001b[0m\u001b[1;33m,\u001b[0m \u001b[0mself\u001b[0m\u001b[1;33m.\u001b[0m\u001b[0m_end_cleanup\u001b[0m\u001b[1;33m)\u001b[0m\u001b[1;33m\u001b[0m\u001b[1;33m\u001b[0m\u001b[0m\n\u001b[0m\u001b[0;32m    208\u001b[0m \u001b[1;33m\u001b[0m\u001b[0m\n\u001b[0;32m    209\u001b[0m     \u001b[1;32mdef\u001b[0m \u001b[0m_end_cleanup\u001b[0m\u001b[1;33m(\u001b[0m\u001b[0mself\u001b[0m\u001b[1;33m)\u001b[0m\u001b[1;33m:\u001b[0m \u001b[0mself\u001b[0m\u001b[1;33m.\u001b[0m\u001b[0mdl\u001b[0m\u001b[1;33m,\u001b[0m\u001b[0mself\u001b[0m\u001b[1;33m.\u001b[0m\u001b[0mxb\u001b[0m\u001b[1;33m,\u001b[0m\u001b[0mself\u001b[0m\u001b[1;33m.\u001b[0m\u001b[0myb\u001b[0m\u001b[1;33m,\u001b[0m\u001b[0mself\u001b[0m\u001b[1;33m.\u001b[0m\u001b[0mpred\u001b[0m\u001b[1;33m,\u001b[0m\u001b[0mself\u001b[0m\u001b[1;33m.\u001b[0m\u001b[0mloss\u001b[0m \u001b[1;33m=\u001b[0m \u001b[1;32mNone\u001b[0m\u001b[1;33m,\u001b[0m\u001b[1;33m(\u001b[0m\u001b[1;32mNone\u001b[0m\u001b[1;33m,\u001b[0m\u001b[1;33m)\u001b[0m\u001b[1;33m,\u001b[0m\u001b[1;33m(\u001b[0m\u001b[1;32mNone\u001b[0m\u001b[1;33m,\u001b[0m\u001b[1;33m)\u001b[0m\u001b[1;33m,\u001b[0m\u001b[1;32mNone\u001b[0m\u001b[1;33m,\u001b[0m\u001b[1;32mNone\u001b[0m\u001b[1;33m\u001b[0m\u001b[1;33m\u001b[0m\u001b[0m\n",
      "\u001b[1;32m~\\Anaconda3\\envs\\fastai\\lib\\site-packages\\fastai\\learner.py\u001b[0m in \u001b[0;36m_with_events\u001b[1;34m(self, f, event_type, ex, final)\u001b[0m\n\u001b[0;32m    153\u001b[0m \u001b[1;33m\u001b[0m\u001b[0m\n\u001b[0;32m    154\u001b[0m     \u001b[1;32mdef\u001b[0m \u001b[0m_with_events\u001b[0m\u001b[1;33m(\u001b[0m\u001b[0mself\u001b[0m\u001b[1;33m,\u001b[0m \u001b[0mf\u001b[0m\u001b[1;33m,\u001b[0m \u001b[0mevent_type\u001b[0m\u001b[1;33m,\u001b[0m \u001b[0mex\u001b[0m\u001b[1;33m,\u001b[0m \u001b[0mfinal\u001b[0m\u001b[1;33m=\u001b[0m\u001b[0mnoop\u001b[0m\u001b[1;33m)\u001b[0m\u001b[1;33m:\u001b[0m\u001b[1;33m\u001b[0m\u001b[1;33m\u001b[0m\u001b[0m\n\u001b[1;32m--> 155\u001b[1;33m         \u001b[1;32mtry\u001b[0m\u001b[1;33m:\u001b[0m       \u001b[0mself\u001b[0m\u001b[1;33m(\u001b[0m\u001b[1;34mf'before_{event_type}'\u001b[0m\u001b[1;33m)\u001b[0m       \u001b[1;33m;\u001b[0m\u001b[0mf\u001b[0m\u001b[1;33m(\u001b[0m\u001b[1;33m)\u001b[0m\u001b[1;33m\u001b[0m\u001b[1;33m\u001b[0m\u001b[0m\n\u001b[0m\u001b[0;32m    156\u001b[0m         \u001b[1;32mexcept\u001b[0m \u001b[0mex\u001b[0m\u001b[1;33m:\u001b[0m \u001b[0mself\u001b[0m\u001b[1;33m(\u001b[0m\u001b[1;34mf'after_cancel_{event_type}'\u001b[0m\u001b[1;33m)\u001b[0m\u001b[1;33m\u001b[0m\u001b[1;33m\u001b[0m\u001b[0m\n\u001b[0;32m    157\u001b[0m         \u001b[1;32mfinally\u001b[0m\u001b[1;33m:\u001b[0m   \u001b[0mself\u001b[0m\u001b[1;33m(\u001b[0m\u001b[1;34mf'after_{event_type}'\u001b[0m\u001b[1;33m)\u001b[0m        \u001b[1;33m;\u001b[0m\u001b[0mfinal\u001b[0m\u001b[1;33m(\u001b[0m\u001b[1;33m)\u001b[0m\u001b[1;33m\u001b[0m\u001b[1;33m\u001b[0m\u001b[0m\n",
      "\u001b[1;32m~\\Anaconda3\\envs\\fastai\\lib\\site-packages\\fastai\\learner.py\u001b[0m in \u001b[0;36m_do_fit\u001b[1;34m(self)\u001b[0m\n\u001b[0;32m    195\u001b[0m         \u001b[1;32mfor\u001b[0m \u001b[0mepoch\u001b[0m \u001b[1;32min\u001b[0m \u001b[0mrange\u001b[0m\u001b[1;33m(\u001b[0m\u001b[0mself\u001b[0m\u001b[1;33m.\u001b[0m\u001b[0mn_epoch\u001b[0m\u001b[1;33m)\u001b[0m\u001b[1;33m:\u001b[0m\u001b[1;33m\u001b[0m\u001b[1;33m\u001b[0m\u001b[0m\n\u001b[0;32m    196\u001b[0m             \u001b[0mself\u001b[0m\u001b[1;33m.\u001b[0m\u001b[0mepoch\u001b[0m\u001b[1;33m=\u001b[0m\u001b[0mepoch\u001b[0m\u001b[1;33m\u001b[0m\u001b[1;33m\u001b[0m\u001b[0m\n\u001b[1;32m--> 197\u001b[1;33m             \u001b[0mself\u001b[0m\u001b[1;33m.\u001b[0m\u001b[0m_with_events\u001b[0m\u001b[1;33m(\u001b[0m\u001b[0mself\u001b[0m\u001b[1;33m.\u001b[0m\u001b[0m_do_epoch\u001b[0m\u001b[1;33m,\u001b[0m \u001b[1;34m'epoch'\u001b[0m\u001b[1;33m,\u001b[0m \u001b[0mCancelEpochException\u001b[0m\u001b[1;33m)\u001b[0m\u001b[1;33m\u001b[0m\u001b[1;33m\u001b[0m\u001b[0m\n\u001b[0m\u001b[0;32m    198\u001b[0m \u001b[1;33m\u001b[0m\u001b[0m\n\u001b[0;32m    199\u001b[0m     \u001b[1;33m@\u001b[0m\u001b[0mlog_args\u001b[0m\u001b[1;33m(\u001b[0m\u001b[0mbut\u001b[0m\u001b[1;33m=\u001b[0m\u001b[1;34m'cbs'\u001b[0m\u001b[1;33m)\u001b[0m\u001b[1;33m\u001b[0m\u001b[1;33m\u001b[0m\u001b[0m\n",
      "\u001b[1;32m~\\Anaconda3\\envs\\fastai\\lib\\site-packages\\fastai\\learner.py\u001b[0m in \u001b[0;36m_with_events\u001b[1;34m(self, f, event_type, ex, final)\u001b[0m\n\u001b[0;32m    153\u001b[0m \u001b[1;33m\u001b[0m\u001b[0m\n\u001b[0;32m    154\u001b[0m     \u001b[1;32mdef\u001b[0m \u001b[0m_with_events\u001b[0m\u001b[1;33m(\u001b[0m\u001b[0mself\u001b[0m\u001b[1;33m,\u001b[0m \u001b[0mf\u001b[0m\u001b[1;33m,\u001b[0m \u001b[0mevent_type\u001b[0m\u001b[1;33m,\u001b[0m \u001b[0mex\u001b[0m\u001b[1;33m,\u001b[0m \u001b[0mfinal\u001b[0m\u001b[1;33m=\u001b[0m\u001b[0mnoop\u001b[0m\u001b[1;33m)\u001b[0m\u001b[1;33m:\u001b[0m\u001b[1;33m\u001b[0m\u001b[1;33m\u001b[0m\u001b[0m\n\u001b[1;32m--> 155\u001b[1;33m         \u001b[1;32mtry\u001b[0m\u001b[1;33m:\u001b[0m       \u001b[0mself\u001b[0m\u001b[1;33m(\u001b[0m\u001b[1;34mf'before_{event_type}'\u001b[0m\u001b[1;33m)\u001b[0m       \u001b[1;33m;\u001b[0m\u001b[0mf\u001b[0m\u001b[1;33m(\u001b[0m\u001b[1;33m)\u001b[0m\u001b[1;33m\u001b[0m\u001b[1;33m\u001b[0m\u001b[0m\n\u001b[0m\u001b[0;32m    156\u001b[0m         \u001b[1;32mexcept\u001b[0m \u001b[0mex\u001b[0m\u001b[1;33m:\u001b[0m \u001b[0mself\u001b[0m\u001b[1;33m(\u001b[0m\u001b[1;34mf'after_cancel_{event_type}'\u001b[0m\u001b[1;33m)\u001b[0m\u001b[1;33m\u001b[0m\u001b[1;33m\u001b[0m\u001b[0m\n\u001b[0;32m    157\u001b[0m         \u001b[1;32mfinally\u001b[0m\u001b[1;33m:\u001b[0m   \u001b[0mself\u001b[0m\u001b[1;33m(\u001b[0m\u001b[1;34mf'after_{event_type}'\u001b[0m\u001b[1;33m)\u001b[0m        \u001b[1;33m;\u001b[0m\u001b[0mfinal\u001b[0m\u001b[1;33m(\u001b[0m\u001b[1;33m)\u001b[0m\u001b[1;33m\u001b[0m\u001b[1;33m\u001b[0m\u001b[0m\n",
      "\u001b[1;32m~\\Anaconda3\\envs\\fastai\\lib\\site-packages\\fastai\\learner.py\u001b[0m in \u001b[0;36m_do_epoch\u001b[1;34m(self)\u001b[0m\n\u001b[0;32m    189\u001b[0m \u001b[1;33m\u001b[0m\u001b[0m\n\u001b[0;32m    190\u001b[0m     \u001b[1;32mdef\u001b[0m \u001b[0m_do_epoch\u001b[0m\u001b[1;33m(\u001b[0m\u001b[0mself\u001b[0m\u001b[1;33m)\u001b[0m\u001b[1;33m:\u001b[0m\u001b[1;33m\u001b[0m\u001b[1;33m\u001b[0m\u001b[0m\n\u001b[1;32m--> 191\u001b[1;33m         \u001b[0mself\u001b[0m\u001b[1;33m.\u001b[0m\u001b[0m_do_epoch_train\u001b[0m\u001b[1;33m(\u001b[0m\u001b[1;33m)\u001b[0m\u001b[1;33m\u001b[0m\u001b[1;33m\u001b[0m\u001b[0m\n\u001b[0m\u001b[0;32m    192\u001b[0m         \u001b[0mself\u001b[0m\u001b[1;33m.\u001b[0m\u001b[0m_do_epoch_validate\u001b[0m\u001b[1;33m(\u001b[0m\u001b[1;33m)\u001b[0m\u001b[1;33m\u001b[0m\u001b[1;33m\u001b[0m\u001b[0m\n\u001b[0;32m    193\u001b[0m \u001b[1;33m\u001b[0m\u001b[0m\n",
      "\u001b[1;32m~\\Anaconda3\\envs\\fastai\\lib\\site-packages\\fastai\\learner.py\u001b[0m in \u001b[0;36m_do_epoch_train\u001b[1;34m(self)\u001b[0m\n\u001b[0;32m    181\u001b[0m     \u001b[1;32mdef\u001b[0m \u001b[0m_do_epoch_train\u001b[0m\u001b[1;33m(\u001b[0m\u001b[0mself\u001b[0m\u001b[1;33m)\u001b[0m\u001b[1;33m:\u001b[0m\u001b[1;33m\u001b[0m\u001b[1;33m\u001b[0m\u001b[0m\n\u001b[0;32m    182\u001b[0m         \u001b[0mself\u001b[0m\u001b[1;33m.\u001b[0m\u001b[0mdl\u001b[0m \u001b[1;33m=\u001b[0m \u001b[0mself\u001b[0m\u001b[1;33m.\u001b[0m\u001b[0mdls\u001b[0m\u001b[1;33m.\u001b[0m\u001b[0mtrain\u001b[0m\u001b[1;33m\u001b[0m\u001b[1;33m\u001b[0m\u001b[0m\n\u001b[1;32m--> 183\u001b[1;33m         \u001b[0mself\u001b[0m\u001b[1;33m.\u001b[0m\u001b[0m_with_events\u001b[0m\u001b[1;33m(\u001b[0m\u001b[0mself\u001b[0m\u001b[1;33m.\u001b[0m\u001b[0mall_batches\u001b[0m\u001b[1;33m,\u001b[0m \u001b[1;34m'train'\u001b[0m\u001b[1;33m,\u001b[0m \u001b[0mCancelTrainException\u001b[0m\u001b[1;33m)\u001b[0m\u001b[1;33m\u001b[0m\u001b[1;33m\u001b[0m\u001b[0m\n\u001b[0m\u001b[0;32m    184\u001b[0m \u001b[1;33m\u001b[0m\u001b[0m\n\u001b[0;32m    185\u001b[0m     \u001b[1;32mdef\u001b[0m \u001b[0m_do_epoch_validate\u001b[0m\u001b[1;33m(\u001b[0m\u001b[0mself\u001b[0m\u001b[1;33m,\u001b[0m \u001b[0mds_idx\u001b[0m\u001b[1;33m=\u001b[0m\u001b[1;36m1\u001b[0m\u001b[1;33m,\u001b[0m \u001b[0mdl\u001b[0m\u001b[1;33m=\u001b[0m\u001b[1;32mNone\u001b[0m\u001b[1;33m)\u001b[0m\u001b[1;33m:\u001b[0m\u001b[1;33m\u001b[0m\u001b[1;33m\u001b[0m\u001b[0m\n",
      "\u001b[1;32m~\\Anaconda3\\envs\\fastai\\lib\\site-packages\\fastai\\learner.py\u001b[0m in \u001b[0;36m_with_events\u001b[1;34m(self, f, event_type, ex, final)\u001b[0m\n\u001b[0;32m    153\u001b[0m \u001b[1;33m\u001b[0m\u001b[0m\n\u001b[0;32m    154\u001b[0m     \u001b[1;32mdef\u001b[0m \u001b[0m_with_events\u001b[0m\u001b[1;33m(\u001b[0m\u001b[0mself\u001b[0m\u001b[1;33m,\u001b[0m \u001b[0mf\u001b[0m\u001b[1;33m,\u001b[0m \u001b[0mevent_type\u001b[0m\u001b[1;33m,\u001b[0m \u001b[0mex\u001b[0m\u001b[1;33m,\u001b[0m \u001b[0mfinal\u001b[0m\u001b[1;33m=\u001b[0m\u001b[0mnoop\u001b[0m\u001b[1;33m)\u001b[0m\u001b[1;33m:\u001b[0m\u001b[1;33m\u001b[0m\u001b[1;33m\u001b[0m\u001b[0m\n\u001b[1;32m--> 155\u001b[1;33m         \u001b[1;32mtry\u001b[0m\u001b[1;33m:\u001b[0m       \u001b[0mself\u001b[0m\u001b[1;33m(\u001b[0m\u001b[1;34mf'before_{event_type}'\u001b[0m\u001b[1;33m)\u001b[0m       \u001b[1;33m;\u001b[0m\u001b[0mf\u001b[0m\u001b[1;33m(\u001b[0m\u001b[1;33m)\u001b[0m\u001b[1;33m\u001b[0m\u001b[1;33m\u001b[0m\u001b[0m\n\u001b[0m\u001b[0;32m    156\u001b[0m         \u001b[1;32mexcept\u001b[0m \u001b[0mex\u001b[0m\u001b[1;33m:\u001b[0m \u001b[0mself\u001b[0m\u001b[1;33m(\u001b[0m\u001b[1;34mf'after_cancel_{event_type}'\u001b[0m\u001b[1;33m)\u001b[0m\u001b[1;33m\u001b[0m\u001b[1;33m\u001b[0m\u001b[0m\n\u001b[0;32m    157\u001b[0m         \u001b[1;32mfinally\u001b[0m\u001b[1;33m:\u001b[0m   \u001b[0mself\u001b[0m\u001b[1;33m(\u001b[0m\u001b[1;34mf'after_{event_type}'\u001b[0m\u001b[1;33m)\u001b[0m        \u001b[1;33m;\u001b[0m\u001b[0mfinal\u001b[0m\u001b[1;33m(\u001b[0m\u001b[1;33m)\u001b[0m\u001b[1;33m\u001b[0m\u001b[1;33m\u001b[0m\u001b[0m\n",
      "\u001b[1;32m~\\Anaconda3\\envs\\fastai\\lib\\site-packages\\fastai\\learner.py\u001b[0m in \u001b[0;36mall_batches\u001b[1;34m(self)\u001b[0m\n\u001b[0;32m    159\u001b[0m     \u001b[1;32mdef\u001b[0m \u001b[0mall_batches\u001b[0m\u001b[1;33m(\u001b[0m\u001b[0mself\u001b[0m\u001b[1;33m)\u001b[0m\u001b[1;33m:\u001b[0m\u001b[1;33m\u001b[0m\u001b[1;33m\u001b[0m\u001b[0m\n\u001b[0;32m    160\u001b[0m         \u001b[0mself\u001b[0m\u001b[1;33m.\u001b[0m\u001b[0mn_iter\u001b[0m \u001b[1;33m=\u001b[0m \u001b[0mlen\u001b[0m\u001b[1;33m(\u001b[0m\u001b[0mself\u001b[0m\u001b[1;33m.\u001b[0m\u001b[0mdl\u001b[0m\u001b[1;33m)\u001b[0m\u001b[1;33m\u001b[0m\u001b[1;33m\u001b[0m\u001b[0m\n\u001b[1;32m--> 161\u001b[1;33m         \u001b[1;32mfor\u001b[0m \u001b[0mo\u001b[0m \u001b[1;32min\u001b[0m \u001b[0menumerate\u001b[0m\u001b[1;33m(\u001b[0m\u001b[0mself\u001b[0m\u001b[1;33m.\u001b[0m\u001b[0mdl\u001b[0m\u001b[1;33m)\u001b[0m\u001b[1;33m:\u001b[0m \u001b[0mself\u001b[0m\u001b[1;33m.\u001b[0m\u001b[0mone_batch\u001b[0m\u001b[1;33m(\u001b[0m\u001b[1;33m*\u001b[0m\u001b[0mo\u001b[0m\u001b[1;33m)\u001b[0m\u001b[1;33m\u001b[0m\u001b[1;33m\u001b[0m\u001b[0m\n\u001b[0m\u001b[0;32m    162\u001b[0m \u001b[1;33m\u001b[0m\u001b[0m\n\u001b[0;32m    163\u001b[0m     \u001b[1;32mdef\u001b[0m \u001b[0m_do_one_batch\u001b[0m\u001b[1;33m(\u001b[0m\u001b[0mself\u001b[0m\u001b[1;33m)\u001b[0m\u001b[1;33m:\u001b[0m\u001b[1;33m\u001b[0m\u001b[1;33m\u001b[0m\u001b[0m\n",
      "\u001b[1;32m~\\Anaconda3\\envs\\fastai\\lib\\site-packages\\fastai\\learner.py\u001b[0m in \u001b[0;36mone_batch\u001b[1;34m(self, i, b)\u001b[0m\n\u001b[0;32m    177\u001b[0m         \u001b[0mself\u001b[0m\u001b[1;33m.\u001b[0m\u001b[0miter\u001b[0m \u001b[1;33m=\u001b[0m \u001b[0mi\u001b[0m\u001b[1;33m\u001b[0m\u001b[1;33m\u001b[0m\u001b[0m\n\u001b[0;32m    178\u001b[0m         \u001b[0mself\u001b[0m\u001b[1;33m.\u001b[0m\u001b[0m_split\u001b[0m\u001b[1;33m(\u001b[0m\u001b[0mb\u001b[0m\u001b[1;33m)\u001b[0m\u001b[1;33m\u001b[0m\u001b[1;33m\u001b[0m\u001b[0m\n\u001b[1;32m--> 179\u001b[1;33m         \u001b[0mself\u001b[0m\u001b[1;33m.\u001b[0m\u001b[0m_with_events\u001b[0m\u001b[1;33m(\u001b[0m\u001b[0mself\u001b[0m\u001b[1;33m.\u001b[0m\u001b[0m_do_one_batch\u001b[0m\u001b[1;33m,\u001b[0m \u001b[1;34m'batch'\u001b[0m\u001b[1;33m,\u001b[0m \u001b[0mCancelBatchException\u001b[0m\u001b[1;33m)\u001b[0m\u001b[1;33m\u001b[0m\u001b[1;33m\u001b[0m\u001b[0m\n\u001b[0m\u001b[0;32m    180\u001b[0m \u001b[1;33m\u001b[0m\u001b[0m\n\u001b[0;32m    181\u001b[0m     \u001b[1;32mdef\u001b[0m \u001b[0m_do_epoch_train\u001b[0m\u001b[1;33m(\u001b[0m\u001b[0mself\u001b[0m\u001b[1;33m)\u001b[0m\u001b[1;33m:\u001b[0m\u001b[1;33m\u001b[0m\u001b[1;33m\u001b[0m\u001b[0m\n",
      "\u001b[1;32m~\\Anaconda3\\envs\\fastai\\lib\\site-packages\\fastai\\learner.py\u001b[0m in \u001b[0;36m_with_events\u001b[1;34m(self, f, event_type, ex, final)\u001b[0m\n\u001b[0;32m    153\u001b[0m \u001b[1;33m\u001b[0m\u001b[0m\n\u001b[0;32m    154\u001b[0m     \u001b[1;32mdef\u001b[0m \u001b[0m_with_events\u001b[0m\u001b[1;33m(\u001b[0m\u001b[0mself\u001b[0m\u001b[1;33m,\u001b[0m \u001b[0mf\u001b[0m\u001b[1;33m,\u001b[0m \u001b[0mevent_type\u001b[0m\u001b[1;33m,\u001b[0m \u001b[0mex\u001b[0m\u001b[1;33m,\u001b[0m \u001b[0mfinal\u001b[0m\u001b[1;33m=\u001b[0m\u001b[0mnoop\u001b[0m\u001b[1;33m)\u001b[0m\u001b[1;33m:\u001b[0m\u001b[1;33m\u001b[0m\u001b[1;33m\u001b[0m\u001b[0m\n\u001b[1;32m--> 155\u001b[1;33m         \u001b[1;32mtry\u001b[0m\u001b[1;33m:\u001b[0m       \u001b[0mself\u001b[0m\u001b[1;33m(\u001b[0m\u001b[1;34mf'before_{event_type}'\u001b[0m\u001b[1;33m)\u001b[0m       \u001b[1;33m;\u001b[0m\u001b[0mf\u001b[0m\u001b[1;33m(\u001b[0m\u001b[1;33m)\u001b[0m\u001b[1;33m\u001b[0m\u001b[1;33m\u001b[0m\u001b[0m\n\u001b[0m\u001b[0;32m    156\u001b[0m         \u001b[1;32mexcept\u001b[0m \u001b[0mex\u001b[0m\u001b[1;33m:\u001b[0m \u001b[0mself\u001b[0m\u001b[1;33m(\u001b[0m\u001b[1;34mf'after_cancel_{event_type}'\u001b[0m\u001b[1;33m)\u001b[0m\u001b[1;33m\u001b[0m\u001b[1;33m\u001b[0m\u001b[0m\n\u001b[0;32m    157\u001b[0m         \u001b[1;32mfinally\u001b[0m\u001b[1;33m:\u001b[0m   \u001b[0mself\u001b[0m\u001b[1;33m(\u001b[0m\u001b[1;34mf'after_{event_type}'\u001b[0m\u001b[1;33m)\u001b[0m        \u001b[1;33m;\u001b[0m\u001b[0mfinal\u001b[0m\u001b[1;33m(\u001b[0m\u001b[1;33m)\u001b[0m\u001b[1;33m\u001b[0m\u001b[1;33m\u001b[0m\u001b[0m\n",
      "\u001b[1;32m~\\Anaconda3\\envs\\fastai\\lib\\site-packages\\fastai\\learner.py\u001b[0m in \u001b[0;36m_do_one_batch\u001b[1;34m(self)\u001b[0m\n\u001b[0;32m    164\u001b[0m         \u001b[0mself\u001b[0m\u001b[1;33m.\u001b[0m\u001b[0mpred\u001b[0m \u001b[1;33m=\u001b[0m \u001b[0mself\u001b[0m\u001b[1;33m.\u001b[0m\u001b[0mmodel\u001b[0m\u001b[1;33m(\u001b[0m\u001b[1;33m*\u001b[0m\u001b[0mself\u001b[0m\u001b[1;33m.\u001b[0m\u001b[0mxb\u001b[0m\u001b[1;33m)\u001b[0m\u001b[1;33m\u001b[0m\u001b[1;33m\u001b[0m\u001b[0m\n\u001b[0;32m    165\u001b[0m         \u001b[0mself\u001b[0m\u001b[1;33m(\u001b[0m\u001b[1;34m'after_pred'\u001b[0m\u001b[1;33m)\u001b[0m\u001b[1;33m\u001b[0m\u001b[1;33m\u001b[0m\u001b[0m\n\u001b[1;32m--> 166\u001b[1;33m         \u001b[1;32mif\u001b[0m \u001b[0mlen\u001b[0m\u001b[1;33m(\u001b[0m\u001b[0mself\u001b[0m\u001b[1;33m.\u001b[0m\u001b[0myb\u001b[0m\u001b[1;33m)\u001b[0m\u001b[1;33m:\u001b[0m \u001b[0mself\u001b[0m\u001b[1;33m.\u001b[0m\u001b[0mloss\u001b[0m \u001b[1;33m=\u001b[0m \u001b[0mself\u001b[0m\u001b[1;33m.\u001b[0m\u001b[0mloss_func\u001b[0m\u001b[1;33m(\u001b[0m\u001b[0mself\u001b[0m\u001b[1;33m.\u001b[0m\u001b[0mpred\u001b[0m\u001b[1;33m,\u001b[0m \u001b[1;33m*\u001b[0m\u001b[0mself\u001b[0m\u001b[1;33m.\u001b[0m\u001b[0myb\u001b[0m\u001b[1;33m)\u001b[0m\u001b[1;33m\u001b[0m\u001b[1;33m\u001b[0m\u001b[0m\n\u001b[0m\u001b[0;32m    167\u001b[0m         \u001b[0mself\u001b[0m\u001b[1;33m(\u001b[0m\u001b[1;34m'after_loss'\u001b[0m\u001b[1;33m)\u001b[0m\u001b[1;33m\u001b[0m\u001b[1;33m\u001b[0m\u001b[0m\n\u001b[0;32m    168\u001b[0m         \u001b[1;32mif\u001b[0m \u001b[1;32mnot\u001b[0m \u001b[0mself\u001b[0m\u001b[1;33m.\u001b[0m\u001b[0mtraining\u001b[0m \u001b[1;32mor\u001b[0m \u001b[1;32mnot\u001b[0m \u001b[0mlen\u001b[0m\u001b[1;33m(\u001b[0m\u001b[0mself\u001b[0m\u001b[1;33m.\u001b[0m\u001b[0myb\u001b[0m\u001b[1;33m)\u001b[0m\u001b[1;33m:\u001b[0m \u001b[1;32mreturn\u001b[0m\u001b[1;33m\u001b[0m\u001b[1;33m\u001b[0m\u001b[0m\n",
      "\u001b[1;32m~\\Anaconda3\\envs\\fastai\\lib\\site-packages\\torch\\nn\\functional.py\u001b[0m in \u001b[0;36mcross_entropy\u001b[1;34m(input, target, weight, size_average, ignore_index, reduce, reduction)\u001b[0m\n\u001b[0;32m   2420\u001b[0m     \u001b[1;32mif\u001b[0m \u001b[0msize_average\u001b[0m \u001b[1;32mis\u001b[0m \u001b[1;32mnot\u001b[0m \u001b[1;32mNone\u001b[0m \u001b[1;32mor\u001b[0m \u001b[0mreduce\u001b[0m \u001b[1;32mis\u001b[0m \u001b[1;32mnot\u001b[0m \u001b[1;32mNone\u001b[0m\u001b[1;33m:\u001b[0m\u001b[1;33m\u001b[0m\u001b[1;33m\u001b[0m\u001b[0m\n\u001b[0;32m   2421\u001b[0m         \u001b[0mreduction\u001b[0m \u001b[1;33m=\u001b[0m \u001b[0m_Reduction\u001b[0m\u001b[1;33m.\u001b[0m\u001b[0mlegacy_get_string\u001b[0m\u001b[1;33m(\u001b[0m\u001b[0msize_average\u001b[0m\u001b[1;33m,\u001b[0m \u001b[0mreduce\u001b[0m\u001b[1;33m)\u001b[0m\u001b[1;33m\u001b[0m\u001b[1;33m\u001b[0m\u001b[0m\n\u001b[1;32m-> 2422\u001b[1;33m     \u001b[1;32mreturn\u001b[0m \u001b[0mnll_loss\u001b[0m\u001b[1;33m(\u001b[0m\u001b[0mlog_softmax\u001b[0m\u001b[1;33m(\u001b[0m\u001b[0minput\u001b[0m\u001b[1;33m,\u001b[0m \u001b[1;36m1\u001b[0m\u001b[1;33m)\u001b[0m\u001b[1;33m,\u001b[0m \u001b[0mtarget\u001b[0m\u001b[1;33m,\u001b[0m \u001b[0mweight\u001b[0m\u001b[1;33m,\u001b[0m \u001b[1;32mNone\u001b[0m\u001b[1;33m,\u001b[0m \u001b[0mignore_index\u001b[0m\u001b[1;33m,\u001b[0m \u001b[1;32mNone\u001b[0m\u001b[1;33m,\u001b[0m \u001b[0mreduction\u001b[0m\u001b[1;33m)\u001b[0m\u001b[1;33m\u001b[0m\u001b[1;33m\u001b[0m\u001b[0m\n\u001b[0m\u001b[0;32m   2423\u001b[0m \u001b[1;33m\u001b[0m\u001b[0m\n\u001b[0;32m   2424\u001b[0m \u001b[1;33m\u001b[0m\u001b[0m\n",
      "\u001b[1;32m~\\Anaconda3\\envs\\fastai\\lib\\site-packages\\torch\\nn\\functional.py\u001b[0m in \u001b[0;36mnll_loss\u001b[1;34m(input, target, weight, size_average, ignore_index, reduce, reduction)\u001b[0m\n\u001b[0;32m   2216\u001b[0m                          .format(input.size(0), target.size(0)))\n\u001b[0;32m   2217\u001b[0m     \u001b[1;32mif\u001b[0m \u001b[0mdim\u001b[0m \u001b[1;33m==\u001b[0m \u001b[1;36m2\u001b[0m\u001b[1;33m:\u001b[0m\u001b[1;33m\u001b[0m\u001b[1;33m\u001b[0m\u001b[0m\n\u001b[1;32m-> 2218\u001b[1;33m         \u001b[0mret\u001b[0m \u001b[1;33m=\u001b[0m \u001b[0mtorch\u001b[0m\u001b[1;33m.\u001b[0m\u001b[0m_C\u001b[0m\u001b[1;33m.\u001b[0m\u001b[0m_nn\u001b[0m\u001b[1;33m.\u001b[0m\u001b[0mnll_loss\u001b[0m\u001b[1;33m(\u001b[0m\u001b[0minput\u001b[0m\u001b[1;33m,\u001b[0m \u001b[0mtarget\u001b[0m\u001b[1;33m,\u001b[0m \u001b[0mweight\u001b[0m\u001b[1;33m,\u001b[0m \u001b[0m_Reduction\u001b[0m\u001b[1;33m.\u001b[0m\u001b[0mget_enum\u001b[0m\u001b[1;33m(\u001b[0m\u001b[0mreduction\u001b[0m\u001b[1;33m)\u001b[0m\u001b[1;33m,\u001b[0m \u001b[0mignore_index\u001b[0m\u001b[1;33m)\u001b[0m\u001b[1;33m\u001b[0m\u001b[1;33m\u001b[0m\u001b[0m\n\u001b[0m\u001b[0;32m   2219\u001b[0m     \u001b[1;32melif\u001b[0m \u001b[0mdim\u001b[0m \u001b[1;33m==\u001b[0m \u001b[1;36m4\u001b[0m\u001b[1;33m:\u001b[0m\u001b[1;33m\u001b[0m\u001b[1;33m\u001b[0m\u001b[0m\n\u001b[0;32m   2220\u001b[0m         \u001b[0mret\u001b[0m \u001b[1;33m=\u001b[0m \u001b[0mtorch\u001b[0m\u001b[1;33m.\u001b[0m\u001b[0m_C\u001b[0m\u001b[1;33m.\u001b[0m\u001b[0m_nn\u001b[0m\u001b[1;33m.\u001b[0m\u001b[0mnll_loss2d\u001b[0m\u001b[1;33m(\u001b[0m\u001b[0minput\u001b[0m\u001b[1;33m,\u001b[0m \u001b[0mtarget\u001b[0m\u001b[1;33m,\u001b[0m \u001b[0mweight\u001b[0m\u001b[1;33m,\u001b[0m \u001b[0m_Reduction\u001b[0m\u001b[1;33m.\u001b[0m\u001b[0mget_enum\u001b[0m\u001b[1;33m(\u001b[0m\u001b[0mreduction\u001b[0m\u001b[1;33m)\u001b[0m\u001b[1;33m,\u001b[0m \u001b[0mignore_index\u001b[0m\u001b[1;33m)\u001b[0m\u001b[1;33m\u001b[0m\u001b[1;33m\u001b[0m\u001b[0m\n",
      "\u001b[1;31mRuntimeError\u001b[0m: Expected object of scalar type Long but got scalar type Int for argument #2 'target' in call to _thnn_nll_loss_forward"
     ]
    }
   ],
   "source": [
    "dls = ImageDataLoaders.from_folder(path,num_workers=0)\n",
    "learn = cnn_learner(dls, resnet18,\n",
    "                    loss_func=F.cross_entropy, metrics=accuracy)\n",
    "learn.fit_one_cycle(1, 0.1)"
   ]
  },
  {
   "cell_type": "markdown",
   "metadata": {},
   "source": [
    "## Jargon Recap"
   ]
  },
  {
   "cell_type": "markdown",
   "metadata": {},
   "source": [
    "## Questionnaire"
   ]
  },
  {
   "cell_type": "markdown",
   "metadata": {},
   "source": [
    "1. How is a grayscale image represented on a computer? How about a color image?\n",
    "1. How are the files and folders in the `MNIST_SAMPLE` dataset structured? Why?\n",
    "1. Explain how the \"pixel similarity\" approach to classifying digits works.\n",
    "1. What is a list comprehension? Create one now that selects odd numbers from a list and doubles them.\n",
    "1. What is a \"rank-3 tensor\"?\n",
    "1. What is the difference between tensor rank and shape? How do you get the rank from the shape?\n",
    "1. What are RMSE and L1 norm?\n",
    "1. How can you apply a calculation on thousands of numbers at once, many thousands of times faster than a Python loop?\n",
    "1. Create a 3×3 tensor or array containing the numbers from 1 to 9. Double it. Select the bottom-right four numbers.\n",
    "1. What is broadcasting?\n",
    "1. Are metrics generally calculated using the training set, or the validation set? Why?\n",
    "1. What is SGD?\n",
    "1. Why does SGD use mini-batches?\n",
    "1. What are the seven steps in SGD for machine learning?\n",
    "1. How do we initialize the weights in a model?\n",
    "1. What is \"loss\"?\n",
    "1. Why can't we always use a high learning rate?\n",
    "1. What is a \"gradient\"?\n",
    "1. Do you need to know how to calculate gradients yourself?\n",
    "1. Why can't we use accuracy as a loss function?\n",
    "1. Draw the sigmoid function. What is special about its shape?\n",
    "1. What is the difference between a loss function and a metric?\n",
    "1. What is the function to calculate new weights using a learning rate?\n",
    "1. What does the `DataLoader` class do?\n",
    "1. Write pseudocode showing the basic steps taken in each epoch for SGD.\n",
    "1. Create a function that, if passed two arguments `[1,2,3,4]` and `'abcd'`, returns `[(1, 'a'), (2, 'b'), (3, 'c'), (4, 'd')]`. What is special about that output data structure?\n",
    "1. What does `view` do in PyTorch?\n",
    "1. What are the \"bias\" parameters in a neural network? Why do we need them?\n",
    "1. What does the `@` operator do in Python?\n",
    "1. What does the `backward` method do?\n",
    "1. Why do we have to zero the gradients?\n",
    "1. What information do we have to pass to `Learner`?\n",
    "1. Show Python or pseudocode for the basic steps of a training loop.\n",
    "1. What is \"ReLU\"? Draw a plot of it for values from `-2` to `+2`.\n",
    "1. What is an \"activation function\"?\n",
    "1. What's the difference between `F.relu` and `nn.ReLU`?\n",
    "1. The universal approximation theorem shows that any function can be approximated as closely as needed using just one nonlinearity. So why do we normally use more?"
   ]
  },
  {
   "cell_type": "code",
   "execution_count": null,
   "metadata": {},
   "outputs": [],
   "source": [
    "Ans-1.A gray-scale image is represented as 2D matrices with rows and columns containing pixel values \n",
    "between 0 and 255.Color images contain an extra dimension for color coding and thus they can be repre\n",
    "sented as 3D matrices.\n",
    "Ans-2.MNIST_DATASET contain two main folders called \"train\" and \"valid\" which contain training and \n",
    "validation set respectively.Further these folders contain folders 3 and 7 containing images of 3 and\n",
    "7 respectively.\n",
    "Ans-3.The pixel similarity approach basically calculates the mean of the pixel values for each \n",
    "pixel across all images differently for 3 and 7.In this way we get a baseline ideal image for both 3 \n",
    "and 7 containing mean pixel values which are then compared with test images and error is calculated.\n",
    "On the basis of min error it is decided if it is 3 or 7.\n",
    "Ans-4.List comprehension is an easy and fast way to create lists from existing lists.\n",
    "Eg.odd_list=[2*l for l in list_1 if l%2!=0]\n",
    "Ans-5 Rank 3 tensor is a tensor with 3 dimensions.It is made up of 3D matrices or arrays.It is also\n",
    "called triad.\n",
    "Ans-6 Rank of a tensor is simply the number of dimensions of tensor whereas shape gives the length of\n",
    "each dimension or axis of the tensor.We can get the rank of a tensor using the number of elements in \n",
    "its shape.\n",
    "Ans-7 RMSE stands for root mean squared error.It is one of the loss functions used for optimizing the\n",
    "parameters.It is the square root of mean of the squared values of the difference between the targets \n",
    "and predictions.L1 Norm is the mean absolute error.It is simply the mean of the absolute difference\n",
    "between the targets and the predictions.\n",
    "Ans-8 It can be done using an array functionality called Broadcasting where operations are performed\n",
    "between arrays or tensors of different shapes.It extends the tensor with lower rank so that it is same\n",
    "as the one with the higher rank and then operations can be done on individual elements.\n",
    "Ans-9 arr=tensor(range(1,9))\n",
    "      arr=arr.view(3,3)\n",
    "      arr=arr*2\n",
    "Ans-10  Broadcasting is used for performing operations between tensors/arrays of different ranks.It\n",
    "expands the rank of the tensor with lower rank.\n",
    "Ans-11 Metrics are calculated mostly for validation set but so as to evaluate model's full performance\n",
    "and so as to improve the model training and validation metrics both are considered.\n",
    "Ans-12 SGD stands for Stochastic Gradient Descent.It is one of the methods used for optimizing the \n",
    "parameters in neural networks.It uses mini batches of data to update the weights.\n",
    "Ans-13 SGD uses mini batches of data.It is because if it uses whole dataset for training,it would take\n",
    "a lot of time and using a single item wouldn't produce much information.Therefore subsets of data\n",
    "called mini-batches are used.\n",
    "Ans-14 The seven steps of SGD are as follows:-\n",
    "1.Randomly Initialize set of weights.\n",
    "2.Using them predict for each Image if it is 3 or 7.\n",
    "3.Calculate loss on the basis of predictions.Use appropriate Loss function.\n",
    "4.Now calculate gradient which will show how the weights should change.\n",
    "5.Update the weights according to gradient.\n",
    "6.Again make predictions and repeat the process\n",
    "7.Continue doing the same till you find that your model is making correct predictions.\n",
    "Ans-15 Weights are initialized randomly by passing the shape of the input matrix or sometimes in case \n",
    "of Transfer Learning,it uses weights of the pre-trained model.\n",
    "Ans-16 Loss is a measure of the difference between the target values and the predicted values.\n",
    "Ans-17 A high learning rate would result in overstepping of the parameters and instead of reaching the\n",
    "minima the values can shoot up and it can reach beyond minima.\n",
    "Ans-18 A \"gradient\" is simply the change in the dependent variable divided by the change in the \n",
    "independent variable.\n",
    "Ans-19 We should know the meaning of the gradient rest Pytorch provides special AutoGrad Package for \n",
    "directly calculating the gradient.\n",
    "Ans-20 Accuracy is a metric for evaluating model's performanc.Accuracy changes only when there is a\n",
    "change in any incorrect prediction or some change in weights.A small change in weights won't change \n",
    "accuracy much and therefor gradient would be very less nearly 0.For loss function, we need something\n",
    "to have a significant gradient value so that we can update the weights value.If the gradient is 0,then\n",
    "Accuracy cannot be used as a loss function.\n",
    "Ans-21 Sigmoid function is special because it has a universal range of (0,1).It maps all the real \n",
    "values between 0 and 1 which is then used as activation functions sometimes and a threshold is decided\n",
    "to separate between the classes in predictions.\n",
    "Ans-22 A loss function is used for automating the gradient calculation.Our weights are updated on the \n",
    "basis of gradient values.Set of weights are optimized to reach minima of the loss function which is a\n",
    "measure of the distance between target and predictions.\n",
    "Ans-23 W-=lr*gradient(w)\n",
    "Ans-24 DataLoader class divides the data into mini batches of a definite batch size so that data is \n",
    "fed into the model in batches.\n",
    "Ans-26 It is called Dataset and when a list of indepenent and dependent variables are passed,it maps\n",
    "both into single tuples and returns a list of tuples containing independent and dependent variable \n",
    "values.\n",
    "Ans-27 .view method changes the shape of any tensor in Pytorch.\n",
    "Ans-28 \"Bias\" is a value added to the matrix multiplication product of weights and the input image.\n",
    "Sometimes when the input image is a sparse matrix then if they are multiplied by weights,the product\n",
    "is zero.Therefore we won't get any gradients.Adding a bias term ensures that the prediction is always\n",
    "non zero.\n",
    "Ans-29 @ operator stands for Matrix Multiplication in Pytorch\n",
    "Ans-30 Backward method calculates gradient for the particular matrox whenever any operation is \n",
    "Ans-31 We do \"opt.grad_zero\" to clear the gradients previously calculated as they keep up adding every\n",
    "time each operation is performed.\n",
    "Ans-32 In learner we need to pass the dataloaders,the model,the optimizer,the loss function and the \n",
    "metrics.\n",
    "Ans-33 def train_model(model,epochs)\n",
    "       for i in range(epochs)\n",
    "       train_epoch(model)\n",
    "       validate_epoch(model)\n",
    "Ans-34 ReLu stands for rectified linear unit.It is also one of the activation functions and generally\n",
    "used for introducing Non-Linearity to the model.\n",
    "Ans-35 layers in a neural network can be linear or non-linear.To introduce non-linearity,the output \n",
    "from a layer should be mapped with a non-linear function and such functions are called non-linear \n",
    "functions.As they help in activating the neuron.\n",
    "Anns-36 Pytorch provides functions both in the form of classes as well as pure functions.Pytorch's \n",
    "nn.module has nn.ReLu class and functions module has F.ReLU.Both are same activations only.It's just \n",
    "that while using in neural networks,we prefer to use them as nn.ReLU objects.\n",
    "Ans-37 To improve the accuracy and performance we tend to use more non-linear layers in a neural \n",
    "network."
   ]
  },
  {
   "cell_type": "markdown",
   "metadata": {},
   "source": [
    "### Further Research"
   ]
  },
  {
   "cell_type": "markdown",
   "metadata": {},
   "source": [
    "1. Create your own implementation of `Learner` from scratch, based on the training loop shown in this chapter.\n",
    "1. Complete all the steps in this chapter using the full MNIST datasets (that is, for all digits, not just 3s and 7s). This is a significant project and will take you quite a bit of time to complete! You'll need to do some of your own research to figure out how to overcome some obstacles you'll meet on the way."
   ]
  },
  {
   "cell_type": "code",
   "execution_count": null,
   "metadata": {},
   "outputs": [],
   "source": []
  }
 ],
 "metadata": {
  "jupytext": {
   "split_at_heading": true
  },
  "kernelspec": {
   "display_name": "Python 3",
   "language": "python",
   "name": "python3"
  },
  "language_info": {
   "codemirror_mode": {
    "name": "ipython",
    "version": 3
   },
   "file_extension": ".py",
   "mimetype": "text/x-python",
   "name": "python",
   "nbconvert_exporter": "python",
   "pygments_lexer": "ipython3",
   "version": "3.8.5"
  }
 },
 "nbformat": 4,
 "nbformat_minor": 4
}
