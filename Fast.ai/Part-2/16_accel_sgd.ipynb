{
 "cells": [
  {
   "cell_type": "code",
   "execution_count": 1,
   "metadata": {},
   "outputs": [],
   "source": [
    "#hide\n",
    "from fastbook import *"
   ]
  },
  {
   "cell_type": "markdown",
   "metadata": {},
   "source": [
    "In the previous chapter we learnt about creating custom heads and bodies for neural architectures for\n",
    "different tasks in NLP,Computer vision,tabular module and collaborative filtering.We also learnt about\n",
    "the steps to reduce overfitting in the model.In this chapter we will be exploring in detailed about\n",
    "the training process and the optimizers mainly."
   ]
  },
  {
   "cell_type": "markdown",
   "metadata": {},
   "source": [
    "# The Training Process"
   ]
  },
  {
   "cell_type": "markdown",
   "metadata": {},
   "source": [
    "Optimizers make up a very important part of the training process.In the stochastic gradient descent,\n",
    "data is passed in mini-batches to the model.The difference between targets and predictions are\n",
    "calculated using the loss function and then the gradients are calculated for each step which are then\n",
    "used to update the weights using the following equation:-\n",
    "\n",
    "    weight_up=weight-(lr X gradient)\n",
    "\n",
    "In the previous chapters we have implemented this also in scratch and we also used PyTorch's nn.SGD \n",
    "class for implementing SGD.This chapter we would be building some more optimizers like SGD.If there\n",
    "is any change in the training loop,we would add some callbacks to the code using fastai.Thus we would\n",
    "also be learning about fastai's callback systems.\n",
    "\n",
    "To start with we would begin with the basic SGD and then discuss further optimizers."
   ]
  },
  {
   "cell_type": "markdown",
   "metadata": {},
   "source": [
    "## Establishing a Baseline"
   ]
  },
  {
   "cell_type": "markdown",
   "metadata": {},
   "source": [
    "We would be training a baseline model using basic SGD and then we would implement a model using \n",
    "fastai's default optimizer and compare both.We would be using the Imagenette data we used earlier in\n",
    "the Resnet chapter."
   ]
  },
  {
   "cell_type": "markdown",
   "metadata": {},
   "source": [
    "First we build a model which would use fastai's default optimizer.We define separate functions to\n",
    "create DataBlock and get dataloaders object using get_data function.\"get_learner\" is used for creating\n",
    "learner for training the model.Then we would fit our model for few epochs and at a suitable learning \n",
    "rate."
   ]
  },
  {
   "cell_type": "markdown",
   "metadata": {},
   "source": [
    "\"__get_data__\" function for getting dataloaders.Create DataBlock first through which we pass the \n",
    "blocks for input(Image Block) and output(CategoryBlock),splitter function for training and validation\n",
    "split,get the labels using the parent folder name.We pass the url for the dataset,the presize for\n",
    "resizing the image to larger size before batching and resize the size to crop the image after batching\n",
    ".Thus in item_tfms resize the image to large size and in batch_tfms we pass some aug_transforms which\n",
    "do random cropping of the image followed by batch normalization.Next we create the dataloaders using\n",
    "the dataloaders method and a batch size of 128."
   ]
  },
  {
   "cell_type": "code",
   "execution_count": 6,
   "metadata": {},
   "outputs": [],
   "source": [
    "#Function to get dataloaders\n",
    "def get_data(url, presize, resize):#url for the dataset,resize before batching,size after batching\n",
    "    path = untar_data(url)#download and extract data\n",
    "    return DataBlock(#Input Block,output block\n",
    "        blocks=(ImageBlock, CategoryBlock), get_items=get_image_files, #get image files\n",
    "        splitter=GrandparentSplitter(valid_name='val'),#splitter for training,validation split\n",
    "        get_y=parent_label, item_tfms=Resize(presize),#resizing to bigger size\n",
    "        batch_tfms=[*aug_transforms(min_scale=0.5, size=resize),#augmentation transforms\n",
    "                    Normalize.from_stats(*imagenet_stats)],#Batch normalization\n",
    "    ).dataloaders(path, bs=128,num_workers=0)#creating dataloaders"
   ]
  },
  {
   "cell_type": "markdown",
   "metadata": {},
   "source": [
    "After defining the function to get the dataloaders we call the \"get_data\" function through which we \n",
    "pass the url,presizing size and the resizing size and store the dataloaders in dls."
   ]
  },
  {
   "cell_type": "code",
   "execution_count": 7,
   "metadata": {},
   "outputs": [],
   "source": [
    "#get dataloaders \n",
    "dls = get_data(URLs.IMAGENETTE_160, 160, 128)#url,presizing size,resizing size"
   ]
  },
  {
   "cell_type": "markdown",
   "metadata": {},
   "source": [
    "Next we define a get_learner function to get the learner and pass any number of arguments.Through the\n",
    "learner we pass the dataloaders,the model architecture,without pretraining so pretrained=False and \n",
    "accuracy as metrics and other arguments which are passed through the function."
   ]
  },
  {
   "cell_type": "code",
   "execution_count": 8,
   "metadata": {},
   "outputs": [],
   "source": [
    "#function to get the learner \n",
    "def get_learner(**kwargs):#dataloaders,model architecture,pretrained=False,accuracy as metrics\n",
    "    return cnn_learner(dls, resnet34, pretrained=False,\n",
    "                    metrics=accuracy, **kwargs).to_fp16()"
   ]
  },
  {
   "cell_type": "markdown",
   "metadata": {},
   "source": [
    "Next we get the learner by calling the get_learner function and then train the model using fastai's \n",
    "default optimizer and fit_one_cycle method for 3 epochs and a learning rate of 3 X 10^-3."
   ]
  },
  {
   "cell_type": "code",
   "execution_count": 9,
   "metadata": {},
   "outputs": [
    {
     "data": {
      "text/html": [
       "<table border=\"1\" class=\"dataframe\">\n",
       "  <thead>\n",
       "    <tr style=\"text-align: left;\">\n",
       "      <th>epoch</th>\n",
       "      <th>train_loss</th>\n",
       "      <th>valid_loss</th>\n",
       "      <th>accuracy</th>\n",
       "      <th>time</th>\n",
       "    </tr>\n",
       "  </thead>\n",
       "  <tbody>\n",
       "    <tr>\n",
       "      <td>0</td>\n",
       "      <td>2.548572</td>\n",
       "      <td>1.871270</td>\n",
       "      <td>0.405605</td>\n",
       "      <td>03:09</td>\n",
       "    </tr>\n",
       "    <tr>\n",
       "      <td>1</td>\n",
       "      <td>1.878169</td>\n",
       "      <td>1.669986</td>\n",
       "      <td>0.455287</td>\n",
       "      <td>03:03</td>\n",
       "    </tr>\n",
       "    <tr>\n",
       "      <td>2</td>\n",
       "      <td>1.455472</td>\n",
       "      <td>1.165345</td>\n",
       "      <td>0.621911</td>\n",
       "      <td>03:04</td>\n",
       "    </tr>\n",
       "  </tbody>\n",
       "</table>"
      ],
      "text/plain": [
       "<IPython.core.display.HTML object>"
      ]
     },
     "metadata": {},
     "output_type": "display_data"
    }
   ],
   "source": [
    "#training the model using fastai's default optimizer\n",
    "learn = get_learner()\n",
    "learn.fit_one_cycle(3, 0.003)"
   ]
  },
  {
   "cell_type": "markdown",
   "metadata": {},
   "source": [
    "We get an accuracy of 62% using fastai's default optimizer.Next we can get the learner using plain \n",
    "SGD optimizer by passing opt_func=SGD through the get_learner function."
   ]
  },
  {
   "cell_type": "code",
   "execution_count": 10,
   "metadata": {},
   "outputs": [],
   "source": [
    "#get the learner for training using SGD\n",
    "learn = get_learner(opt_func=SGD)"
   ]
  },
  {
   "cell_type": "markdown",
   "metadata": {},
   "source": [
    "We use fastai's learning rate finder \"lr_find\" to select the optimal learning rate by plotting loss vs\n",
    "learning rate."
   ]
  },
  {
   "cell_type": "code",
   "execution_count": 11,
   "metadata": {},
   "outputs": [
    {
     "data": {
      "text/html": [],
      "text/plain": [
       "<IPython.core.display.HTML object>"
      ]
     },
     "metadata": {},
     "output_type": "display_data"
    },
    {
     "data": {
      "text/plain": [
       "SuggestedLRs(lr_min=0.014454397559165954, lr_steep=1.737800812406931e-05)"
      ]
     },
     "execution_count": 11,
     "metadata": {},
     "output_type": "execute_result"
    },
    {
     "data": {
      "image/png": "[encoded data removed]",
      "text/plain": [
       "<Figure size 432x288 with 1 Axes>"
      ]
     },
     "metadata": {
      "needs_background": "light"
     },
     "output_type": "display_data"
    }
   ],
   "source": [
    "#Finding learning rate\n",
    "learn.lr_find()"
   ]
  },
  {
   "cell_type": "markdown",
   "metadata": {},
   "source": [
    "The plot shows that the loss is constant for high learning rates also and there is a sharp increase at\n",
    "lr=9 X 10^-1.Thus we would be choosing a high learning rate of around 0.03 which is optimal."
   ]
  },
  {
   "cell_type": "markdown",
   "metadata": {},
   "source": [
    "Since we are already using a high learning rate to train the model.So further speeding it up is not a \n",
    "good idea.Passing momentum while training model is a good thing to do to speed up the training.Fastai \n",
    "does this by default so it has to be turned off by passing moms(momentums) as (0,-0,0).Next we train \n",
    "the model by passing the epochs,the learning rate and the momentums=0,0,0 to turn them off."
   ]
  },
  {
   "cell_type": "code",
   "execution_count": 12,
   "metadata": {},
   "outputs": [
    {
     "data": {
      "text/html": [
       "<table border=\"1\" class=\"dataframe\">\n",
       "  <thead>\n",
       "    <tr style=\"text-align: left;\">\n",
       "      <th>epoch</th>\n",
       "      <th>train_loss</th>\n",
       "      <th>valid_loss</th>\n",
       "      <th>accuracy</th>\n",
       "      <th>time</th>\n",
       "    </tr>\n",
       "  </thead>\n",
       "  <tbody>\n",
       "    <tr>\n",
       "      <td>0</td>\n",
       "      <td>2.914951</td>\n",
       "      <td>2.051403</td>\n",
       "      <td>0.279236</td>\n",
       "      <td>02:59</td>\n",
       "    </tr>\n",
       "    <tr>\n",
       "      <td>1</td>\n",
       "      <td>2.392031</td>\n",
       "      <td>1.800109</td>\n",
       "      <td>0.387771</td>\n",
       "      <td>02:57</td>\n",
       "    </tr>\n",
       "    <tr>\n",
       "      <td>2</td>\n",
       "      <td>2.133406</td>\n",
       "      <td>1.615982</td>\n",
       "      <td>0.445860</td>\n",
       "      <td>02:58</td>\n",
       "    </tr>\n",
       "  </tbody>\n",
       "</table>"
      ],
      "text/plain": [
       "<IPython.core.display.HTML object>"
      ]
     },
     "metadata": {},
     "output_type": "display_data"
    }
   ],
   "source": [
    "#training the model for 3 epochs and a faster learning rate and turning off the momentum\n",
    "learn.fit_one_cycle(3, 0.03, moms=(0,0,0))"
   ]
  },
  {
   "cell_type": "markdown",
   "metadata": {},
   "source": [
    "This optimizer seems pretty slow thus we try some fast optimizers in the next part of the chapter. "
   ]
  },
  {
   "cell_type": "markdown",
   "metadata": {},
   "source": [
    "## A Generic Optimizer"
   ]
  },
  {
   "cell_type": "markdown",
   "metadata": {},
   "source": [
    "To create a fast optimizer,first we build a flexible basic optimizer.We cannot build such foundation\n",
    "using any other library,thus we would gradually improve the optimizer using pieces of codes known as\n",
    "optimizer callbacks.These codes help in modifying the \"__step__\" task in an optimizer.They can be \n",
    "called using PyTorch's Optimizer class.The two main methods of stepping the gradients and zero_grad\n",
    "are defined below:-\n",
    "   ```python\n",
    "def zero_grad(self):\n",
    "    for p,*_ in self.all_params():\n",
    "        p.grad.detach_()\n",
    "        p.grad.zero_()\n",
    "\n",
    "def step(self):\n",
    "    for p,pg,state,hyper in self.all_params():\n",
    "        for cb in self.cbs:\n",
    "            state = _update(state, cb(p, **{**state, **hyper}))\n",
    "        self.state[p] = state\n",
    "```"
   ]
  },
  {
   "cell_type": "markdown",
   "metadata": {},
   "source": [
    "We have created a SGD optimizer from scratch while training a model for MNIST dataset.\"Zero_grad\" \n",
    "method iterates through all the parameters of the model and sets the gradients to zero.Using the \n",
    "detach method it removes any previous gradient history to save time and memory.\n",
    "\n",
    "In the step method it loops through all the parameters first and inside the loop through all the \n",
    "callbacks to update the parameters.The update function just updates the parameters if the callbacks\n",
    "return anything.Also we need to call some other functions in the Optimizer to update the parameters.\n",
    "It cannot do anything on its own.Let's see how to add a callback to the Optimizer.\n",
    "\n",
    "In the below code cell we have defined a function \"__sgd_cb__\" for callback it multiplies the gradient\n",
    "by learning rate(-lr) and then adds it to the parameter(p.data.add_).This is one of the syntax in\n",
    "PyTorch that if two parameters are passed through Tensor.add_ they are multiplied first and then \n",
    "addition occurs."
   ]
  },
  {
   "cell_type": "code",
   "execution_count": 13,
   "metadata": {},
   "outputs": [],
   "source": [
    "#callback to update the parameters\n",
    "def sgd_cb(p, lr, **kwargs):#parameters,learning rate passed\n",
    "    p.data.add_(-lr, p.grad.data)#lr and p.grad.data(gradient) multiplied and added to p.data"
   ]
  },
  {
   "cell_type": "markdown",
   "metadata": {},
   "source": [
    "We then create an optimizer by creating a  partial function for Optimizer with cbs(callback) parameter\n",
    "as the sgd_cb.After this now we can create our learner by calling get_learner function and passing the\n",
    "partial function we created as the optimizer.Next we use fit method to train the model for 3 epochs \n",
    "and 0.03 learning rate."
   ]
  },
  {
   "cell_type": "code",
   "execution_count": 14,
   "metadata": {},
   "outputs": [],
   "source": [
    "#passing the callback through optimizer using partial function\n",
    "opt_func = partial(Optimizer, cbs=[sgd_cb])"
   ]
  },
  {
   "cell_type": "markdown",
   "metadata": {},
   "source": [
    "We get the learner and train the model."
   ]
  },
  {
   "cell_type": "code",
   "execution_count": 15,
   "metadata": {},
   "outputs": [
    {
     "data": {
      "text/html": [
       "<table border=\"1\" class=\"dataframe\">\n",
       "  <thead>\n",
       "    <tr style=\"text-align: left;\">\n",
       "      <th>epoch</th>\n",
       "      <th>train_loss</th>\n",
       "      <th>valid_loss</th>\n",
       "      <th>accuracy</th>\n",
       "      <th>time</th>\n",
       "    </tr>\n",
       "  </thead>\n",
       "  <tbody>\n",
       "    <tr>\n",
       "      <td>0</td>\n",
       "      <td>2.689246</td>\n",
       "      <td>2.059260</td>\n",
       "      <td>0.302930</td>\n",
       "      <td>02:54</td>\n",
       "    </tr>\n",
       "    <tr>\n",
       "      <td>1</td>\n",
       "      <td>2.194534</td>\n",
       "      <td>1.752509</td>\n",
       "      <td>0.403567</td>\n",
       "      <td>02:59</td>\n",
       "    </tr>\n",
       "    <tr>\n",
       "      <td>2</td>\n",
       "      <td>1.915995</td>\n",
       "      <td>1.658461</td>\n",
       "      <td>0.441529</td>\n",
       "      <td>02:58</td>\n",
       "    </tr>\n",
       "  </tbody>\n",
       "</table>"
      ],
      "text/plain": [
       "<IPython.core.display.HTML object>"
      ]
     },
     "metadata": {},
     "output_type": "display_data"
    }
   ],
   "source": [
    "#get the learner and train the model\n",
    "learn = get_learner(opt_func=opt_func)#passing opt_func as the optimizer\n",
    "learn.fit(3, 0.03)"
   ]
  },
  {
   "cell_type": "markdown",
   "metadata": {},
   "source": [
    "Though this is not giving very good accuracy but still it works.Thus we learnt here how can we define\n",
    "an optimizer.Let's learn about momentum now.."
   ]
  },
  {
   "cell_type": "markdown",
   "metadata": {},
   "source": [
    "## Momentum"
   ]
  },
  {
   "cell_type": "markdown",
   "metadata": {},
   "source": [
    "We had mentioned about \"__momentum__\" in the previous chapter also.We will get into the technical\n",
    "meaning later.Lets first learn about its physical meaning.In SGD we are trying to minimise the \n",
    "loss function and thus finding the optimum set of parameters using gradients.So,if we are \n",
    "supposedly standing at the top of mountain and we go down by taking small steps in the direction\n",
    "of decreasing slope.Suppose ball starts rolling down on its own,it doesn't necessarily follow the\n",
    "direction of gradient as it has momentum.In physics momentum is defined as the product of mass \n",
    "and velocity.So if velocity is kept constant,a ball with more momentum has more mass and is thus \n",
    "heavy will skip small holes and bumps and will reach the minimum(lowest) point of the mountain.\n",
    "A light ball with less momentum on the other hand may get stuck in a narrow opening.\n",
    "\n",
    "To apply this concept in SGD,we use a moving average while updating the weights.In normal SGD,\n",
    "we update weights using the following equation:\n",
    "    \n",
    "weight = weight-lr*gradients\n",
    "\n",
    "When we apply moving average here to weights it is calculated as:-\n",
    "    \n",
    "    Weight.avg=beta X weight.avg +(beta-1) X weight.grad\n",
    "    \n",
    "    new_weight=weight-lr X weight.avg\n",
    "    \n",
    "Beta is the parameter which indicates the magnitude of the momentum we should use.If beta becomes\n",
    "0,the equation is like, \"__weight_avg=weight_grad__\",this is the normal SGD.In this case there is\n",
    "no momentum.But as it increases and becomes close to 1,then there in momentum and the next step\n",
    "depends on the average of the previous steps.\"Weight.avg\" means that moving average is saved at \n",
    "every step.\n",
    "\n",
    "Next we would create a set of noisy data and plot momentum and gradients together in the same\n",
    "plot.We would notice how momentum changes if the gradients are changed and affected by noise."
   ]
  },
  {
   "cell_type": "markdown",
   "metadata": {},
   "source": [
    "From the plots we can observe that the gradients increase,decrease but momentum is not affected \n",
    "by noisy data.It follows the general trend."
   ]
  },
  {
   "cell_type": "code",
   "execution_count": 16,
   "metadata": {},
   "outputs": [
    {
     "data": {
      "image/png": "[encoded data removed]",
      "text/plain": [
       "<Figure size 432x288 with 1 Axes>"
      ]
     },
     "metadata": {
      "needs_background": "light"
     },
     "output_type": "display_data"
    }
   ],
   "source": [
    "#Example of momentum\n",
    "x = np.linspace(-4, 4, 100)#array of 100 numbers between -4 and 4(independent variable)\n",
    "y = 1 - (x/3) ** 2#the dependent variable(y=1-x^2/9)quadratic relationship between both\n",
    "x1 = x + np.random.randn(100) * 0.1#adding some noise\n",
    "y1 = y + np.random.randn(100) * 0.1#adding some noise\n",
    "plt.scatter(x1,y1)#plotting the noisy data\n",
    "idx = x1.argsort()#sorting the input\n",
    "beta,avg,res = 0.7,0,[]#initializing the beta,the moving average and the array for storing the\n",
    "#dependent variable\n",
    "for i in idx:#looping through array index\n",
    "    avg = beta * avg + (1-beta) * y1[i]#calculating moving average\n",
    "    res.append(avg/(1-beta**(i+1)))#the dependent variable\n",
    "plt.plot(x1[idx],np.array(res), color='red');#plotting the moving average with the input"
   ]
  },
  {
   "cell_type": "markdown",
   "metadata": {},
   "source": [
    "If the loss function has a deep curve then,momentum SGD works well instead of the normal SGD\n",
    "which would just keep bouncing from one direction to another.While momentum SGD converges \n",
    "smoothly.As mentioned before beta indicates the momentum and lies between 0 and 1.A small beta \n",
    "means the momentum is small and the results would be similar to the actual gradients and when \n",
    "beta increases,moving average of the weights is used to update the weights and thus the next step\n",
    "depends on the average.\n",
    "\n",
    "When value of beta is close to 1,since it is acclerated so we won't know when the gradient \n",
    "changes direction or is stuck within local minima.\n",
    "Whenever we test our model with some new input point which it hasn't seen before it looks for a \n",
    "point in training set which is similar to it but not identical.So it will end up at a point on \n",
    "the loss function which would be close to the minimum but not exactly a minima.So the model would\n",
    "have a wide minima and nearby points in the input would have same loss.\n",
    "\n",
    "Below code cell shows the changes in the loss as we vary the momentum that is beta."
   ]
  },
  {
   "cell_type": "code",
   "execution_count": 17,
   "metadata": {},
   "outputs": [
    {
     "data": {
      "image/png": "[encoded data removed]",
      "text/plain": [
       "<Figure size 864x576 with 4 Axes>"
      ]
     },
     "metadata": {
      "needs_background": "light"
     },
     "output_type": "display_data"
    }
   ],
   "source": [
    "#Changes in loss with variation in momentum\n",
    "x = np.linspace(-4, 4, 100)#array for input variable\n",
    "y = 1 - (x/3) ** 2#array for dependent variable\n",
    "x1 = x + np.random.randn(100) * 0.1#adding noise\n",
    "y1 = y + np.random.randn(100) * 0.1#adding noise\n",
    "_,axs = plt.subplots(2,2, figsize=(12,8))#axes for the different plots\n",
    "betas = [0.5,0.7,0.9,0.99]#varying values for beta\n",
    "idx = x1.argsort()#sorting the input values\n",
    "for beta,ax in zip(betas, axs.flatten()):#looping through the beta values\n",
    "    ax.scatter(x1,y1)#Plot original data for every value of beta\n",
    "    avg,res = 0,[]#initialise the moving average and the array for storing averahe\n",
    "    for i in idx:\n",
    "        avg = beta * avg + (1-beta) * y1[i]#calculate average for input at every index\n",
    "        res.append(avg)#/(1-beta**(i+1)))#store it in array\n",
    "    ax.plot(x1[idx],np.array(res), color='red');#plot the average against the input\n",
    "    ax.set_title(f'beta={beta}')#set the beta value as heading for every plot"
   ]
  },
  {
   "cell_type": "markdown",
   "metadata": {},
   "source": [
    "Very high values of beta results in the disturbance in the gradient trend and it doesn't go in \n",
    "the right direction.0.9 is the optimal value of beta which is very often used with SGD.\n",
    "\n",
    "fit_one_cycle method which we often use to train our model by default uses a beta value of 0.95\n",
    "then changes it to 0.85 with time and then again modifies it to 0.95 by the end of the training\n",
    "process.We would train our model this time with momentum combined with SGD.\n",
    "\n",
    "To add momentum to the optimizer the moving average at every step should be stored which is done\n",
    "using a callback only.This callback returns a \"__dict__\",which updates the optimizer state and is\n",
    "passed back to the optimizer in the next step.Thus the function callback \"__average_grad__\" keeps\n",
    " the record of the gradient average.We pass the weight,momentum and other parameters if any are \n",
    "there.It returns the dict and keeps record of the gradient average in parameter called \n",
    "\"__grad_avg__\"."
   ]
  },
  {
   "cell_type": "code",
   "execution_count": 18,
   "metadata": {},
   "outputs": [],
   "source": [
    "#Average_grad function for keeping record of the grad_avg\n",
    "def average_grad(p, mom, grad_avg=None, **kwargs):#pass momentum,gradient through the function\n",
    "    if grad_avg is None:#if grad_avg not initialized\n",
    "        grad_avg = torch.zeros_like(p.grad.data)#initialize it by creating zero matrix of shape \n",
    "        #similar to the gradient matrix\n",
    "    return {'grad_avg': grad_avg*mom + p.grad.data}#return the grad_avg value\n",
    "                                              #grad_avg=grad_avg X momentum + gradient"
   ]
  },
  {
   "cell_type": "markdown",
   "metadata": {},
   "source": [
    "To update the weight we use the momentum_step function callback through which we pass the \n",
    "gradient,learning rate and the moving gradient_average.It returns the learning rate multiplied by\n",
    "gradient average and added to the parameter value."
   ]
  },
  {
   "cell_type": "code",
   "execution_count": 19,
   "metadata": {},
   "outputs": [],
   "source": [
    "#function callback for updating the parameter value\n",
    "def momentum_step(p, lr, grad_avg, **kwargs): #parameter,learning rate,gradient average passed\n",
    "    p.data.add_(-lr, grad_avg)#equivalent to p - lr X gradient_avg"
   ]
  },
  {
   "cell_type": "markdown",
   "metadata": {},
   "source": [
    "Next we define the partial function for optimizer with callbacks to average_grad and momentum_\n",
    "step with a momentum of 0.9.We name this function \"opt_func\"."
   ]
  },
  {
   "cell_type": "code",
   "execution_count": 20,
   "metadata": {},
   "outputs": [],
   "source": [
    "opt_func = partial(Optimizer, cbs=[average_grad,momentum_step], mom=0.9)"
   ]
  },
  {
   "cell_type": "markdown",
   "metadata": {},
   "source": [
    "Next we call the get_learner function and pass \"opt_func\" as the optimizer and get the learner.\n",
    "The learner will automatically pass the momentum and learning rate so we directly train the model\n",
    "using fit_one_cycle method for 3 epochs and at a learning rate of 0.03."
   ]
  },
  {
   "cell_type": "code",
   "execution_count": 21,
   "metadata": {},
   "outputs": [
    {
     "data": {
      "text/html": [
       "<table border=\"1\" class=\"dataframe\">\n",
       "  <thead>\n",
       "    <tr style=\"text-align: left;\">\n",
       "      <th>epoch</th>\n",
       "      <th>train_loss</th>\n",
       "      <th>valid_loss</th>\n",
       "      <th>accuracy</th>\n",
       "      <th>time</th>\n",
       "    </tr>\n",
       "  </thead>\n",
       "  <tbody>\n",
       "    <tr>\n",
       "      <td>0</td>\n",
       "      <td>2.803135</td>\n",
       "      <td>4.395226</td>\n",
       "      <td>0.210701</td>\n",
       "      <td>02:58</td>\n",
       "    </tr>\n",
       "    <tr>\n",
       "      <td>1</td>\n",
       "      <td>2.437195</td>\n",
       "      <td>1.852835</td>\n",
       "      <td>0.360255</td>\n",
       "      <td>02:59</td>\n",
       "    </tr>\n",
       "    <tr>\n",
       "      <td>2</td>\n",
       "      <td>2.162518</td>\n",
       "      <td>1.804546</td>\n",
       "      <td>0.441783</td>\n",
       "      <td>02:59</td>\n",
       "    </tr>\n",
       "  </tbody>\n",
       "</table>"
      ],
      "text/plain": [
       "<IPython.core.display.HTML object>"
      ]
     },
     "metadata": {},
     "output_type": "display_data"
    }
   ],
   "source": [
    "#get the learner by calling get_learner function\n",
    "learn = get_learner(opt_func=opt_func)\n",
    "learn.fit_one_cycle(3, 0.03)#train the model for 3 epochs at a learning rate of 0.03."
   ]
  },
  {
   "cell_type": "markdown",
   "metadata": {},
   "source": [
    "We plot the hyperparameters ,learning rate and momentum against the number of epochs using the\n",
    "learn.recorder.plot_sched() function as it keeps the record of how the parameters change."
   ]
  },
  {
   "cell_type": "code",
   "execution_count": 22,
   "metadata": {},
   "outputs": [
    {
     "data": {
      "image/png": "[encoded data removed]",
      "text/plain": [
       "<Figure size 864x288 with 2 Axes>"
      ]
     },
     "metadata": {
      "needs_background": "light"
     },
     "output_type": "display_data"
    }
   ],
   "source": [
    "#plotting the learning rate and momentum with the number of epochs\n",
    "learn.recorder.plot_sched()"
   ]
  },
  {
   "cell_type": "markdown",
   "metadata": {},
   "source": [
    "After adding momentum to the custom optimizer the accuracy doesn't improve.So we would try some\n",
    "other optimizer functions now.."
   ]
  },
  {
   "cell_type": "markdown",
   "metadata": {},
   "source": [
    "## RMSProp"
   ]
  },
  {
   "cell_type": "markdown",
   "metadata": {},
   "source": [
    "RMSProp is an another optimization algorithm introduced by Geoff Hilton in one of his Coursera\n",
    "courses.We should be clear with SGD and SGD with momentum before understanding RMSProp.It's an \n",
    "another type of SGD and differs from it in such a way that it uses adaptive learning rate that is\n",
    "different learning rate for every parameter all of which are controlled by a global learning rate\n",
    ".This way,training can be much faster as instead of same learning rate for all parameters,we \n",
    "train those parameters at higher one which change a lot and those at a lower one which do not."
   ]
  },
  {
   "cell_type": "markdown",
   "metadata": {},
   "source": [
    "That is fine but how do we classify the weights as the ones which require higher learning rate \n",
    "and which don't.The gradients though can give an idea about that.If the gradient is nearly zero\n",
    "for a long time means the loss is constant and the learning rate should be high.If the gradients\n",
    "are changing often then they may diverge soon and therefore we should select a lower learning\n",
    "rate for such parameters.If we directly take the mean of the gradients we cannot know about their\n",
    "variation because average of high positive and high negative number would result in zero.So we \n",
    "would either take the mean of the absolute values or mean of the squared values and then square\n",
    "root of the mean.\n",
    "\n",
    "Then we would follow the same process to determine the moving average of the gradients but this\n",
    "time squared gradients.We would calculate the moving average in the same way we did earlier using\n",
    "beta which indicates momentum.The only difference would be that instead of the p.grad that is \n",
    "gradient we would be having the squared value of the gradient.Also we would update the weight by \n",
    "dividing the current gradient by the square root of the moving average.This way the effective \n",
    "learning rate is higher if the average is low and vice-versa.The equations for calculating moving\n",
    "average as well as the new weights are as follows:-\n",
    "    \n",
    "    w_wquare_avg=(alpha X w_square_avg) + (1-alpha) X (w.grad ^2)\n",
    "    \n",
    "    new_weight=weight-lr X weight.grad/math.sqrt(w.average_avg+eps)\n",
    "\n",
    "Instead of beta we have alpha here which has a default value of 0.99.The epsilon stands for \n",
    "numerical stability.We add this to the Optimizer using the function callbacks as previously we\n",
    "had done.For keeping record of average_square_gradient we define the same function \n",
    "\"__average_sqr_grad__\" which takes parameter,momentum(sqr_mom) as arguments and calculated the \n",
    "square_avg and keeps a record of it by returning it as \"__sqr_avg__\" in the form of dict."
   ]
  },
  {
   "cell_type": "code",
   "execution_count": 23,
   "metadata": {},
   "outputs": [],
   "source": [
    "#function callback for calculating squared average gradient\n",
    "def average_sqr_grad(p, sqr_mom, sqr_avg=None, **kwargs):#parameter,momentum,sqr_avg passed\n",
    "    if sqr_avg is None: #if sqr_avg is not initialized\n",
    "        sqr_avg = torch.zeros_like(p.grad.data)#initialize it by creating a zero matrix with \n",
    "        #similar shape\n",
    "    return {'sqr_avg': sqr_avg*sqr_mom + p.grad.data**2}#return sqr_avg as dict"
   ]
  },
  {
   "cell_type": "markdown",
   "metadata": {},
   "source": [
    "In the same way we define a callback for stepping the weights as \"__rms_prop_step__\".We pass the\n",
    "parameter(p),the learning rate(lr),the squared average(sqr_avg),epsilon(eps) through the function\n",
    ".It adds epsilon(eps) to the average(sqr_avg) and then takes square root of the number.The number\n",
    "is then stored in a different variable and gradient is divided by it and result is  multiplied by\n",
    "learning rate which is then added to weight.\n",
    "\n",
    "Next we define the optimization function by passing partial function for Optimizer and callbacks\n",
    "are passed as a list consisting of average_sqr_add and rms_prop_step and momentum(sqr_mom) and\n",
    "epsilon(eps) values are also passed."
   ]
  },
  {
   "cell_type": "code",
   "execution_count": 24,
   "metadata": {},
   "outputs": [],
   "source": [
    "#function for callback for updating the weights\n",
    "def rms_prop_step(p, lr, sqr_avg, eps, grad_avg=None, **kwargs):#parameter,learning rate,squared\n",
    "    #average,epsilon,gradient average\n",
    "    denom = sqr_avg.sqrt().add_(eps)#squared average added to epsilon and square root taken\n",
    "    p.data.addcdiv_(-lr, p.grad, denom)#equivalent to \n",
    "    #weight-lr X weight.grad/math.sqrt(w.average_avg+eps)\n",
    "\n",
    "opt_func = partial(Optimizer, cbs=[average_sqr_grad,rms_prop_step],#partial function for \n",
    "                   #optimizer ,callbacks passed,momentum,epsilon values passed\n",
    "                   sqr_mom=0.99, eps=1e-7)"
   ]
  },
  {
   "cell_type": "markdown",
   "metadata": {},
   "source": [
    "In the similar way we get the learner by calling the function get_learner and passing opt_func as\n",
    "the optimizer and then training the model for 3 epochs and the 0.003 learning rate as usual."
   ]
  },
  {
   "cell_type": "code",
   "execution_count": 25,
   "metadata": {},
   "outputs": [
    {
     "data": {
      "text/html": [
       "<table border=\"1\" class=\"dataframe\">\n",
       "  <thead>\n",
       "    <tr style=\"text-align: left;\">\n",
       "      <th>epoch</th>\n",
       "      <th>train_loss</th>\n",
       "      <th>valid_loss</th>\n",
       "      <th>accuracy</th>\n",
       "      <th>time</th>\n",
       "    </tr>\n",
       "  </thead>\n",
       "  <tbody>\n",
       "    <tr>\n",
       "      <td>0</td>\n",
       "      <td>2.710865</td>\n",
       "      <td>2.224867</td>\n",
       "      <td>0.289936</td>\n",
       "      <td>02:56</td>\n",
       "    </tr>\n",
       "    <tr>\n",
       "      <td>1</td>\n",
       "      <td>2.109964</td>\n",
       "      <td>1.563029</td>\n",
       "      <td>0.501656</td>\n",
       "      <td>02:26</td>\n",
       "    </tr>\n",
       "    <tr>\n",
       "      <td>2</td>\n",
       "      <td>1.835967</td>\n",
       "      <td>1.455885</td>\n",
       "      <td>0.547006</td>\n",
       "      <td>02:21</td>\n",
       "    </tr>\n",
       "  </tbody>\n",
       "</table>"
      ],
      "text/plain": [
       "<IPython.core.display.HTML object>"
      ]
     },
     "metadata": {},
     "output_type": "display_data"
    }
   ],
   "source": [
    "#get the learner by passing opt_func as optimizer\n",
    "learn = get_learner(opt_func=opt_func)\n",
    "learn.fit_one_cycle(3, 0.003)#training the model for 3 epochs"
   ]
  },
  {
   "cell_type": "markdown",
   "metadata": {},
   "source": [
    "The accuracy improves by 10% with RMSProp optimizer.Now we would learn about adam,fastai's \n",
    "default optimizer and how it combines RMSProp and SGD with momentum."
   ]
  },
  {
   "cell_type": "markdown",
   "metadata": {},
   "source": [
    "## Adam"
   ]
  },
  {
   "cell_type": "markdown",
   "metadata": {},
   "source": [
    "Adam combines the SGD with momentum and RMSProp together.Like SGD with momentum it uses moving \n",
    "average of gradients to decide the direction of the loss function and like RMSProp divides the \n",
    "gradient by the square root of the moving average of the squared gradients to give an adaptive\n",
    "learning rate as in RMSProp according to the nature of the gradients.(changing frequently or\n",
    "constant).\n",
    "\n",
    "Adam differs from RMSProp in the way moving average is computed.Takes the unbiased moving average\n",
    "as:-\n",
    "    \n",
    "    w.avg=beta X w.avg + (1-beta) X w.grad\n",
    "    \n",
    "    unbiased_avg=w.avg/(1-beta^(i+1))\n",
    "    \n",
    "for every ith iteration.1-beta^(i+1) ensures that the unbiased average acts like gradients at \n",
    "the beginings.Since beta is less than 1 and beta^i+1 becomes very small and thus denominator is\n",
    "very close to 1.Thus removing the bias from the weighed average.\n",
    "So combining all the steps we would get,\n",
    "     \n",
    "    w.avg=beta1 X w.avg + (1-beta1) X w.grad\n",
    "    \n",
    "    unbias_avg=w.avg/(1-beta1^(i+1))\n",
    "    \n",
    "    w.sqr_avg=beta2 X w.sqr_avg + (1-beta2) X (w.grad ^ 2)\n",
    "    \n",
    "    new_weight=weight - (lr X unbias_avg/sqrt(w.sqr_avg + eps))\n",
    "    \n",
    "For RMSProp,the values of eps is 10^-8 and beta1 and beta2 are 0.9 and 0.999 respectively.\n",
    "\n",
    "Now,fastai uses adam as the default optimizer as it speeds up the training process.We have two \n",
    "betas here.Beta1 is actually the momentum parameter passed with moms argument.The default eps \n",
    "value is 10^-5.Earlier we mentioned eps is used for numerical stability,but it is also used for \n",
    "controlling the value of the adjusted learning rate.If eps is set to 1 then the new learning rate\n",
    "can never be higher than the originally passed learning rate.\n",
    "\n",
    "In previous chapter we had also applied weight decay as a type of regularization where to prevent\n",
    "overfitting weights are multiplied by a number less than 1 leading to reduction in the value.\n",
    "This weight decay can be applied in different ways in different optimizers.Let's see how that \n",
    "differs in Adam and SGD."
   ]
  },
  {
   "cell_type": "markdown",
   "metadata": {},
   "source": [
    "# Decoupled Weight Decay"
   ]
  },
  {
   "cell_type": "markdown",
   "metadata": {},
   "source": [
    "Previously when we had applied weight decay we had passed a value in the argument \"wd\" in the \n",
    "fit_one_cycle call.If we talk in mathematical terms,it is equivalent to the following equation \n",
    "when weights are updated..\n",
    "     \n",
    "     new_weight=weight - lr X wd X weight - lr X weight.grad\n",
    "\n",
    "Here wd is the weight decay.Thus weight is decareased by a factor of lr X wd.It is also called \n",
    "the L2 Regularization because sum of squares of all the weights multiplied by learning rate is\n",
    "added to the loss.So the gradients are updated as:-This is actually the effective gradient which \n",
    "is then put in the above equation.\n",
    "    \n",
    "    weight.grad+=wd X weight\n",
    "\n",
    "So in SGD,both the above two equations are same.But this is true only for normal SGD.With other \n",
    "optimizers we studied such as SGD with momentum,RMSProp and the Adam the weight update step has\n",
    "other equations also involving the gradient.\n",
    "\n",
    "In a Research work on Decoupled Weight Decay Regularization it has been mentioned that Adam \n",
    "Optimizer and momentum with SGD use the first equation and that's why fastai uses it as default."
   ]
  },
  {
   "cell_type": "markdown",
   "metadata": {},
   "source": [
    "Optimizers play an important role in the training process.A basic training loop involves sending \n",
    "a batch of inputs to the model,loss computed using the labels and the outputs and calculating \n",
    "gradients and thus updating the weights using those gradients.This happens in order and repeated \n",
    "many times.Now most of the times we do not write the code from scratch and we happen to use \n",
    "direct modules or functions for the purpose.In that case if we want to introduce some changes in \n",
    "the training loop,then we cannot directly change the code in the library.In such conditions,\n",
    "PyTorch/fastai provides some callbacks using which we can introduce any tweaks in different \n",
    "blocks.Let's learn more about callbacks..."
   ]
  },
  {
   "cell_type": "markdown",
   "metadata": {},
   "source": [
    "## Callbacks"
   ]
  },
  {
   "cell_type": "markdown",
   "metadata": {},
   "source": [
    "Most of the times our models face the problem of overfitting or high memory consumption and then \n",
    "we need to tweak things a little bit.Some of the changes we introduced in last few chapters are\n",
    "using Mixup,fp_16 training,resetting the model after every epoch in RNN etc.We can also do some\n",
    "changes in the training loop.\n",
    "\n",
    "Let's see the basic training loop for a single epoch:-\n",
    "\n",
    "```python\n",
    "for xb,yb in dl:#looping through every batch in dataloader\n",
    "    loss = loss_func(model(xb), yb)#calculate loss by passing the predictions and the targets\n",
    "    loss.backward()#calculate gradient\n",
    "    opt.step()#update the weights\n",
    "    opt.zero_grad()#zero_grad the optimizer(to avoid adding of gradients)\n",
    "```\n",
    "Below figure also explains the most basic training loop for every deep learning model:-<img alt=\"Basic training loop\" width=\"300\" caption=\"Basic training loop\" id=\"basic_loop\" src=\"images/att_00048.png\">\n",
    "    "
   ]
  },
  {
   "cell_type": "markdown",
   "metadata": {},
   "source": [
    "Normally to do any modifications in training loop,most of the people generally copy the code of \n",
    "the current loop and then add some code to it to change it.However it has many disadvantages...\n",
    "\n",
    "If we change the code of the training loop then it's not compulsory that it will meet our \n",
    "requirements.Many modifications can be made to the training loop which includes thousands of \n",
    "combinations.Every training loop uses different environment,naming conventions and requires data \n",
    "to be in different formats.\n",
    "\n",
    "The code must be added to training loop in a consistent way.Thus callback is a way to do this.A\n",
    "callback is a code which we add into an another code at a particular location.Callbacks are very\n",
    "often used in training loops.Previously we could insert code only at few specific places,and \n",
    "callbacks were not flexible enough.\n",
    "\n",
    "A callback should be flexible and effecient enough that it should be able to read every line of \n",
    "code in training loop and tweak them accordingly as needed.It should be able to execute the full\n",
    "training loop at the end of a batch,epoch or even if the loop terminates.Fastai provides all \n",
    "these functionalities in a single library."
   ]
  },
  {
   "cell_type": "markdown",
   "metadata": {},
   "source": [
    "Using fastai callback system we can modify any training loop an incoming user request.We do not\n",
    "change the training loop though,the callbacks are added.Below figure shows some of the callbacks\n",
    "<img alt=\"Some fastai callbacks\" width=\"500\" caption=\"Some fastai callbacks\" id=\"some_cbs\" src=\"images/att_00050.png\">"
   ]
  },
  {
   "cell_type": "markdown",
   "metadata": {},
   "source": [
    "Callbacks are advantageous in such a way that we can implement any functionality we require and \n",
    "add or remove anything.We need to decide the order of the list of callback functions to be passed\n",
    " to the fit function.Let's learn how do we create a Callback:-"
   ]
  },
  {
   "cell_type": "markdown",
   "metadata": {},
   "source": [
    "# Creating a Callback"
   ]
  },
  {
   "cell_type": "markdown",
   "metadata": {},
   "source": [
    "Whenever we want to create any callback,there are some basic events which we should know.They are\n",
    ":-\n",
    "\n",
    "1.\"__begin_fit__\":-This is called before doing anything;"
   ]
  },
  {
   "cell_type": "markdown",
   "metadata": {},
   "source": [
    "2.\"__begin_epoch__\":-This is called at the beginning of every epoch.Used for anything to be set \n",
    "    before any epoch."
   ]
  },
  {
   "cell_type": "markdown",
   "metadata": {},
   "source": [
    "3.\"__begin_train__\":-It is called at the beginning of any training of an epoch."
   ]
  },
  {
   "cell_type": "markdown",
   "metadata": {},
   "source": [
    "4.\"__begin_batch__\":-Called at the beginning of the batch when just the segregation into batch \n",
    "    had happened.This is used for applying anything which is required to do for whole batch such\n",
    "as changing input/output before they are supplied to model.For eg.Mixup."
   ]
  },
  {
   "cell_type": "markdown",
   "metadata": {},
   "source": [
    "5.\"__After_pred__\":-It is called after model predicts the output.It is used to transform the \n",
    "    output before it is calculated in loss function.\n",
    "    \n"
   ]
  },
  {
   "cell_type": "markdown",
   "metadata": {},
   "source": [
    "6.\"__After_loss__\":-It is called after the loss calculation but before backpropogation.Also used\n",
    "    to add penalty,(Activation Regularization,Temporal Activation regularization)"
   ]
  },
  {
   "cell_type": "markdown",
   "metadata": {},
   "source": [
    "7.\"__after_backward__\":-Called after backpropogation but before updating the weights.\n",
    "    \n",
    "    "
   ]
  },
  {
   "cell_type": "markdown",
   "metadata": {},
   "source": [
    "8.\"__after_step__\":-Called after updating the parameters and before zeroing the gradients.\n",
    "    \n",
    "9.\"__after_batch__\":-Called at the end of batching to do any later tasks if required before the \n",
    "    next one.\n",
    "    \n",
    "10.\"__after_train__\":-Called at the end of every epoch after training process.\n",
    "    \n",
    "11.\"__begin_validate__\":-Called at the beginning of the validation process of an epoch.\n",
    "    \n",
    "12.\"__After_validate__\":-Called at the end of the validation phase of an epoch.\n",
    "    \n",
    "13.\"__after_epoch__\":-called at the end of every epoch to do any clean up if required before next\n",
    "    epoch.\n",
    "    \n",
    "14.\"__after_fit__\":-called at the end of whole training phase.\n",
    "    "
   ]
  },
  {
   "cell_type": "markdown",
   "metadata": {},
   "source": [
    "All these options are listed as attributes under special variable known as event.Typing event \n",
    "gives us the list of all these options."
   ]
  },
  {
   "cell_type": "markdown",
   "metadata": {},
   "source": [
    "Let's look at one of the examples of model reset we had also done before in RNN and LSTMs.We had\n",
    "to call the reset method before starting the training and validation phase of every epoch.Fastai\n",
    "provides a ModelResetter Callback which we can use..Let's look at the source code for the same..."
   ]
  },
  {
   "cell_type": "code",
   "execution_count": 26,
   "metadata": {},
   "outputs": [],
   "source": [
    "#Callback for model resetter\n",
    "class ModelResetter(Callback):\n",
    "    def begin_train(self):    \n",
    "        self.model.reset()\n",
    "    def begin_validate(self): \n",
    "        self.model.reset()"
   ]
  },
  {
   "cell_type": "markdown",
   "metadata": {},
   "source": [
    "The above callback just calls the reset method before training and validation of every epoch."
   ]
  },
  {
   "cell_type": "markdown",
   "metadata": {},
   "source": [
    "Callbacks are mostly short only.Let's look at one of the callbacks which applies Regularization \n",
    "to RNNs.(Activation Regularization(AR) and Temporal Activation regularization(TAR))."
   ]
  },
  {
   "cell_type": "code",
   "execution_count": 27,
   "metadata": {},
   "outputs": [],
   "source": [
    "#Callback for RNN regularization\n",
    "class RNNRegularizer(Callback):\n",
    "    def __init__(self, alpha=0., beta=0.): #passing alpha and beta parameters through the \n",
    "        #callback\n",
    "        self.alpha,self.beta = alpha,beta\n",
    "\n",
    "    def after_pred(self):#called after model makes predictions\n",
    "        self.raw_out,self.out = self.pred[1],self.pred[2]#three continuous predictions stored\n",
    "        #in different variables\n",
    "        self.learn.pred = self.pred[0]\n",
    "\n",
    "    def after_loss(self):#called after loss calculation.To add any penalty to the loss\n",
    "        if not self.training: #Check if it is in training phase.if not return \n",
    "            #else continue\n",
    "            return\n",
    "        if self.alpha != 0.:#check if alpha is non zero\n",
    "            self.learn.loss += self.alpha * self.out[-1].float().pow(2).mean()#update the penalty\n",
    "            #for loss for AR\n",
    "        if self.beta != 0.:#Check if beta is non zero\n",
    "            h = self.raw_out[-1]#get the current state\n",
    "            if len(h)>1:\n",
    "                self.learn.loss += self.beta * (h[:,1:] - h[:,:-1]#add the penalty by taking \n",
    "                                                #mean of the square of the difference between the\n",
    "                                                #activations for TAR\n",
    "                                               ).float().pow(2).mean()"
   ]
  },
  {
   "cell_type": "markdown",
   "metadata": {},
   "source": [
    "Previously we had learnt about AR and TAR in which activations are minimized.We had used the\n",
    "direct callback of RNNRegularizer which applies AR and TAR to our network.Above code shows the \n",
    "source code for that callback.The equation for AR was:-\n",
    "    \n",
    "``` python\n",
    "loss += alpha * activations.pow(2).mean()\n",
    "```\n",
    "and that of TAR is as follows:-\n",
    "    \n",
    "``` python\n",
    "loss += beta * (activations[:,1:] - activations[:,:-1]).pow(2).mean()\n",
    "```"
   ]
  },
  {
   "cell_type": "markdown",
   "metadata": {},
   "source": [
    "\"__after_pred__\" is called after model predicts the output.It is used to transform the output.So\n",
    "three continuous predictions are stored in different variables which will be used next.Next,\n",
    "\"__after_loss__\" is called after the loss calculation and before backpropogation to add some\n",
    "penalty.So we add the penalty to loss in this function for AR and TAR."
   ]
  },
  {
   "cell_type": "markdown",
   "metadata": {},
   "source": [
    "In the above callback we can notice that elements of the training loop can be accessed using \n",
    "self.model and self.pred . Callback gets the attribute if there is no learner associated with it.\n",
    "They can also be accessed using self.learn.model or self.learn.pred.But both of them cannot be\n",
    "used for same purposes.Like for modifying values we need to use self.learn.model but for just \n",
    "reading the value self.learn or self.pred can be used.Some of the main attributes of Learner \n",
    "which can be accessed in a callback are as follows:-\n",
    "    \n",
    "1.__model__:the main model architecture used for training\n",
    "\n",
    "2.__data__:the dataloaders object\n",
    "    \n",
    "3.__loss_func__:the loss function\n",
    "    \n",
    "4.__opt__:the optimizer for updating parameters\n",
    "    \n",
    "5.__opt_func__:optimization function for creating optimizer\n",
    "    \n",
    "6.__cbs__:list for the callbacks\n",
    "    \n",
    "7.__dl__:current dataloaders batch\n",
    "    \n",
    "8.__x/xb__:input from current dataloaders batch.xb generally refers to tuple and x is not tuple.\n",
    "    \n",
    "9.__y/yb__:output from current dataloaders batch.yb is tuple but y is not.\n",
    "    \n",
    "10.__pred__:predictions from last model\n",
    "    \n",
    "11.__loss__:last calculated loss \n",
    "\n",
    "12.__n_epoch__:no of epochs in the training loop\n",
    "    \n",
    "13.__n_iter__:no of iterations in the current dataloader batch\n",
    "    \n",
    "14.__epoch__:current epoch going on \n",
    "    \n",
    "15.__iter__:current iteration number\n"
   ]
  },
  {
   "cell_type": "markdown",
   "metadata": {},
   "source": [
    "Below are the attributes used by TrainEvalCallback and can be used if we don't remove the \n",
    "callback.\n",
    "\n",
    "1.\"__train_iter__\":Number of iterations from the start of the training process.\n",
    "    \n",
    "2.\"__pct_train__\":fraction of training iterations which are over.\n",
    "    \n",
    "3.\"__training__\":To test if we are in training mode or not.\n",
    "\n"
   ]
  },
  {
   "cell_type": "markdown",
   "metadata": {},
   "source": [
    "We know about exceptions in Python.It is an event which can disturb the normal flow of the \n",
    "program and occurs during the execution of the code.It raises an error.Callbacks also interrupt\n",
    "the training flow by raising exceptions."
   ]
  },
  {
   "cell_type": "markdown",
   "metadata": {},
   "source": [
    "### Callback Ordering and Exceptions"
   ]
  },
  {
   "cell_type": "markdown",
   "metadata": {},
   "source": [
    "Some callbacks are meant for raising exceptions or to skip over a batch,an epoch or terminate \n",
    "training.One of the examples shown below is \"__TerminateOnNaNCallback__\" which terminates the \n",
    "training process if loss is an infinite number or a NaN.Below is the source code for the same..."
   ]
  },
  {
   "cell_type": "code",
   "execution_count": 28,
   "metadata": {},
   "outputs": [],
   "source": [
    "class TerminateOnNaNCallback(Callback):\n",
    "    run_before=Recorder\n",
    "    def after_batch(self):#event called when batching is over\n",
    "        if torch.isinf(self.loss) or torch.isnan(self.loss):#checks for nan or infinite loss\n",
    "            raise CancelFitException#terminates training loop"
   ]
  },
  {
   "cell_type": "markdown",
   "metadata": {},
   "source": [
    "\"after_batch\" is called whenever any batch training and validation is over.It checks if the loss\n",
    "is infinite or a Nan.The last line then raises an exception using raise \"__CancelFitException__\"\n",
    "which terminates training at that point only if such condition is encountered.The training loop\n",
    "identifies the exception and doesn't proceed further.Some of the exceptions available are:-\n",
    "\n",
    "1.\"__CancelFitException__\":Skips the batch and goes to \"after_batch\"\n",
    "    \n",
    "2.\"__CancelEpochException__\"Skips the training of the rest epoch and jumps to \"after_train\"\n",
    "\n",
    "3.\"__CancelTrainException__\"Skips the validation of the rest epoch and jumps to \"after_validate\"\n",
    "\n",
    "4.\"__CancelValidException__\"Skips the rest epoch and jumps to \"after_epoch\"\n",
    "\n",
    "5.\"__CancelBatchException__\"Terminates the training and goes to \"after_fit\""
   ]
  },
  {
   "cell_type": "markdown",
   "metadata": {},
   "source": [
    "Callbacks are called in order many times.Like previously in TerminateOnNaNCallback,Recorder runs\n",
    "after_batch to check for the loss.run_before and run_after are the callbacks which can make sure\n",
    "the order of the callbacks as required."
   ]
  },
  {
   "cell_type": "markdown",
   "metadata": {},
   "source": [
    "## Conclusion"
   ]
  },
  {
   "cell_type": "markdown",
   "metadata": {},
   "source": [
    "In this chapter we studied about the different variants of SGD how we can apply SGD,momentum and\n",
    "how it acclerates the training.Developing new optimizers is a wide area of research and \n",
    "continuously new optimizers are getting made.We also explored the fastai's callback systems and \n",
    "how we can tweak training loop using that."
   ]
  },
  {
   "cell_type": "markdown",
   "metadata": {},
   "source": [
    "## Questionnaire"
   ]
  },
  {
   "cell_type": "markdown",
   "metadata": {},
   "source": [
    "1. What is the equation for a step of SGD, in math or code (as you prefer)?\n",
    "1. What do we pass to `cnn_learner` to use a non-default optimizer?\n",
    "1. What are optimizer callbacks?\n",
    "1. What does `zero_grad` do in an optimizer?\n",
    "1. What does `step` do in an optimizer? How is it implemented in the general optimizer?\n",
    "1. Rewrite `sgd_cb` to use the `+=` operator, instead of `add_`.\n",
    "1. What is \"momentum\"? Write out the equation.\n",
    "1. What's a physical analogy for momentum? How does it apply in our model training settings?\n",
    "1. What does a bigger value for momentum do to the gradients?\n",
    "1. What are the default values of momentum for 1cycle training?\n",
    "1. What is RMSProp? Write out the equation.\n",
    "1. What do the squared values of the gradients indicate?\n",
    "1. How does Adam differ from momentum and RMSProp?\n",
    "1. Write out the equation for Adam.\n",
    "1. Calculate the values of `unbias_avg` and `w.avg` for a few batches of dummy values.\n",
    "1. What's the impact of having a high `eps` in Adam?\n",
    "1. Read through the optimizer notebook in fastai's repo, and execute it.\n",
    "1. In what situations do dynamic learning rate methods like Adam change the behavior of weight decay?\n",
    "1. What are the four steps of a training loop?\n",
    "1. Why is using callbacks better than writing a new training loop for each tweak you want to add?\n",
    "1. What aspects of the design of fastai's callback system make it as flexible as copying and pasting bits of code?\n",
    "1. How can you get the list of events available to you when writing a callback?\n",
    "1. Write the `ModelResetter` callback (without peeking).\n",
    "1. How can you access the necessary attributes of the training loop inside a callback? When can you use or not use the shortcuts that go with them?\n",
    "1. How can a callback influence the control flow of the training loop.\n",
    "1. Write the `TerminateOnNaN` callback (without peeking, if possible).\n",
    "1. How do you make sure your callback runs after or before another callback?"
   ]
  },
  {
   "cell_type": "markdown",
   "metadata": {},
   "source": [
    "# Answers:-"
   ]
  },
  {
   "cell_type": "markdown",
   "metadata": {},
   "source": [
    "Ans-1 new_weight=weight-lr X weight.grad\n",
    "\n",
    "Ans-2 \"opt_func\" attribute has to be passed with learner to use any other non-default optimizer.\n",
    "\n",
    "Ans-3 To create a custom acclerated optimizer,all the optimizer modifications can be handled\n",
    "using optimizer callbacks.They are small codes which can be added to the optimizer's step method\n",
    "to update the parameters.\n",
    "\n",
    "Ans-4 zero_grad loops through the parameters and sets the gradients to zero and removes previous\n",
    "gradient history using the detach method.\n",
    "\n",
    "Ans-5 Step method is mainly used for updating the parameters.It loops through the different \n",
    "callbacks and calls them to update the parameters.\n",
    "\n",
    "Ans-6 def sgd_cb(p,lr,**kwargs):\n",
    "           p.data-=lr X p.grad.data\n",
    "\n",
    "Ans-7 momentum is a hyperparameter in an optimizer which is used for accelerating the optimizer.\n",
    "It is passed as a parameter beta which is included in the equation for calculating the moving \n",
    "average of the weight gradient and use that average to update the parameters.\n",
    "\n",
    "    weight.avg = beta * weight.avg + (1-beta) * weight.grad \n",
    "    \n",
    "    new_weight = weight - lr * weight.avg\n",
    "    \n",
    "    Beta is between 0 and 1 and if its 0 then its plain SGD and as it increases ,the momentum \n",
    "    effect increases and optimizer becomes acclerated.\n",
    "     \n",
    "Ans-8 A ball with momentum when thrown from top of a mountain, doesn't exactly follow the \n",
    "direction of the gradient as it comes down.A ball with more momentum is more likely to reach the \n",
    "bottom then with the less one.It is the same case when we are training our model.An optimizer\n",
    "with momentum causes us to follow the direction of the average gradient.A small momentum value\n",
    "causes us to remain close to actual gradients.\n",
    "\n",
    "Ans-9 A high beta value for momentum causes the next step to be in the direction of the average\n",
    "gradient and it would stay in that direction for long unless there is a big change in the \n",
    "gradients.\n",
    "\n",
    "Ans-10 For one cycle training in fit_one_cycle method the default value for momentum is 0.95 in \n",
    "the starting then it gradually decreases to 0.85 and then again increases to 0.95 at the end of \n",
    "training.\n",
    "\n",
    "Ans-11 RMSProp is one of the variants of the SGD with momentum used as optimizer.The difference\n",
    "here is that it uses an adaptive learning rate.Every parameter has its separate learning rate.\n",
    "Instead of the moving average of the gradient value,it uses the moving average of gradients \n",
    "squared and the effective learning rate is also obtained by dividing the current gradient by the\n",
    "square root of the moving average of the gradients squared + epsilon(numerical stability).\n",
    "\n",
    "w.square_avg = alpha * w.square_avg + (1-alpha) * (w.grad ** 2)\n",
    "new_w = w - lr * w.grad / math.sqrt(w.square_avg + eps)\n",
    "\n",
    "Ans-12 The adaptive learning rates of the parameter is decided on the basis that how frequently \n",
    "the gradient for the parameter changes.If only average is taken then it may result in zero as sum\n",
    "of high positives and high negatives.That's why squared values are taken.\n",
    "\n",
    "Ans-13 Adam combines the SGD with momentum and RMSprop together.It uses the average of the \n",
    "gradients as the direction and also divide it by the square root of the moving average of the \n",
    "gradients squared to get an adaptive learning rate.Also it calculates an unbiased moving average\n",
    "instead of normal one.\n",
    "\n",
    "Ans-14 Update step for Adam\n",
    "\n",
    "w.avg = beta1 * w.avg + (1-beta1) * w.grad #calculating moving average\n",
    "\n",
    "unbias_avg = w.avg / (1 - (beta1**(i+1)))#unbiased moving average\n",
    "\n",
    "w.sqr_avg = beta2 * w.sqr_avg + (1-beta2) * (w.grad ** 2)\n",
    "\n",
    "new_w = w - lr * unbias_avg / sqrt(w.sqr_avg + eps)#updating the weight\n",
    "\n",
    "Ans-16 Epsilon is as such used for numerical stability in RMSProp and Adam but a higher value of\n",
    "eps also limits the maximum adaptive learning rate.\n",
    "\n",
    "Ans-18 In standard SGD,weight decay and L2 regularization are equivalent however for adaptive \n",
    "learning rate algorithms like Adam,it is not.Adam introduces a small modification by decoupling\n",
    "the weight decay regularization.\n",
    "\n",
    "Ans-19 Four steps in training loop:-\n",
    "1.Access the data batch wise.\n",
    "2.Pass it through the model and get the outputs.\n",
    "3.Calculate loss from the output predictions and targets using loss function.\n",
    "4.Calculate gradient for the loss function and update the weights\n",
    "\n",
    "Ans-20 For tweaking any training loop different things have to be kept in mind such as different\n",
    "naming conventions,environments and data formats.Callback allows us to modify the training loop \n",
    "in a systematic and proper way where we can add our own code to the training loop in a consistent\n",
    "and well defined manner.\n",
    "\n",
    "Ans-21 A callback is expected to read every small information in the model.That's why it should\n",
    "have full control of when to start or terminate or modify a batch,epoch or the whole training \n",
    "loop.fastai callback system provides all this functionality.\n",
    "\n",
    "Ans-22 We need to type just a variable called event and hit tab in the Notebook to get the list \n",
    "of all the events present.\n",
    "\n",
    "Ans-24 While creating callback we can access the attributes using self.model,self.pred.Most of \n",
    "the attributes have learner associated with them and for reading attribute values the short forms\n",
    "are used.While for writing them short forms cannot be used,learner has to be used.\n",
    "\n",
    "Ans-25 Callbacks can tell the training loop to modify,start or terminate a batch,epoch and \n",
    "training loop.It can detect any exception if it has occured and control flow exceptions can \n",
    "terminate the process and jump to next event then.\n",
    "\n",
    "Ans-26class TerminateOnNaNCallback(Callback):\n",
    "    run_before=Recorder\n",
    "    def after_batch(self):\n",
    "        if torch.isinf(self.loss) or torch.isnan(self.loss):\n",
    "            raise CancelFitException\n",
    "\n",
    "Ans-27 By using run_before and run_after events in callback,we can ensure the order in which the\n",
    "callbacks need to be called.\n"
   ]
  },
  {
   "cell_type": "markdown",
   "metadata": {},
   "source": [
    "### Further Research"
   ]
  },
  {
   "cell_type": "markdown",
   "metadata": {},
   "source": [
    "1. Look up the \"Rectified Adam\" paper, implement it using the general optimizer framework, and try it out. Search for other recent optimizers that work well in practice, and pick one to implement.\n",
    "1. Look at the mixed-precision callback with the documentation. Try to understand what each event and line of code does.\n",
    "1. Implement your own version of ther learning rate finder from scratch. Compare it with fastai's version.\n",
    "1. Look at the source code of the callbacks that ship with fastai. See if you can find one that's similar to what you're looking to do, to get some inspiration."
   ]
  },
  {
   "cell_type": "markdown",
   "metadata": {},
   "source": [
    "## Foundations of Deep Learning: Wrap up"
   ]
  },
  {
   "cell_type": "markdown",
   "metadata": {},
   "source": [
    "Congratulations, you have made it to the end of the \"foundations of deep learning\" section of the book! You now understand how all of fastai's applications and most important architectures are built, and the recommended ways to train them—and you have all the information you need to build these from scratch. While you probably won't need to create your own training loop, or batchnorm layer, for instance, knowing what is going on behind the scenes is very helpful for debugging, profiling, and deploying your solutions.\n",
    "\n",
    "Since you understand the foundations of fastai's applications now, be sure to spend some time digging through the source notebooks and running and experimenting with parts of them. This will give you a better idea of how everything in fastai is developed.\n",
    "\n",
    "In the next section, we will be looking even further under the covers: we'll explore how the actual forward and backward passes of a neural network are done, and we will see what tools are at our disposal to get better performance. We will then continue with a project that brings together all the material in the book, which we will use to build a tool for interpreting convolutional neural networks. Last but not least, we'll finish by building fastai's `Learner` class from scratch."
   ]
  },
  {
   "cell_type": "code",
   "execution_count": null,
   "metadata": {},
   "outputs": [],
   "source": []
  }
 ],
 "metadata": {
  "jupytext": {
   "split_at_heading": true
  },
  "kernelspec": {
   "display_name": "Python 3",
   "language": "python",
   "name": "python3"
  },
  "language_info": {
   "codemirror_mode": {
    "name": "ipython",
    "version": 3
   },
   "file_extension": ".py",
   "mimetype": "text/x-python",
   "name": "python",
   "nbconvert_exporter": "python",
   "pygments_lexer": "ipython3",
   "version": "3.8.5"
  }
 },
 "nbformat": 4,
 "nbformat_minor": 2
}
